{
 "cells": [
  {
   "cell_type": "markdown",
   "id": "714c6318-e0e3-4626-8426-86ad5ed2f187",
   "metadata": {},
   "source": [
    "## User Defined Functions"
   ]
  },
  {
   "cell_type": "code",
   "execution_count": 1,
   "id": "2909287d-cd34-4200-96ba-0ed9da619c01",
   "metadata": {},
   "outputs": [],
   "source": [
    "def greet():\n",
    "    print(\"Hello students\") #No return"
   ]
  },
  {
   "cell_type": "code",
   "execution_count": 3,
   "id": "dcb57f2c-cf64-4368-85ea-a9204bb0ac31",
   "metadata": {},
   "outputs": [
    {
     "name": "stdout",
     "output_type": "stream",
     "text": [
      "Hello students\n"
     ]
    }
   ],
   "source": [
    "greet()"
   ]
  },
  {
   "cell_type": "code",
   "execution_count": 5,
   "id": "c7d29c0c-dd50-4717-b494-e636db030a7f",
   "metadata": {},
   "outputs": [
    {
     "name": "stdout",
     "output_type": "stream",
     "text": [
      "Hello students\n",
      "None\n"
     ]
    }
   ],
   "source": [
    "print(greet()) #returns None by default"
   ]
  },
  {
   "cell_type": "code",
   "execution_count": 7,
   "id": "367996bc-f570-416e-8ad0-9e63adf5894c",
   "metadata": {},
   "outputs": [],
   "source": [
    "def greet(name):\n",
    "    print(\"Hello \", name)"
   ]
  },
  {
   "cell_type": "code",
   "execution_count": 9,
   "id": "9d5c3a2e-d243-4a2a-807a-5044a65d75db",
   "metadata": {},
   "outputs": [
    {
     "name": "stdout",
     "output_type": "stream",
     "text": [
      "Hello  Ajay\n"
     ]
    }
   ],
   "source": [
    "greet(\"Ajay\")"
   ]
  },
  {
   "cell_type": "code",
   "execution_count": 11,
   "id": "29991b42-1f19-4177-9b9c-87321e3e4ea2",
   "metadata": {},
   "outputs": [
    {
     "name": "stdin",
     "output_type": "stream",
     "text": [
      "Enter a number :  2\n"
     ]
    },
    {
     "name": "stdout",
     "output_type": "stream",
     "text": [
      "4\n"
     ]
    }
   ],
   "source": [
    "def square(x):\n",
    "    return x**2\n",
    "\n",
    "n = int(input(\"Enter a number : \"))\n",
    "print(square(n))"
   ]
  },
  {
   "cell_type": "code",
   "execution_count": 13,
   "id": "f71a092a-b6f9-4e43-b573-77e3b2b3d730",
   "metadata": {},
   "outputs": [
    {
     "name": "stdout",
     "output_type": "stream",
     "text": [
      "Student has got : A\n"
     ]
    }
   ],
   "source": [
    "# udf to generate grade based on the avg marks\n",
    "# >80 - A\n",
    "# >60 - B\n",
    "# >50 - C\n",
    "# else - F\n",
    "\n",
    "def result(l):\n",
    "    total_marks = sum(l)\n",
    "    total_sub = len(l)\n",
    "    avg_marks = total_marks / total_sub\n",
    "    if avg_marks >= 80:\n",
    "        return 'A'\n",
    "    elif avg_marks >= 60:\n",
    "        return 'B'\n",
    "    elif avg_marks >= 50:\n",
    "        return 'C'\n",
    "    else:\n",
    "        return 'F'\n",
    "\n",
    "l1 = [89,75,47,100,96]\n",
    "grade = result(l1)\n",
    "print('Student has got :',grade)"
   ]
  },
  {
   "cell_type": "code",
   "execution_count": 15,
   "id": "df2190c2-d05f-44b7-9596-68a9f94415fc",
   "metadata": {},
   "outputs": [
    {
     "name": "stdout",
     "output_type": "stream",
     "text": [
      "[11, 44, 22]\n"
     ]
    }
   ],
   "source": [
    "# udf to generate list of common elements between a given list & tuple\n",
    "\n",
    "def common(l,t):\n",
    "    s1 = set(l)\n",
    "    s2 = set(t)\n",
    "    li = list(s1 & s2)\n",
    "    return li\n",
    "\n",
    "l1= [11,22,33,44,11,22,33]\n",
    "t1 = (11,22,89,44,55)\n",
    "print(common(l1, t1))"
   ]
  },
  {
   "cell_type": "code",
   "execution_count": 17,
   "id": "ccb38a04-e62d-4233-b6aa-836a828909f2",
   "metadata": {},
   "outputs": [
    {
     "name": "stdout",
     "output_type": "stream",
     "text": [
      "[33, 55, 89]\n"
     ]
    }
   ],
   "source": [
    "# udf to generate list of the unique elements of both given list & tuple\n",
    "\n",
    "def unique(l,t):\n",
    "    s1 = set(l)\n",
    "    s2 = set(t)\n",
    "    li = list(s1 ^ s2)\n",
    "    return li\n",
    "\n",
    "l1= [11,22,33,44,11,22,33]\n",
    "t1 = (11,22,89,44,55)\n",
    "print(unique(l1, t1))\n"
   ]
  },
  {
   "cell_type": "code",
   "execution_count": 19,
   "id": "6a064c89-2b5d-4085-9f14-a96c8289bfbe",
   "metadata": {},
   "outputs": [
    {
     "name": "stdout",
     "output_type": "stream",
     "text": [
      "{11: 4, 22: 2, 33: 2, 44: 1, 55: 1, 66: 2}\n"
     ]
    }
   ],
   "source": [
    "# udf to generate dictionary of the frequency count of each element of the list\n",
    "\n",
    "def frequency_count(li):\n",
    "    d = {}\n",
    "    for i in li:\n",
    "        if i not in d:\n",
    "            d[i] = 1\n",
    "        else:\n",
    "            d[i] += 1\n",
    "    return d\n",
    "\n",
    "l1 = [11,22,33,11,11,11,22,33,44,55,66,66]\n",
    "print(frequency_count(l1))"
   ]
  },
  {
   "cell_type": "markdown",
   "id": "f1c6fa9f-feab-40fb-88af-73d939169843",
   "metadata": {},
   "source": [
    "### Docstring"
   ]
  },
  {
   "cell_type": "code",
   "execution_count": 22,
   "id": "9eaf735b-4965-4ece-9b4a-b4fd36dc3a26",
   "metadata": {},
   "outputs": [
    {
     "name": "stdout",
     "output_type": "stream",
     "text": [
      "This function adds two elements\n"
     ]
    }
   ],
   "source": [
    "def add(a, b):\n",
    "    \"\"\"This function adds two elements\"\"\"  #docstring\n",
    "    # This function adds two elements    -->comments\n",
    "    return a + b\n",
    "\n",
    "print(add.__doc__)"
   ]
  },
  {
   "cell_type": "markdown",
   "id": "63bcc44b-fd89-41fa-a83a-327f75adeff0",
   "metadata": {},
   "source": [
    "### Multiple return "
   ]
  },
  {
   "cell_type": "code",
   "execution_count": 25,
   "id": "1155c8a9-fff1-436f-b10f-596562c7dc65",
   "metadata": {},
   "outputs": [
    {
     "name": "stdout",
     "output_type": "stream",
     "text": [
      "(10, 20, 30)\n",
      "<class 'tuple'>\n"
     ]
    }
   ],
   "source": [
    "def test():\n",
    "    a = 10\n",
    "    b = 20\n",
    "    c = 30\n",
    "    return a, b, c\n",
    "\n",
    "re = test()\n",
    "print(re)\n",
    "print(type(re))"
   ]
  },
  {
   "cell_type": "markdown",
   "id": "98310ac5-f36f-47e1-b3f5-a75b761055b3",
   "metadata": {},
   "source": [
    "### unpacking sequence in arguments"
   ]
  },
  {
   "cell_type": "code",
   "execution_count": 28,
   "id": "f18b578a-cab0-47f9-8050-150f70de39c6",
   "metadata": {},
   "outputs": [
    {
     "ename": "TypeError",
     "evalue": "test1() missing 2 required positional arguments: 'b' and 'c'",
     "output_type": "error",
     "traceback": [
      "\u001b[1;31m---------------------------------------------------------------------------\u001b[0m",
      "\u001b[1;31mTypeError\u001b[0m                                 Traceback (most recent call last)",
      "Cell \u001b[1;32mIn[28], line 7\u001b[0m\n\u001b[0;32m      4\u001b[0m     \u001b[38;5;28mprint\u001b[39m(\u001b[38;5;124mf\u001b[39m\u001b[38;5;124m'\u001b[39m\u001b[38;5;124mc is \u001b[39m\u001b[38;5;132;01m{\u001b[39;00mc\u001b[38;5;132;01m}\u001b[39;00m\u001b[38;5;124m'\u001b[39m)\n\u001b[0;32m      6\u001b[0m l1 \u001b[38;5;241m=\u001b[39m [\u001b[38;5;241m10\u001b[39m,\u001b[38;5;241m20\u001b[39m,\u001b[38;5;241m30\u001b[39m]\n\u001b[1;32m----> 7\u001b[0m test1(l1)\n",
      "\u001b[1;31mTypeError\u001b[0m: test1() missing 2 required positional arguments: 'b' and 'c'"
     ]
    }
   ],
   "source": [
    "def test1(a, b, c):\n",
    "    print(f'a is {a}')\n",
    "    print(f'b is {b}')\n",
    "    print(f'c is {c}')\n",
    "\n",
    "l1 = [10,20,30]\n",
    "test1(l1)"
   ]
  },
  {
   "cell_type": "code",
   "execution_count": null,
   "id": "12f5a9cc-97eb-46ec-bf5b-6d7a50c6d1f3",
   "metadata": {},
   "outputs": [],
   "source": [
    "def test1(a, b, c):\n",
    "    print(f'a is {a}')\n",
    "    print(f'b is {b}')\n",
    "    print(f'c is {c}')\n",
    "\n",
    "l1 = [10,20,30]\n",
    "test1(l1[0], l1[1], l1[2])"
   ]
  },
  {
   "cell_type": "code",
   "execution_count": 31,
   "id": "3e0b2f73-639c-42bb-add0-9f740ff3df08",
   "metadata": {},
   "outputs": [
    {
     "name": "stdout",
     "output_type": "stream",
     "text": [
      "a is 10\n",
      "b is 20\n",
      "c is 30\n"
     ]
    }
   ],
   "source": [
    "def test1(a, b, c):\n",
    "    print(f'a is {a}')\n",
    "    print(f'b is {b}')\n",
    "    print(f'c is {c}')\n",
    "\n",
    "l1 = [10,20,30]\n",
    "test1(*l1)"
   ]
  },
  {
   "cell_type": "code",
   "execution_count": 33,
   "id": "37ab2804-9977-49ec-b924-5e479bcc8bde",
   "metadata": {},
   "outputs": [
    {
     "ename": "TypeError",
     "evalue": "test1() takes 3 positional arguments but 6 were given",
     "output_type": "error",
     "traceback": [
      "\u001b[1;31m---------------------------------------------------------------------------\u001b[0m",
      "\u001b[1;31mTypeError\u001b[0m                                 Traceback (most recent call last)",
      "Cell \u001b[1;32mIn[33], line 7\u001b[0m\n\u001b[0;32m      4\u001b[0m     \u001b[38;5;28mprint\u001b[39m(\u001b[38;5;124mf\u001b[39m\u001b[38;5;124m'\u001b[39m\u001b[38;5;124mc is \u001b[39m\u001b[38;5;132;01m{\u001b[39;00mc\u001b[38;5;132;01m}\u001b[39;00m\u001b[38;5;124m'\u001b[39m)\n\u001b[0;32m      6\u001b[0m l1 \u001b[38;5;241m=\u001b[39m [\u001b[38;5;241m10\u001b[39m,\u001b[38;5;241m20\u001b[39m,\u001b[38;5;241m30\u001b[39m,\u001b[38;5;241m40\u001b[39m,\u001b[38;5;241m50\u001b[39m,\u001b[38;5;241m60\u001b[39m]\n\u001b[1;32m----> 7\u001b[0m test1(\u001b[38;5;241m*\u001b[39ml1)\n",
      "\u001b[1;31mTypeError\u001b[0m: test1() takes 3 positional arguments but 6 were given"
     ]
    }
   ],
   "source": [
    "def test1(a, b, c):\n",
    "    print(f'a is {a}')\n",
    "    print(f'b is {b}')\n",
    "    print(f'c is {c}')\n",
    "\n",
    "l1 = [10,20,30,40,50,60]\n",
    "test1(*l1)"
   ]
  },
  {
   "cell_type": "markdown",
   "id": "4a1e47f4-7187-48c4-9365-8f150d237a1b",
   "metadata": {},
   "source": [
    "## Pass by value & Pass by reference"
   ]
  },
  {
   "cell_type": "markdown",
   "id": "3b213d5c-c18a-4126-bb74-d4b60a27cd17",
   "metadata": {},
   "source": [
    "### immutable objects (int, float, string,tuple,etc.) : pass by value"
   ]
  },
  {
   "cell_type": "code",
   "execution_count": 37,
   "id": "8a595ccd-1bde-4322-bd62-de5f6c4dabf9",
   "metadata": {},
   "outputs": [
    {
     "name": "stdout",
     "output_type": "stream",
     "text": [
      "Before the function call :20\n",
      "After the function call :20\n"
     ]
    }
   ],
   "source": [
    "def change(a):\n",
    "    a += 10\n",
    "        \n",
    "a = 20\n",
    "print(f'Before the function call :{a}')\n",
    "change(a)\n",
    "print(f'After the function call :{a}') "
   ]
  },
  {
   "cell_type": "code",
   "execution_count": 39,
   "id": "359efbe3-9e23-464a-818b-c9bc869295d0",
   "metadata": {},
   "outputs": [
    {
     "name": "stdout",
     "output_type": "stream",
     "text": [
      "Id before function call: 140714978716376\n",
      "Before the function call :10\n",
      "Id before update: 140714978716376\n",
      "Id after update: 140714978716696\n",
      "After the function call :10\n"
     ]
    }
   ],
   "source": [
    "def change(a):\n",
    "    print(f'Id before update: {id(a)}')\n",
    "    a += 10\n",
    "    print(f'Id after update: {id(a)}')\n",
    "\n",
    "a = 10    \n",
    "print(f'Id before function call: {id(a)}')\n",
    "print(f'Before the function call :{a}')\n",
    "change(a)\n",
    "print(f'After the function call :{a}') "
   ]
  },
  {
   "cell_type": "markdown",
   "id": "767722b7-87a4-4b4b-a2e4-131ce2d34b92",
   "metadata": {},
   "source": [
    "### mutable objects (list, set, dictionary) : pass by reference"
   ]
  },
  {
   "cell_type": "code",
   "execution_count": 42,
   "id": "9c844c64-c4aa-4b3a-8fb1-9137b298fd2a",
   "metadata": {},
   "outputs": [
    {
     "name": "stdout",
     "output_type": "stream",
     "text": [
      "List Inside the function : [100]\n",
      "List outside the function : [100]\n"
     ]
    }
   ],
   "source": [
    "def change_list(l1):\n",
    "    l1[0] = 100\n",
    "    print(f'List Inside the function : {l1}')\n",
    "\n",
    "l2 = [56]\n",
    "change_list(l2)\n",
    "print(f'List outside the function : {l2}')"
   ]
  },
  {
   "cell_type": "code",
   "execution_count": 44,
   "id": "956ad59c-a3c1-4b2a-8e9f-ea48a1fcc439",
   "metadata": {},
   "outputs": [
    {
     "name": "stdout",
     "output_type": "stream",
     "text": [
      "List before the function call: [22, 33, 45]\n",
      "List Inside the function : [22, 33, 45, 10]\n",
      "List after the function call: [22, 33, 45, 10]\n"
     ]
    }
   ],
   "source": [
    "def add_list(l1):\n",
    "    l1.append(10)\n",
    "    print(f'List Inside the function : {l1}')\n",
    "\n",
    "l2 = [22,33,45]\n",
    "print(f'List before the function call: {l2}')\n",
    "add_list(l2)\n",
    "print(f'List after the function call: {l2}')"
   ]
  },
  {
   "cell_type": "markdown",
   "id": "89a08f5a-73e0-4aff-8cff-54eb6bfb7ae0",
   "metadata": {},
   "source": [
    "## scope of a varible"
   ]
  },
  {
   "cell_type": "code",
   "execution_count": 47,
   "id": "b8bcf541-9b8b-4bd3-83d1-761e0fdc407d",
   "metadata": {},
   "outputs": [
    {
     "name": "stdout",
     "output_type": "stream",
     "text": [
      "x before the function call : 20\n",
      "x inside the function : 200\n",
      "x after the function call : 20\n"
     ]
    }
   ],
   "source": [
    "x = 20 #global variable\n",
    "def fun():\n",
    "    x = 200  #local to the fun()\n",
    "    print(f'x inside the function : {x}')\n",
    "\n",
    "print(f'x before the function call : {x}')\n",
    "fun()\n",
    "print(f'x after the function call : {x}')"
   ]
  },
  {
   "cell_type": "code",
   "execution_count": 49,
   "id": "5bd1b0fb-b3e8-4422-bd11-710e912f8a23",
   "metadata": {},
   "outputs": [
    {
     "name": "stdout",
     "output_type": "stream",
     "text": [
      "x before the function call : 20\n",
      "x inside the function : 200\n",
      "x after the function call : 200\n"
     ]
    }
   ],
   "source": [
    "x = 20 #global variable\n",
    "def fun():\n",
    "    global x # to access the global variable\n",
    "    x = 200  #local to the fun()\n",
    "    print(f'x inside the function : {x}')\n",
    "\n",
    "print(f'x before the function call : {x}')\n",
    "fun()\n",
    "print(f'x after the function call : {x}')"
   ]
  },
  {
   "cell_type": "markdown",
   "id": "c49f1745-1b7c-4913-921e-0b0803c50364",
   "metadata": {},
   "source": [
    "## lambda function"
   ]
  },
  {
   "cell_type": "code",
   "execution_count": 52,
   "id": "fe7ee396-b954-4edf-a885-304f3ce848d6",
   "metadata": {},
   "outputs": [],
   "source": [
    "# udf to get square of a number\n",
    "def square(x):\n",
    "    return x**2"
   ]
  },
  {
   "cell_type": "code",
   "execution_count": 54,
   "id": "31beb5f7-9a3f-4b43-97c9-afdfba5929b1",
   "metadata": {},
   "outputs": [
    {
     "data": {
      "text/plain": [
       "100"
      ]
     },
     "execution_count": 54,
     "metadata": {},
     "output_type": "execute_result"
    }
   ],
   "source": [
    "square(10)"
   ]
  },
  {
   "cell_type": "code",
   "execution_count": 56,
   "id": "47d07cfe-3e24-4857-ad7c-5ff990ef2da1",
   "metadata": {},
   "outputs": [],
   "source": [
    "# lambda function for the same:\n",
    "sq = lambda x: x**2 #name is givev to this lambda function"
   ]
  },
  {
   "cell_type": "code",
   "execution_count": 58,
   "id": "46c7d628-c7a3-40aa-9a2e-5611884dcde4",
   "metadata": {},
   "outputs": [
    {
     "data": {
      "text/plain": [
       "100"
      ]
     },
     "execution_count": 58,
     "metadata": {},
     "output_type": "execute_result"
    }
   ],
   "source": [
    "sq(10)"
   ]
  },
  {
   "cell_type": "code",
   "execution_count": 60,
   "id": "9bde6284-622e-42ce-9b4d-087b966b6e98",
   "metadata": {},
   "outputs": [
    {
     "name": "stdout",
     "output_type": "stream",
     "text": [
      "200\n"
     ]
    }
   ],
   "source": [
    "# As lambda is anonymous function, it can be used without giving name\n",
    "print((lambda x, y: x*y)(10,20))"
   ]
  },
  {
   "cell_type": "markdown",
   "id": "9cbb5203-bf1c-4eda-882a-736c55677fdf",
   "metadata": {},
   "source": [
    "## Higher Order Functions : \n",
    "### Functions that are taking function as an argument"
   ]
  },
  {
   "cell_type": "markdown",
   "id": "e4241cdd-5f4f-46a0-afb9-e981a2326827",
   "metadata": {},
   "source": [
    "## map()\n",
    "### It applies a given function to all the items in an input list (or any other iterable) and returns a map object (an iterator)."
   ]
  },
  {
   "cell_type": "code",
   "execution_count": 64,
   "id": "c076e2a3-9f13-4a83-b453-7406c490c97f",
   "metadata": {},
   "outputs": [
    {
     "name": "stdout",
     "output_type": "stream",
     "text": [
      "[1, 8, 27, 64, 125, 216]\n"
     ]
    }
   ],
   "source": [
    "# WAP to get cube of all the elements of the list.\n",
    "def cube(x):\n",
    "    return x*x*x\n",
    "\n",
    "l = [1,2,3,4,5,6]   \n",
    "l1 = []\n",
    "for i in l:\n",
    "    l1.append(cube(i))  #without using map()\n",
    "print(l1)"
   ]
  },
  {
   "cell_type": "code",
   "execution_count": 66,
   "id": "ac18889f-4b2c-4d23-a983-65b98c25e85a",
   "metadata": {},
   "outputs": [
    {
     "name": "stdout",
     "output_type": "stream",
     "text": [
      "[1, 8, 27, 64, 125, 216]\n"
     ]
    }
   ],
   "source": [
    "# The same can be done with using map() as follows:\n",
    "l = [1,2,3,4,5,6]\n",
    "l1 = list(map(cube,l))  #udf inside map()\n",
    "print(l1)"
   ]
  },
  {
   "cell_type": "code",
   "execution_count": 68,
   "id": "c954bb2d-923a-4367-8ea6-e2c205274a75",
   "metadata": {},
   "outputs": [
    {
     "name": "stdout",
     "output_type": "stream",
     "text": [
      "[2, 5, 3, 3, 3]\n"
     ]
    }
   ],
   "source": [
    "s1 = ['hi','hello','how','are','you']\n",
    "ans = list(map(len,s1)) #inbuilt function inside map()\n",
    "print(ans)"
   ]
  },
  {
   "cell_type": "code",
   "execution_count": 70,
   "id": "91d33b28-f536-4654-ae10-02dde9375bb9",
   "metadata": {},
   "outputs": [
    {
     "name": "stdout",
     "output_type": "stream",
     "text": [
      "[10, 20, 30, 40, 50]\n"
     ]
    }
   ],
   "source": [
    "l1 = [1,2,3,4,5]\n",
    "l2 = [10,10,10,10,10]\n",
    "ans = list(map(lambda x,y: x*y, l1,l2)) #lambda function inside map()\n",
    "print(ans)"
   ]
  },
  {
   "cell_type": "code",
   "execution_count": 72,
   "id": "f424f9ba-5508-42ab-8319-1f93519f19de",
   "metadata": {},
   "outputs": [
    {
     "name": "stdin",
     "output_type": "stream",
     "text": [
      "Enter marks of five subjects sepertaed by comma:  21,23,25,24,21\n"
     ]
    },
    {
     "name": "stdout",
     "output_type": "stream",
     "text": [
      "25\n"
     ]
    }
   ],
   "source": [
    "mark = input(\"Enter marks of five subjects sepertaed by comma: \").split(',')\n",
    "mark = list(map(int,mark))\n",
    "ans = max(mark)\n",
    "print(ans)"
   ]
  },
  {
   "cell_type": "code",
   "execution_count": 74,
   "id": "f3ec6546-c7b7-4a40-b358-0bdd6a6fe215",
   "metadata": {},
   "outputs": [
    {
     "name": "stdout",
     "output_type": "stream",
     "text": [
      "{1: 1, 2: 4, 3: 9, 4: 16, 5: 25, 6: 36}\n"
     ]
    }
   ],
   "source": [
    "li = [1,2,3,4,5,6]\n",
    "d = dict(map(lambda x: (x,x**2),li))\n",
    "print(d)"
   ]
  },
  {
   "cell_type": "code",
   "execution_count": 76,
   "id": "9d969070-a84f-48a7-bb17-970dca5a6b55",
   "metadata": {},
   "outputs": [
    {
     "name": "stdout",
     "output_type": "stream",
     "text": [
      "{1: 'RIYA', 2: 'KEYUR', 3: 'ARMAAN'}\n"
     ]
    }
   ],
   "source": [
    "d1 = {1:'riya', 2:'keyur', 3:'armaan'}\n",
    "d2 = dict(map(lambda i: (i[0],i[1].upper()),d1.items()))\n",
    "print(d2)"
   ]
  },
  {
   "cell_type": "markdown",
   "id": "1629f107-869d-47a7-aaa2-79311cd35ee3",
   "metadata": {},
   "source": [
    "## filter()\n",
    "### It is used to create an iterator that returns elements from the input iterable (e.g., list, tuple, etc.) for which a function returns True."
   ]
  },
  {
   "cell_type": "code",
   "execution_count": 79,
   "id": "ccf69953-01cf-45b9-bfaf-f878bdb82807",
   "metadata": {},
   "outputs": [
    {
     "name": "stdout",
     "output_type": "stream",
     "text": [
      "[2, 4, 6, 8, 10]\n"
     ]
    }
   ],
   "source": [
    "def is_even(n):\n",
    "    return n % 2 == 0\n",
    "\n",
    "l1 = [1, 2, 3, 4, 5, 6, 7, 8, 9, 10]\n",
    "l2 = []\n",
    "for i in l1:  \n",
    "    if is_even(i):       #without using filter()\n",
    "        l2.append(i)\n",
    "print(l2)"
   ]
  },
  {
   "cell_type": "code",
   "execution_count": 81,
   "id": "f84432a5-11b5-4c26-908e-03160e0f7a39",
   "metadata": {},
   "outputs": [
    {
     "name": "stdout",
     "output_type": "stream",
     "text": [
      "[2, 4, 6, 8, 10]\n"
     ]
    }
   ],
   "source": [
    "# The same can be done using filter()\n",
    "l1 = [1, 2, 3, 4, 5, 6, 7, 8, 9, 10]\n",
    "l2 = list(filter(is_even,l1))\n",
    "print(l2)"
   ]
  },
  {
   "cell_type": "code",
   "execution_count": 83,
   "id": "008d8a35-071a-42d9-9ca1-2bf65babf139",
   "metadata": {},
   "outputs": [
    {
     "name": "stdout",
     "output_type": "stream",
     "text": [
      "['nayan', 'liril']\n"
     ]
    }
   ],
   "source": [
    "s = ['nayan','keyur','jay','seema','liril']\n",
    "ans = list(filter(lambda x: x == x[::-1], s))\n",
    "print(ans)"
   ]
  },
  {
   "cell_type": "code",
   "execution_count": 85,
   "id": "96c91794-87c6-437a-9865-c09949ab0438",
   "metadata": {},
   "outputs": [
    {
     "name": "stdin",
     "output_type": "stream",
     "text": [
      "Enter marks of five subjects sepertaed by comma:  41,23,25,43,50\n"
     ]
    },
    {
     "name": "stdout",
     "output_type": "stream",
     "text": [
      "[41, 43, 50]\n"
     ]
    }
   ],
   "source": [
    "mark = input(\"Enter marks of five subjects sepertaed by comma: \").split(',')\n",
    "mark = list(map(int,mark))\n",
    "ans = list(filter(lambda x: x>40, mark))\n",
    "print(ans)"
   ]
  },
  {
   "cell_type": "code",
   "execution_count": 87,
   "id": "c254c79f-df20-43c0-a09c-b490fd30dc36",
   "metadata": {},
   "outputs": [
    {
     "name": "stdout",
     "output_type": "stream",
     "text": [
      "['apple', 'banana', 'grape']\n"
     ]
    }
   ],
   "source": [
    "def longer_than_four(s):\n",
    "    return len(s) > 4\n",
    "\n",
    "l1 = [\"apple\", \"banana\", \"kiwi\", \"pear\", \"grape\"]\n",
    "ans = list(filter(longer_than_four, l1))\n",
    "print(ans)"
   ]
  },
  {
   "cell_type": "code",
   "execution_count": 89,
   "id": "a48ca75b-6e1e-4903-aa0b-930b89c86ebf",
   "metadata": {},
   "outputs": [
    {
     "name": "stdout",
     "output_type": "stream",
     "text": [
      "[2, 3, 5, 7]\n"
     ]
    }
   ],
   "source": [
    "def is_prime(n):\n",
    "    if n <= 1:\n",
    "        return False\n",
    "    for i in range(2, int(n**0.5) + 1):\n",
    "        if n % i == 0:\n",
    "            return False\n",
    "    return True\n",
    "\n",
    "li = [2, 3, 4, 5, 6, 7, 8, 9, 10]\n",
    "ans = list(filter(is_prime, li))\n",
    "print(ans)"
   ]
  },
  {
   "cell_type": "code",
   "execution_count": 91,
   "id": "6ca987da-422c-4c3e-add1-db6e47a386ac",
   "metadata": {},
   "outputs": [
    {
     "name": "stdout",
     "output_type": "stream",
     "text": [
      "[33, 11, 22]\n"
     ]
    }
   ],
   "source": [
    "l1 = [11,22,33,44,11,22,36,14,11,11,11,22,2,2,22,33,33]\n",
    "ans = list(set(filter(lambda x:l1.count(x)>2 and x%11==0, l1)))\n",
    "print(ans)"
   ]
  },
  {
   "cell_type": "markdown",
   "id": "b2fbbf75-efa4-426f-8887-2ac9719286fb",
   "metadata": {},
   "source": [
    "## readuce()\n",
    "### reduce() is a function from the functools module in Python. \n",
    "### It's used to apply a rolling computation to sequential pairs of values in a list. \n",
    "### It \"reduces\" a list to a single value by iteratively applying a binary function provided."
   ]
  },
  {
   "cell_type": "code",
   "execution_count": 94,
   "id": "7ae970b4-c9cd-440b-891a-525bc51a9600",
   "metadata": {},
   "outputs": [
    {
     "name": "stdout",
     "output_type": "stream",
     "text": [
      "15\n"
     ]
    }
   ],
   "source": [
    "from functools import reduce \n",
    "l = [1,2,3,4,5]\n",
    "ans = reduce(lambda x, y: x+y, l)\n",
    "print(ans)"
   ]
  },
  {
   "cell_type": "code",
   "execution_count": 96,
   "id": "6ebd3937-f6c1-4421-ac1e-23ab8849e682",
   "metadata": {},
   "outputs": [
    {
     "name": "stdout",
     "output_type": "stream",
     "text": [
      "hi hello how are you\n"
     ]
    }
   ],
   "source": [
    "from functools import reduce \n",
    "s1 = ['hi','hello','how','are','you']\n",
    "ans = reduce(lambda x, y: x+\" \"+y, s1)\n",
    "print(ans)"
   ]
  }
 ],
 "metadata": {
  "kernelspec": {
   "display_name": "Python 3 (ipykernel)",
   "language": "python",
   "name": "python3"
  },
  "language_info": {
   "codemirror_mode": {
    "name": "ipython",
    "version": 3
   },
   "file_extension": ".py",
   "mimetype": "text/x-python",
   "name": "python",
   "nbconvert_exporter": "python",
   "pygments_lexer": "ipython3",
   "version": "3.12.7"
  }
 },
 "nbformat": 4,
 "nbformat_minor": 5
}
