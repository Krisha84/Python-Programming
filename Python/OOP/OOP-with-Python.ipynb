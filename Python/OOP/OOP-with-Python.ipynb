{
 "cells": [
  {
   "cell_type": "code",
   "execution_count": 1,
   "id": "8f8d6449-6343-45e1-ba31-f8e79ce2e4fa",
   "metadata": {},
   "outputs": [
    {
     "name": "stdout",
     "output_type": "stream",
     "text": [
      "Address of object-1 : 2321738988960\n",
      "Reference of self parameter is: 2321738988960\n",
      "Name is:  Krisha\n"
     ]
    }
   ],
   "source": [
    "class Person:\n",
    "    def print_name(self, name):\n",
    "        print(\"Reference of self parameter is:\", id(self))\n",
    "        print(\"Name is: \",name)\n",
    "\n",
    "p1 = Person()\n",
    "print(\"Address of object-1 :\", id(p1))\n",
    "p1.print_name(\"Krisha\")"
   ]
  },
  {
   "cell_type": "code",
   "execution_count": 3,
   "id": "68642369-0d61-4d42-b538-5d4fc066cde2",
   "metadata": {},
   "outputs": [
    {
     "name": "stdout",
     "output_type": "stream",
     "text": [
      "Good Morning..!!\n"
     ]
    }
   ],
   "source": [
    "class Demo:\n",
    "    def greet(x):\n",
    "        print(\"Good Morning..!!\")\n",
    "\n",
    "obj1 = Demo()\n",
    "obj1.greet()"
   ]
  },
  {
   "cell_type": "code",
   "execution_count": 3,
   "id": "b56cd872-d8c5-4feb-bd9c-039a2e5ed71f",
   "metadata": {},
   "outputs": [
    {
     "name": "stdout",
     "output_type": "stream",
     "text": [
      "Name is :Krisha, Busa  \n"
     ]
    }
   ],
   "source": [
    "class Person:\n",
    "    def __init__(self, fname, lname): #Parameterized \n",
    "        self.First_Name = fname\n",
    "        self.Last_Name = lname\n",
    "\n",
    "    def print_details(self):\n",
    "        print(f\"Name is :{self.First_Name}, {self.Last_Name}  \")\n",
    "\n",
    "p1 = Person(\"Krisha\",\"Busa\")\n",
    "p1.print_details()"
   ]
  },
  {
   "cell_type": "code",
   "execution_count": 7,
   "id": "440f2617-174a-4469-861d-8232f5f142ea",
   "metadata": {},
   "outputs": [
    {
     "name": "stdout",
     "output_type": "stream",
     "text": [
      "This is constructor -3 \n"
     ]
    }
   ],
   "source": [
    "class Person:\n",
    "    def __init__(self): #Non -Parameterized \n",
    "        print(\"This is constructor -1 \")\n",
    "\n",
    "    def __init__(self, x): #Non -Parameterized \n",
    "        print(\"This is constructor -2 \")\n",
    "\n",
    "    def __init__(self, x, y): #Non -Parameterized \n",
    "        print(\"This is constructor -3 \")\n",
    "\n",
    "o1 = Person(10,20)"
   ]
  },
  {
   "cell_type": "code",
   "execution_count": 9,
   "id": "083702aa-4dd4-452a-8b78-8bff500c5524",
   "metadata": {},
   "outputs": [],
   "source": [
    "# def __init__(self):\n",
    "#     pass"
   ]
  },
  {
   "cell_type": "code",
   "execution_count": 11,
   "id": "cd47372f-baad-4fb2-96eb-62fbe5a3b4f3",
   "metadata": {},
   "outputs": [
    {
     "name": "stdout",
     "output_type": "stream",
     "text": [
      "3.14\n",
      "12.56\n"
     ]
    }
   ],
   "source": [
    "class Circle:\n",
    "    def __init__(self, r):\n",
    "        self.radius = r\n",
    "\n",
    "    def findarea(self):\n",
    "        return 3.14 * self.radius * self.radius\n",
    "\n",
    "c1 = Circle(1)\n",
    "print(c1.findarea()) #Circle.findarea(id(c1))\n",
    "c2 = Circle(2)\n",
    "print(c2.findarea())"
   ]
  },
  {
   "cell_type": "code",
   "execution_count": 13,
   "id": "01ab8b28-6c53-4051-9d6a-617536c9154d",
   "metadata": {},
   "outputs": [
    {
     "name": "stdout",
     "output_type": "stream",
     "text": [
      "After deposit:  15000\n",
      "Balance is insufficient.\n"
     ]
    }
   ],
   "source": [
    "class BankAccount:\n",
    "    def __init__(self, name, balance):\n",
    "        self.Name = name\n",
    "        self.Balance = balance  \n",
    "\n",
    "    def deposit(self, amount): \n",
    "        self.Balance = self.Balance + amount\n",
    "        print(\"After deposit: \",self.Balance)\n",
    "\n",
    "    def withdraw(self, amount):\n",
    "        if self.Balance >= amount:\n",
    "            self.Balance = self.Balance - amount\n",
    "            print(\"After withdraw: \",self.Balance)\n",
    "\n",
    "        else:\n",
    "            print(\"Balance is insufficient.\")\n",
    "\n",
    "ac1 = BankAccount(\"XYZ\", 10000)\n",
    "ac1.deposit(5000)\n",
    "ac1.withdraw(20000)"
   ]
  },
  {
   "cell_type": "code",
   "execution_count": 15,
   "id": "3cf112bd-03e9-4364-87ae-b7dab2618339",
   "metadata": {},
   "outputs": [
    {
     "name": "stdout",
     "output_type": "stream",
     "text": [
      "Name of the student is: Riya\n",
      "SPI is : 8.9\n",
      "University is : DU\n",
      "Name of the student is: xyz\n",
      "SPI is : 9\n",
      "University is : Parul\n",
      "Parul\n"
     ]
    }
   ],
   "source": [
    "class Student:\n",
    "    University = \"DU\" #Class attribute\n",
    "    def __init__(self, name, spi):\n",
    "        self.name = name #instance attributes\n",
    "        self.spi = spi\n",
    "\n",
    "    def printdetails(self):\n",
    "        print(\"Name of the student is:\", self.name)\n",
    "        print(\"SPI is :\", self.spi)\n",
    "        print(\"University is :\", Student.University)\n",
    "\n",
    "s1 = Student(\"Riya\", 8.9)\n",
    "s1.printdetails()\n",
    "\n",
    "Student.University = \"Parul\"\n",
    "\n",
    "s2 = Student(\"xyz\",9)\n",
    "s2.printdetails()\n",
    "\n",
    "print(s1.University)"
   ]
  },
  {
   "cell_type": "code",
   "execution_count": 17,
   "id": "40579461-898e-4b39-8369-cf4bf76b2746",
   "metadata": {},
   "outputs": [
    {
     "name": "stdout",
     "output_type": "stream",
     "text": [
      "3\n"
     ]
    },
    {
     "ename": "AttributeError",
     "evalue": "'Date' object has no attribute '_Date__day'",
     "output_type": "error",
     "traceback": [
      "\u001b[1;31m---------------------------------------------------------------------------\u001b[0m",
      "\u001b[1;31mAttributeError\u001b[0m                            Traceback (most recent call last)",
      "Cell \u001b[1;32mIn[17], line 16\u001b[0m\n\u001b[0;32m     13\u001b[0m         \u001b[38;5;28mself\u001b[39m\u001b[38;5;241m.\u001b[39m__displaydate()\n\u001b[0;32m     15\u001b[0m d1 \u001b[38;5;241m=\u001b[39m Date(\u001b[38;5;241m3\u001b[39m, \u001b[38;5;241m3\u001b[39m, \u001b[38;5;241m2025\u001b[39m)\n\u001b[1;32m---> 16\u001b[0m d1\u001b[38;5;241m.\u001b[39mdisplay()\n",
      "Cell \u001b[1;32mIn[17], line 13\u001b[0m, in \u001b[0;36mDate.display\u001b[1;34m(self)\u001b[0m\n\u001b[0;32m     12\u001b[0m \u001b[38;5;28;01mdef\u001b[39;00m \u001b[38;5;21mdisplay\u001b[39m(\u001b[38;5;28mself\u001b[39m):\n\u001b[1;32m---> 13\u001b[0m     \u001b[38;5;28mself\u001b[39m\u001b[38;5;241m.\u001b[39m__displaydate()\n",
      "Cell \u001b[1;32mIn[17], line 9\u001b[0m, in \u001b[0;36mDate.__displaydate\u001b[1;34m(self)\u001b[0m\n\u001b[0;32m      7\u001b[0m \u001b[38;5;28;01mdef\u001b[39;00m \u001b[38;5;21m__displaydate\u001b[39m(\u001b[38;5;28mself\u001b[39m):\n\u001b[0;32m      8\u001b[0m     \u001b[38;5;28mprint\u001b[39m(\u001b[38;5;28mself\u001b[39m\u001b[38;5;241m.\u001b[39m__month)\n\u001b[1;32m----> 9\u001b[0m     \u001b[38;5;28mprint\u001b[39m(\u001b[38;5;28mself\u001b[39m\u001b[38;5;241m.\u001b[39m__day)\n\u001b[0;32m     10\u001b[0m     \u001b[38;5;28mprint\u001b[39m(\u001b[38;5;28mself\u001b[39m\u001b[38;5;241m.\u001b[39m__year)\n",
      "\u001b[1;31mAttributeError\u001b[0m: 'Date' object has no attribute '_Date__day'"
     ]
    }
   ],
   "source": [
    "class Date:\n",
    "    def __init__(self,d,m,y):\n",
    "        self._day = d\n",
    "        self.__month = m\n",
    "        self.__year = y\n",
    "\n",
    "    def __displaydate(self):\n",
    "        print(self.__month)\n",
    "        print(self.__day)\n",
    "        print(self.__year)\n",
    "\n",
    "    def display(self):\n",
    "        self.__displaydate()\n",
    "    \n",
    "d1 = Date(3, 3, 2025)\n",
    "d1.display()"
   ]
  },
  {
   "cell_type": "code",
   "execution_count": 5,
   "id": "ddde3bbf-0779-4334-808c-3af8746dd129",
   "metadata": {},
   "outputs": [
    {
     "name": "stdout",
     "output_type": "stream",
     "text": [
      "5\n"
     ]
    }
   ],
   "source": [
    "class Student:\n",
    "    University = \"\" \n",
    "    def __init__(self, name, spi):\n",
    "        self.name = name \n",
    "        self.spi = spi\n",
    "\n",
    "    def printdetails(self):\n",
    "        print(\"Name of the student is:\", self.name)\n",
    "        print(\"SPI is :\", self.spi)\n",
    "        print(\"University is :\", Student.University)\n",
    "        \n",
    "    @classmethod\n",
    "    def set_uni_name(cls,uname):\n",
    "        cls.University = uname\n",
    "\n",
    "    @staticmethod\n",
    "    def add(a,b):\n",
    "        print(a+b)\n",
    "\n",
    "s1 = Student(\"krisha\", 8.7)\n",
    "Student.add(2,3)"
   ]
  },
  {
   "cell_type": "code",
   "execution_count": 21,
   "id": "66a2a3b5-20bb-40e1-b35b-419940afb5c3",
   "metadata": {},
   "outputs": [
    {
     "name": "stdout",
     "output_type": "stream",
     "text": [
      "Xyz abc\n",
      "Xyz abc 2015\n"
     ]
    }
   ],
   "source": [
    "class Person:\n",
    "    def __init__(self, fnm, lnm):\n",
    "        self.FirstName = fnm\n",
    "        self.LastName = lnm\n",
    "\n",
    "    def displayPerson(self):\n",
    "        print(self.FirstName, self.LastName)\n",
    "\n",
    "class Student(Person):\n",
    "    def __init__(self, fnm, lnm , gyear):\n",
    "        self.Graduate_year = gyear\n",
    "        super().__init__(fnm, lnm)\n",
    "\n",
    "    def displayStudent(self):\n",
    "        print(self.FirstName, self.LastName, self.Graduate_year)\n",
    "\n",
    "s1 = Student(\"Xyz\", \"abc\", 2015)\n",
    "s1.displayPerson()\n",
    "s1.displayStudent()"
   ]
  },
  {
   "cell_type": "code",
   "execution_count": 23,
   "id": "0846171b-d827-437d-8404-33a7048158be",
   "metadata": {},
   "outputs": [
    {
     "name": "stdout",
     "output_type": "stream",
     "text": [
      "Hello  XYZ\n"
     ]
    }
   ],
   "source": [
    "class Student:\n",
    "    def greet(self, name = \"All\"):\n",
    "        print(\"Hello \", name)\n",
    "s1 = Student()\n",
    "s1.greet(\"XYZ\")"
   ]
  },
  {
   "cell_type": "code",
   "execution_count": 25,
   "id": "47928d7f-3a3d-4cf4-86c6-8a79af0fd5a2",
   "metadata": {},
   "outputs": [
    {
     "ename": "TypeError",
     "evalue": "Can't instantiate abstract class Rectangle without an implementation for abstract method 'show'",
     "output_type": "error",
     "traceback": [
      "\u001b[1;31m---------------------------------------------------------------------------\u001b[0m",
      "\u001b[1;31mTypeError\u001b[0m                                 Traceback (most recent call last)",
      "Cell \u001b[1;32mIn[25], line 17\u001b[0m\n\u001b[0;32m     14\u001b[0m     \u001b[38;5;28;01mdef\u001b[39;00m \u001b[38;5;21mprint1\u001b[39m(\u001b[38;5;28mself\u001b[39m):\n\u001b[0;32m     15\u001b[0m         \u001b[38;5;28mprint\u001b[39m(\u001b[38;5;124m\"\u001b[39m\u001b[38;5;124mhello\u001b[39m\u001b[38;5;124m\"\u001b[39m)\n\u001b[1;32m---> 17\u001b[0m r1 \u001b[38;5;241m=\u001b[39m Rectangle()\n\u001b[0;32m     18\u001b[0m r1\u001b[38;5;241m.\u001b[39mshow()\n",
      "\u001b[1;31mTypeError\u001b[0m: Can't instantiate abstract class Rectangle without an implementation for abstract method 'show'"
     ]
    }
   ],
   "source": [
    "from abc import ABC, abstractmethod\n",
    "\n",
    "class Shape(ABC):\n",
    "    @abstractmethod\n",
    "    def show(self):\n",
    "        pass\n",
    "\n",
    "    def print(self):\n",
    "        print(\"hello\")\n",
    "\n",
    "class Rectangle(Shape):\n",
    "    # def show(self):\n",
    "    #     print(\"This is rectangle.\")\n",
    "    def print1(self):\n",
    "        print(\"hello\")\n",
    "\n",
    "r1 = Rectangle()\n",
    "r1.show()\n",
    "# ob = Shape()"
   ]
  }
 ],
 "metadata": {
  "kernelspec": {
   "display_name": "Python 3 (ipykernel)",
   "language": "python",
   "name": "python3"
  },
  "language_info": {
   "codemirror_mode": {
    "name": "ipython",
    "version": 3
   },
   "file_extension": ".py",
   "mimetype": "text/x-python",
   "name": "python",
   "nbconvert_exporter": "python",
   "pygments_lexer": "ipython3",
   "version": "3.12.7"
  }
 },
 "nbformat": 4,
 "nbformat_minor": 5
}
