{
 "cells": [
  {
   "cell_type": "markdown",
   "metadata": {},
   "source": [
    "<a href='https://www.darshan.ac.in/'> <img src='https://www.darshan.ac.in/Content/media/DU_Logo.svg' width=\"250\" height=\"300\"/></a>\n",
    "<pre>\n",
    "<center><b><h1>Python Programming - 2301CS404</b></center>\n",
    "<center><b><h1>Lab - 8</b></center>\n",
    "<center><b><h1>Krisha Busa | 23010101039 | 11-01-2025</b></center>    \n",
    "<pre>"
   ]
  },
  {
   "cell_type": "markdown",
   "metadata": {},
   "source": [
    "# User Defined Function"
   ]
  },
  {
   "cell_type": "markdown",
   "metadata": {},
   "source": [
    "### 01) Write a function to calculate BMI given mass and height. (BMI = mass/h**2)"
   ]
  },
  {
   "cell_type": "code",
   "execution_count": 3,
   "metadata": {},
   "outputs": [
    {
     "name": "stdin",
     "output_type": "stream",
     "text": [
      "Enter the mass :  70\n",
      "Enter the height :  1.75\n"
     ]
    },
    {
     "name": "stdout",
     "output_type": "stream",
     "text": [
      "Mass : 70.0\n",
      "Height : 1.75\n",
      "BMI : 22.857142857142858\n"
     ]
    }
   ],
   "source": [
    "def calculate_bmi(mass, height):\n",
    "    BMI = mass / (height ** 2)\n",
    "    return BMI\n",
    "\n",
    "m = float(input(\"Enter the mass : \"))\n",
    "h = float(input(\"Enter the height : \"))\n",
    "\n",
    "print(\"Mass :\", m)\n",
    "print(\"Height :\",h)\n",
    "print(\"BMI :\", calculate_bmi(m, h)) "
   ]
  },
  {
   "cell_type": "markdown",
   "metadata": {},
   "source": [
    "### 02) Write a function that add first n numbers."
   ]
  },
  {
   "cell_type": "code",
   "execution_count": 9,
   "metadata": {},
   "outputs": [
    {
     "name": "stdin",
     "output_type": "stream",
     "text": [
      "Enter the range number : 10\n"
     ]
    },
    {
     "name": "stdout",
     "output_type": "stream",
     "text": [
      "Range : 10\n",
      "Sum : 55\n"
     ]
    }
   ],
   "source": [
    "def sum_first_n(n):\n",
    "    ans = sum(range(1, n + 1))\n",
    "    return ans\n",
    "\n",
    "n = int(input(\"Enter the range number :\"))\n",
    "\n",
    "print(\"Range :\", n)\n",
    "print(\"Sum :\", sum_first_n(n)) "
   ]
  },
  {
   "cell_type": "markdown",
   "metadata": {},
   "source": [
    "### 03) Write a function that returns 1 if the given number is Prime or 0 otherwise."
   ]
  },
  {
   "cell_type": "code",
   "execution_count": 13,
   "metadata": {},
   "outputs": [
    {
     "name": "stdin",
     "output_type": "stream",
     "text": [
      "Enter the number : 11\n"
     ]
    },
    {
     "name": "stdout",
     "output_type": "stream",
     "text": [
      "11 is a prime number : 1\n"
     ]
    }
   ],
   "source": [
    "def is_prime(n) :\n",
    "    if n < 2 :\n",
    "        return 0\n",
    "    for i in range(2, int(n ** 0.5) + 1):\n",
    "        if n % i == 0:\n",
    "            return 0\n",
    "    return 1\n",
    "\n",
    "n = int(input(\"Enter the number :\"))\n",
    "print(n, \"is a prime number :\", is_prime(n)) "
   ]
  },
  {
   "cell_type": "markdown",
   "metadata": {},
   "source": [
    "### 04) Write a function that returns the list of Prime numbers between given two numbers."
   ]
  },
  {
   "cell_type": "code",
   "execution_count": 17,
   "metadata": {},
   "outputs": [
    {
     "name": "stdout",
     "output_type": "stream",
     "text": [
      "[11, 13, 17, 19, 23, 29, 31, 37, 41, 43, 47]\n"
     ]
    }
   ],
   "source": [
    "def is_prime(n) :\n",
    "    if n < 2 :\n",
    "        return False\n",
    "    for i in range(2, n) :\n",
    "        if n % i == 0 :\n",
    "            return False\n",
    "    return True\n",
    "\n",
    "def prime_numbers_between(start, end) :\n",
    "    primes = []\n",
    "    for i in range(start, end + 1) :\n",
    "        if is_prime(i) :\n",
    "            primes.append(i)\n",
    "    return primes\n",
    "\n",
    "print(prime_numbers_between(10, 50))"
   ]
  },
  {
   "cell_type": "markdown",
   "metadata": {},
   "source": [
    "### 05) Write a function that returns True if the given string is Palindrome or False otherwise."
   ]
  },
  {
   "cell_type": "code",
   "execution_count": 28,
   "metadata": {},
   "outputs": [
    {
     "name": "stdin",
     "output_type": "stream",
     "text": [
      "Enter the string : abcdcba\n"
     ]
    },
    {
     "name": "stdout",
     "output_type": "stream",
     "text": [
      "abcdcba is a Palindrome !!\n"
     ]
    }
   ],
   "source": [
    "def is_palindrome(s):\n",
    "    return s == s[::-1] \n",
    "\n",
    "s = input(\"Enter the string :\")\n",
    "\n",
    "if(is_palindrome(s)) :\n",
    "    print(s, \"is a Palindrome !!\")\n",
    "else :\n",
    "    print(s, \"is not a Palindrome !!\")"
   ]
  },
  {
   "cell_type": "markdown",
   "metadata": {},
   "source": [
    "### 06) Write a function that returns the sum of all the elements of the list."
   ]
  },
  {
   "cell_type": "code",
   "execution_count": 34,
   "metadata": {},
   "outputs": [
    {
     "name": "stdout",
     "output_type": "stream",
     "text": [
      "Sum : 15\n"
     ]
    }
   ],
   "source": [
    "def sum_of_list(l):\n",
    "    return sum(l)\n",
    "\n",
    "li = [1, 2, 3, 4, 5]\n",
    "\n",
    "print(\"Sum :\", sum_of_list(li))"
   ]
  },
  {
   "cell_type": "markdown",
   "metadata": {},
   "source": [
    "### 07) Write a function to calculate the sum of the first element of each tuples inside the list."
   ]
  },
  {
   "cell_type": "code",
   "execution_count": 51,
   "metadata": {},
   "outputs": [
    {
     "name": "stdout",
     "output_type": "stream",
     "text": [
      "Sum : 16\n"
     ]
    }
   ],
   "source": [
    "def sum_of_first_elements(li):\n",
    "    ans = sum(t[0] for t in li)\n",
    "    return ans\n",
    "    \n",
    "list_of_tuple = [(1, 2), (3, 4), (5, 6), (7,8)]\n",
    "print(\"Sum :\", sum_of_first_elements(list_of_tuple))"
   ]
  },
  {
   "cell_type": "markdown",
   "metadata": {},
   "source": [
    "### 08) Write a recursive function to find nth term of Fibonacci Series."
   ]
  },
  {
   "cell_type": "code",
   "execution_count": 71,
   "metadata": {},
   "outputs": [
    {
     "name": "stdout",
     "output_type": "stream",
     "text": [
      "34\n"
     ]
    }
   ],
   "source": [
    "def fibonacci(n):\n",
    "    if n <= 0 :\n",
    "        return \"Invalid input\"\n",
    "    elif n == 1 :\n",
    "        return 0\n",
    "    elif n == 2 :\n",
    "        return 1\n",
    "    else :\n",
    "        return fibonacci(n - 1) + fibonacci(n - 2)\n",
    "\n",
    "print(fibonacci(10))"
   ]
  },
  {
   "cell_type": "markdown",
   "metadata": {},
   "source": [
    "### 09) Write a function to get the name of the student based on the given rollno.\n",
    "#### Example: Given dict1 = {101:'Ajay', 102:'Rahul', 103:'Jay', 104:'Pooja'} find name of student whose rollno = 103"
   ]
  },
  {
   "cell_type": "code",
   "execution_count": 79,
   "metadata": {},
   "outputs": [
    {
     "name": "stdout",
     "output_type": "stream",
     "text": [
      "Jay\n",
      "Student not found\n"
     ]
    }
   ],
   "source": [
    "def get_student_name(rollno, students):\n",
    "    name = students.get(rollno, \"Student not found\")\n",
    "    return name\n",
    "\n",
    "dict1 = {101: 'Ajay', 102: 'Rahul', 103: 'Jay', 104: 'Pooja'}\n",
    "print(get_student_name(103, dict1))\n",
    "print(get_student_name(105, dict1))  "
   ]
  },
  {
   "cell_type": "markdown",
   "metadata": {},
   "source": [
    "### 10) Write a function to get the sum of the scores ending with zero.\n",
    "#### Example : scores = [200, 456, 300, 100, 234, 678] \n",
    "#### Ans = 200 + 300 + 100 = 600"
   ]
  },
  {
   "cell_type": "code",
   "execution_count": 89,
   "metadata": {},
   "outputs": [
    {
     "name": "stdout",
     "output_type": "stream",
     "text": [
      "[200, 300, 100]\n",
      "600\n"
     ]
    }
   ],
   "source": [
    "def sum_scores_ending_zero(scores) :\n",
    "    print(list(i for i in scores if i % 10 == 0))\n",
    "    ans = sum(i for i in scores if i % 10 == 0)\n",
    "    return ans\n",
    "    \n",
    "scores = [200, 456, 300, 100, 234, 678]\n",
    "print(sum_scores_ending_zero(scores))"
   ]
  },
  {
   "cell_type": "markdown",
   "metadata": {},
   "source": [
    "### 11) Write a function to invert a given Dictionary.\n",
    "#### hint: keys to values & values to keys\n",
    "#### Before : {'a': 10, 'b':20, 'c':30, 'd':40}\n",
    "#### After : {10:'a', 20:'b', 30:'c', 40:'d'}"
   ]
  },
  {
   "cell_type": "code",
   "execution_count": 101,
   "metadata": {},
   "outputs": [
    {
     "name": "stdout",
     "output_type": "stream",
     "text": [
      "Before : {'a': 10, 'b': 20, 'c': 30, 'd': 40}\n",
      "After : {10: 'a', 20: 'b', 30: 'c', 40: 'd'}\n"
     ]
    }
   ],
   "source": [
    "def invert_dict(d):\n",
    "    d = {v: k for k, v in d.items()}\n",
    "    return d\n",
    "\n",
    "before = {'a': 10, 'b': 20, 'c': 30, 'd': 40}\n",
    "print(\"Before :\", before)\n",
    "print(\"After :\", invert_dict(before))  "
   ]
  },
  {
   "cell_type": "markdown",
   "metadata": {},
   "source": [
    "### 12) Write a function to check whether the given string is Pangram or not.\n",
    "#### hint: Pangram is a string containing all the characters a-z atlest once.\n",
    "#### \"the quick brown fox jumps over the lazy dog\" is a Pangram string."
   ]
  },
  {
   "cell_type": "code",
   "execution_count": 103,
   "metadata": {},
   "outputs": [
    {
     "name": "stdout",
     "output_type": "stream",
     "text": [
      "True\n",
      "False\n"
     ]
    }
   ],
   "source": [
    "def is_pangram(s):\n",
    "    alphabet = \"abcdefghijklmnopqrstuvwxyz\"\n",
    "    for i in alphabet:\n",
    "        if i not in s.lower():\n",
    "            return False\n",
    "    return True\n",
    "\n",
    "print(is_pangram(\"The quick brown fox jumps over the lazy dog\")) \n",
    "print(is_pangram(\"Hello World\")) "
   ]
  },
  {
   "cell_type": "markdown",
   "metadata": {},
   "source": [
    "### 13) Write a function that returns the number of uppercase and lowercase letters in the given string. \n",
    "#### example : Input : s1 = AbcDEfgh ,Ouptput : no_upper = 3, no_lower = 5"
   ]
  },
  {
   "cell_type": "code",
   "execution_count": 117,
   "metadata": {},
   "outputs": [
    {
     "name": "stdout",
     "output_type": "stream",
     "text": [
      "Uppercase : 3\n",
      "Lowercase : 5\n"
     ]
    }
   ],
   "source": [
    "def count_case(s):\n",
    "    upper = sum(1 for i in s if i.isupper())\n",
    "    lower = sum(1 for i in s if i.islower())\n",
    "    return [upper, lower]\n",
    "\n",
    "s1 = \"AbcDEfgh\"\n",
    "no_upper,no_lower = count_case(s1)\n",
    "\n",
    "print(\"Uppercase :\", no_upper)  \n",
    "print(\"Lowercase :\", no_lower)"
   ]
  },
  {
   "cell_type": "markdown",
   "metadata": {},
   "source": [
    "### 14) Write a lambda function to get smallest number from the given two numbers."
   ]
  },
  {
   "cell_type": "code",
   "execution_count": 121,
   "metadata": {},
   "outputs": [
    {
     "name": "stdout",
     "output_type": "stream",
     "text": [
      "10\n",
      "2\n"
     ]
    }
   ],
   "source": [
    "smallest = lambda a, b : a if a < b else b\n",
    "\n",
    "print(smallest(10, 20))\n",
    "print(smallest(5, 2))"
   ]
  },
  {
   "cell_type": "markdown",
   "metadata": {},
   "source": [
    "### 15) For the given list of names of students, extract the names having more that 7 characters. Use filter()."
   ]
  },
  {
   "cell_type": "code",
   "execution_count": 127,
   "metadata": {},
   "outputs": [
    {
     "name": "stdout",
     "output_type": "stream",
     "text": [
      "['DataStructer', 'WebTechnology', '.netCore', 'PythonProgramming']\n"
     ]
    }
   ],
   "source": [
    "names = [\"Java\", \"DataStructer\", \"Flutter\", \"WebTechnology\", \"C#\", \".netCore\", \"PythonProgramming\"]\n",
    "\n",
    "long_names = list(filter(lambda name : len(name) > 7, names))\n",
    "print(long_names)  "
   ]
  },
  {
   "cell_type": "markdown",
   "metadata": {},
   "source": [
    "### 16) For the given list of names of students, convert the first letter of all the names into uppercase. use map()."
   ]
  },
  {
   "cell_type": "code",
   "execution_count": 131,
   "metadata": {},
   "outputs": [
    {
     "name": "stdout",
     "output_type": "stream",
     "text": [
      "['Firstname', 'Middlename', 'Lastname']\n"
     ]
    }
   ],
   "source": [
    "names = [\"firstName\", \"middleName\", \"lastName\"]\n",
    "\n",
    "capitalized_names = list(map(lambda name : name.capitalize(), names))\n",
    "print(capitalized_names)  "
   ]
  },
  {
   "cell_type": "markdown",
   "metadata": {},
   "source": [
    "### 17) Write udfs to call the functions with following types of arguments:\n",
    "1. Positional Arguments\n",
    "2. Keyword Arguments\n",
    "3. Default Arguments\n",
    "4. Variable Legngth Positional(*args) & variable length Keyword Arguments (**kwargs)\n",
    "5. Keyword-Only & Positional Only Arguments"
   ]
  },
  {
   "cell_type": "code",
   "execution_count": 147,
   "metadata": {},
   "outputs": [
    {
     "name": "stdout",
     "output_type": "stream",
     "text": [
      "Name : Krisha\n",
      "Age : 18\n"
     ]
    }
   ],
   "source": [
    "#1. Positional Arguments\n",
    "def student_info(name, age) :\n",
    "    print(\"Name :\", name)\n",
    "    print(\"Age :\", age)\n",
    "\n",
    "student_info(\"Krisha\", 18)  "
   ]
  },
  {
   "cell_type": "code",
   "execution_count": 149,
   "metadata": {},
   "outputs": [
    {
     "name": "stdout",
     "output_type": "stream",
     "text": [
      "Name : Krisha\n",
      "Age : 18\n"
     ]
    }
   ],
   "source": [
    "#2. Keyword Arguments\n",
    "def student_info(name, age) :\n",
    "    print(\"Name :\", name)\n",
    "    print(\"Age :\", age)\n",
    "\n",
    "student_info(age=18, name=\"Krisha\")  "
   ]
  },
  {
   "cell_type": "code",
   "execution_count": 163,
   "metadata": {},
   "outputs": [
    {
     "name": "stdout",
     "output_type": "stream",
     "text": [
      "Name : Busa , Age : 19\n",
      "Name : Krisha , Age : 18\n"
     ]
    }
   ],
   "source": [
    "#3. Default Arguments\n",
    "def student_info(name, age=19) :\n",
    "    print(\"Name :\", name, \", Age :\", age)\n",
    "    \n",
    "student_info(\"Busa\") \n",
    "student_info(\"Krisha\", 18) "
   ]
  },
  {
   "cell_type": "code",
   "execution_count": 159,
   "metadata": {},
   "outputs": [
    {
     "name": "stdout",
     "output_type": "stream",
     "text": [
      "15\n"
     ]
    }
   ],
   "source": [
    "#4. Variable-Length Positional Arguments (*args)\n",
    "def sum_numbers(*args) :\n",
    "    ans = sum(args)\n",
    "    return ans\n",
    "    \n",
    "print(sum_numbers(1, 2, 3, 4, 5))"
   ]
  },
  {
   "cell_type": "code",
   "execution_count": 165,
   "metadata": {},
   "outputs": [
    {
     "name": "stdout",
     "output_type": "stream",
     "text": [
      "name : Krisha\n",
      "age : 18\n",
      "grade : A\n"
     ]
    }
   ],
   "source": [
    "#5. Variable-Length Keyword Arguments (**kwargs)\n",
    "def student_details(**kwargs):\n",
    "    for key, value in kwargs.items():\n",
    "        print(key, \":\", value)\n",
    "\n",
    "student_details(name=\"Krisha\", age=18, grade=\"A\")"
   ]
  },
  {
   "cell_type": "code",
   "execution_count": 169,
   "metadata": {},
   "outputs": [
    {
     "name": "stdout",
     "output_type": "stream",
     "text": [
      "Name : Krisha , Age : 18\n"
     ]
    }
   ],
   "source": [
    "#6. Keyword-Only & Positional-Only Arguments\n",
    "def student_info(name, /, *, age):\n",
    "    print(\"Name :\", name, \", Age :\", age)\n",
    "\n",
    "student_info(\"Krisha\", age=18) "
   ]
  }
 ],
 "metadata": {
  "kernelspec": {
   "display_name": "Python 3 (ipykernel)",
   "language": "python",
   "name": "python3"
  },
  "language_info": {
   "codemirror_mode": {
    "name": "ipython",
    "version": 3
   },
   "file_extension": ".py",
   "mimetype": "text/x-python",
   "name": "python",
   "nbconvert_exporter": "python",
   "pygments_lexer": "ipython3",
   "version": "3.12.7"
  }
 },
 "nbformat": 4,
 "nbformat_minor": 4
}
