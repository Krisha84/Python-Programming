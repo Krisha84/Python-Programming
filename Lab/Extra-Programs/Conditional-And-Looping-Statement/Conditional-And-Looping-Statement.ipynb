{
 "cells": [
  {
   "cell_type": "markdown",
   "id": "0581f9de-b6f5-4dcb-8ca7-18261db9d186",
   "metadata": {},
   "source": [
    "## Conditional and Looping Statement"
   ]
  },
  {
   "cell_type": "markdown",
   "id": "567aa2da-f656-4088-b66c-e070aa6627c7",
   "metadata": {},
   "source": [
    "## 1. Check whether the given number is Positive , Negative or Zero."
   ]
  },
  {
   "cell_type": "code",
   "execution_count": 27,
   "id": "04ff0f90-98d9-4c23-abb8-4d2006bb42e4",
   "metadata": {},
   "outputs": [
    {
     "name": "stdin",
     "output_type": "stream",
     "text": [
      "Enter a number : -11\n"
     ]
    },
    {
     "name": "stdout",
     "output_type": "stream",
     "text": [
      "-11  is Negative !!\n"
     ]
    }
   ],
   "source": [
    "n = int(input(\"Enter a number :\"))\n",
    "\n",
    "if n > 0 :\n",
    "    print(n,\" is Positve !!\")\n",
    "elif n == 0 :\n",
    "    print(\"Zero !!\")\n",
    "else :\n",
    "    print(n,\" is Negative !!\")"
   ]
  },
  {
   "cell_type": "markdown",
   "id": "f0c65158-e216-4119-a45b-d11401a4f492",
   "metadata": {},
   "source": [
    "## 2. Find the Maximum number from a given two numbers."
   ]
  },
  {
   "cell_type": "code",
   "execution_count": 29,
   "id": "79dfb4ae-3531-4f9a-95be-c05fb1203d1b",
   "metadata": {},
   "outputs": [
    {
     "name": "stdin",
     "output_type": "stream",
     "text": [
      "Enter the first number : 101\n",
      "Enter the second number : 1000\n"
     ]
    },
    {
     "name": "stdout",
     "output_type": "stream",
     "text": [
      "Max : 1000\n"
     ]
    }
   ],
   "source": [
    "a = int(input(\"Enter the first number :\"))\n",
    "b = int(input(\"Enter the second number :\"))\n",
    "\n",
    "if a > b :\n",
    "    print(\"Max :\", a)\n",
    "elif a == b :\n",
    "    print(\"Both are equals !!\")\n",
    "else :\n",
    "    print(\"Max :\", b)"
   ]
  },
  {
   "cell_type": "markdown",
   "id": "cf57520a-7cd6-4a20-b1cf-e2967e65c921",
   "metadata": {},
   "source": [
    "## 3. Using Ternary Expression (Conditional Expression)"
   ]
  },
  {
   "cell_type": "code",
   "execution_count": 31,
   "id": "75c8da47-5933-4e41-8ee6-7c254b5b1633",
   "metadata": {},
   "outputs": [
    {
     "name": "stdin",
     "output_type": "stream",
     "text": [
      "Enter the first number : 12\n",
      "Enter the second number : 6\n"
     ]
    },
    {
     "name": "stdout",
     "output_type": "stream",
     "text": [
      "Max : 12\n"
     ]
    }
   ],
   "source": [
    "a = int(input(\"Enter the first number :\"))\n",
    "b = int(input(\"Enter the second number :\"))\n",
    "\n",
    "max = a if a > b else b\n",
    "\n",
    "print(\"Max :\", max)"
   ]
  },
  {
   "cell_type": "markdown",
   "id": "7cfd9d4a-6c57-4174-b662-6fc25c692d22",
   "metadata": {},
   "source": [
    "## 4. Find the greatest number from three numbers. (Using Nested if)"
   ]
  },
  {
   "cell_type": "code",
   "execution_count": 69,
   "id": "6d9e091c-313d-4110-8f9b-8df791d94bdc",
   "metadata": {},
   "outputs": [
    {
     "name": "stdin",
     "output_type": "stream",
     "text": [
      "Enter the first number : 10\n",
      "Enter the second number : 30\n",
      "Enter the third number : 20\n"
     ]
    },
    {
     "name": "stdout",
     "output_type": "stream",
     "text": [
      "\n",
      "The Greatest number is --> 30\n"
     ]
    }
   ],
   "source": [
    "a = int(input(\"Enter the first number :\"))\n",
    "b = int(input(\"Enter the second number :\"))\n",
    "c= int(input(\"Enter the third number :\"))\n",
    "\n",
    "if a > b :\n",
    "    if a > c :\n",
    "        g = a\n",
    "    else :\n",
    "        g = c\n",
    "else :\n",
    "    if b > c :\n",
    "        g = b\n",
    "    else :\n",
    "        g = c\n",
    "\n",
    "print()\n",
    "print(\"The Greatest number is -->\", g)"
   ]
  },
  {
   "cell_type": "markdown",
   "id": "a882cc60-8311-4384-8fb6-d1fd2dd9088b",
   "metadata": {},
   "source": [
    "## 5. Find the greatest number from three numbers. (Using Logical Operator)"
   ]
  },
  {
   "cell_type": "code",
   "execution_count": 63,
   "id": "ef7909f6-a1ff-47ed-a081-737f43f9e0fb",
   "metadata": {},
   "outputs": [
    {
     "name": "stdin",
     "output_type": "stream",
     "text": [
      "Enter the first number : 40\n",
      "Enter the second number : 60\n",
      "Enter the third number : 50\n"
     ]
    },
    {
     "name": "stdout",
     "output_type": "stream",
     "text": [
      "\n",
      "The Greatest number is --> 60\n"
     ]
    }
   ],
   "source": [
    "a = int(input(\"Enter the first number :\"))\n",
    "b = int(input(\"Enter the second number :\"))\n",
    "c= int(input(\"Enter the third number :\"))\n",
    "\n",
    "if a > b and a > c :\n",
    "    g =a\n",
    "elif b > a and b > c :\n",
    "    g = b\n",
    "else :\n",
    "    g = c\n",
    "    \n",
    "print()\n",
    "print(\"The Greatest number is -->\", g)"
   ]
  },
  {
   "cell_type": "markdown",
   "id": "800f80ef-5b9a-4ea2-b835-79048bd7e152",
   "metadata": {},
   "source": [
    "## 6. Find the greatest number from three numbers. (Using Conditional Expression)"
   ]
  },
  {
   "cell_type": "code",
   "execution_count": 66,
   "id": "e97b5dc1-4acb-4866-b6e9-ccff87fd65e1",
   "metadata": {},
   "outputs": [
    {
     "name": "stdin",
     "output_type": "stream",
     "text": [
      "Enter the first number : 70\n",
      "Enter the second number : 90\n",
      "Enter the third number : 80\n"
     ]
    },
    {
     "name": "stdout",
     "output_type": "stream",
     "text": [
      "\n",
      "The Greatest number is --> 90\n"
     ]
    }
   ],
   "source": [
    "a = int(input(\"Enter the first number :\"))\n",
    "b = int(input(\"Enter the second number :\"))\n",
    "c= int(input(\"Enter the third number :\"))\n",
    "\n",
    "g = a if a > b and a > c else b if b > a and b > c else c\n",
    "    \n",
    "print()\n",
    "print(\"The Greatest number is -->\", g)"
   ]
  },
  {
   "cell_type": "markdown",
   "id": "55b5d3d0-3c1e-4551-9135-e3723205f2b6",
   "metadata": {},
   "source": [
    "## 7. Print days of week. (Match-Case)"
   ]
  },
  {
   "cell_type": "code",
   "execution_count": 43,
   "id": "5253f3a9-d17d-4d79-95a2-bd47c5d19bc2",
   "metadata": {},
   "outputs": [
    {
     "name": "stdin",
     "output_type": "stream",
     "text": [
      "Enter a number : 4\n"
     ]
    },
    {
     "name": "stdout",
     "output_type": "stream",
     "text": [
      "Wednesday\n"
     ]
    }
   ],
   "source": [
    "n = (input(\"Enter a number :\"))\n",
    "\n",
    "match n :\n",
    "    case '1':\n",
    "        print(\"Sunday\")\n",
    "    case '2':\n",
    "        print(\"Monday\")\n",
    "    case '3':\n",
    "        print(\"Tuesday\")\n",
    "    case '4':\n",
    "        print(\"Wednesday\")\n",
    "    case '5':\n",
    "        print(\"Thursday\")\n",
    "    case '6':\n",
    "        print(\"Friday\")\n",
    "    case '7':\n",
    "        print(\"Saturday\")\n",
    "    case _:\n",
    "        print(\"Oops !! Invalid Input...\")"
   ]
  },
  {
   "cell_type": "markdown",
   "id": "70057db1-aded-4858-a81b-482f4cd693b0",
   "metadata": {},
   "source": [
    "## 8. Find the given element in list."
   ]
  },
  {
   "cell_type": "code",
   "execution_count": 18,
   "id": "789c63e2-58e3-429f-8b42-4333be794639",
   "metadata": {},
   "outputs": [
    {
     "name": "stdin",
     "output_type": "stream",
     "text": [
      "Enter an element : 40\n"
     ]
    },
    {
     "name": "stdout",
     "output_type": "stream",
     "text": [
      "Found !!\n"
     ]
    }
   ],
   "source": [
    "l1 = [10,20,30,40,50]\n",
    "x = int(input(\"Enter an element :\"))\n",
    "f = False\n",
    "\n",
    "for i in l1 :\n",
    "    if i == x :\n",
    "        print(\"Found !!\")\n",
    "        f = True\n",
    "        break\n",
    "\n",
    "if not f :\n",
    "    print(\"Not Found !!\")"
   ]
  },
  {
   "cell_type": "markdown",
   "id": "0575236a-15f4-43d7-bcd5-92fc33a52e34",
   "metadata": {},
   "source": [
    "## 9. Find the given element in list. (Using For-else)"
   ]
  },
  {
   "cell_type": "code",
   "execution_count": 21,
   "id": "c61adb2a-f2f6-410f-8bc1-b69d396e03b0",
   "metadata": {},
   "outputs": [
    {
     "name": "stdin",
     "output_type": "stream",
     "text": [
      "Enter an element : 80\n"
     ]
    },
    {
     "name": "stdout",
     "output_type": "stream",
     "text": [
      "Not Found !!\n"
     ]
    }
   ],
   "source": [
    "l1 = [10,20,30,40,50]\n",
    "x = int(input(\"Enter an element :\"))\n",
    "\n",
    "for i in l1 :\n",
    "    if i == x :\n",
    "        print(\"Found !!\")\n",
    "        break\n",
    "\n",
    "else :\n",
    "    print(\"Not Found !!\")"
   ]
  },
  {
   "cell_type": "markdown",
   "id": "707da6a0-46e7-45b0-b8bb-2a8557c1ca0b",
   "metadata": {},
   "source": [
    "## 10. Check whether number is prime or not. (For-else)"
   ]
  },
  {
   "cell_type": "code",
   "execution_count": 45,
   "id": "e534d967-fbd7-49fe-8e7a-de38fba05087",
   "metadata": {},
   "outputs": [
    {
     "name": "stdin",
     "output_type": "stream",
     "text": [
      "Enter a number : 7\n"
     ]
    },
    {
     "name": "stdout",
     "output_type": "stream",
     "text": [
      "7  is prime number !!\n"
     ]
    }
   ],
   "source": [
    "n = int(input(\"Enter a number :\"))\n",
    "\n",
    "if n <= 1 :\n",
    "    print(n,\" is not a prime number !!\")\n",
    "else :\n",
    "    for i in range(2, int(n ** 0.5) + 1 ) :\n",
    "        if n % i == 0 :\n",
    "            print(n,\" is not a prime number !!\")\n",
    "            break\n",
    "    else :\n",
    "        print(n,\" is prime number !!\")"
   ]
  },
  {
   "cell_type": "markdown",
   "id": "a17fefc4-9158-4626-bc3a-69f23ad65ad0",
   "metadata": {},
   "source": [
    "## 11. Pattern-1"
   ]
  },
  {
   "cell_type": "code",
   "execution_count": 49,
   "id": "c2270297-0288-4f54-a204-10a50c7c7af7",
   "metadata": {},
   "outputs": [
    {
     "name": "stdout",
     "output_type": "stream",
     "text": [
      "1 \n",
      "2 2 \n",
      "3 3 3 \n",
      "4 4 4 4 \n",
      "5 5 5 5 5 \n"
     ]
    }
   ],
   "source": [
    "for i in range(1, 6):\n",
    "    for j in range(i):\n",
    "        print(i, end=' ')\n",
    "    print()"
   ]
  },
  {
   "cell_type": "markdown",
   "id": "9dc6f4f1-32f0-4e33-930b-ee1da9d4a061",
   "metadata": {},
   "source": [
    "## 12. "
   ]
  },
  {
   "cell_type": "code",
   "execution_count": 65,
   "id": "61a07435-1b6c-4a01-8cfd-ba0b8215c869",
   "metadata": {},
   "outputs": [
    {
     "name": "stdin",
     "output_type": "stream",
     "text": [
      "Enter a string : HellllyyyHeyyy\n"
     ]
    },
    {
     "name": "stdout",
     "output_type": "stream",
     "text": [
      "Current Letter : H\n",
      "Current Letter : e\n",
      "Current Letter : H\n",
      "Current Letter : e\n"
     ]
    }
   ],
   "source": [
    "s1 = input(\"Enter a string :\")\n",
    "\n",
    "for letter in s1 :\n",
    "    if letter == 'l' or letter == 'y' :\n",
    "        continue\n",
    "        \n",
    "    print(\"Current Letter :\", letter)"
   ]
  },
  {
   "cell_type": "code",
   "execution_count": 71,
   "id": "206ab1e3-13b4-4646-adcf-2cf56e8f5b1b",
   "metadata": {},
   "outputs": [
    {
     "name": "stdout",
     "output_type": "stream",
     "text": [
      "Last Letter : a\n"
     ]
    }
   ],
   "source": [
    "for letter in 'KrishaBusa' :\n",
    "    pass\n",
    "print('Last Letter :', letter)"
   ]
  },
  {
   "cell_type": "code",
   "execution_count": 75,
   "id": "bf2dc434-d226-4c19-98b0-26cc5665c2cd",
   "metadata": {},
   "outputs": [
    {
     "name": "stdin",
     "output_type": "stream",
     "text": [
      "Enter a string : Hello_Heyy\n"
     ]
    },
    {
     "name": "stdout",
     "output_type": "stream",
     "text": [
      "Current Letter : l\n"
     ]
    }
   ],
   "source": [
    "s1 = input(\"Enter a string :\")\n",
    "\n",
    "for letter in s1 :\n",
    "    if letter == 'l' or letter == 'y':\n",
    "        break\n",
    "\n",
    "print('Current Letter :', letter)"
   ]
  },
  {
   "cell_type": "markdown",
   "id": "2dd332f2-a63d-47b4-baea-8ffbc1f9d2dc",
   "metadata": {},
   "source": [
    "## 15. Count the Digits of a Number."
   ]
  },
  {
   "cell_type": "code",
   "execution_count": 84,
   "id": "fa24014a-d37e-44ac-8f8a-ef412381933a",
   "metadata": {},
   "outputs": [
    {
     "name": "stdin",
     "output_type": "stream",
     "text": [
      "Enter a number : 237\n"
     ]
    },
    {
     "name": "stdout",
     "output_type": "stream",
     "text": [
      "The number of digits is --> 3\n"
     ]
    }
   ],
   "source": [
    "n = int(input(\"Enter a number :\"))\n",
    "count = 0\n",
    "\n",
    "while n > 0 :\n",
    "    count += 1\n",
    "    n //= 10\n",
    "print(\"The number of digits is -->\", count)"
   ]
  },
  {
   "cell_type": "markdown",
   "id": "739b87f7-53ea-4755-8bb2-444865ec9a70",
   "metadata": {},
   "source": [
    "## 16. Find the GCD of Two Numbers (Euclidean Algorithm)"
   ]
  },
  {
   "cell_type": "code",
   "execution_count": 93,
   "id": "94c6b4dd-4e8b-4717-8d53-f2710b3d2297",
   "metadata": {},
   "outputs": [
    {
     "name": "stdin",
     "output_type": "stream",
     "text": [
      "Enter the first number : 6\n",
      "Enter the second number : 4\n"
     ]
    },
    {
     "name": "stdout",
     "output_type": "stream",
     "text": [
      "\n",
      "The GCD is --> 2\n"
     ]
    }
   ],
   "source": [
    "a = int(input(\"Enter the first number :\"))\n",
    "b = int(input(\"Enter the second number :\"))\n",
    "\n",
    "while b != 0 :\n",
    "    a, b = b, a % b\n",
    "\n",
    "print()\n",
    "print(\"The GCD is -->\", a)"
   ]
  },
  {
   "cell_type": "markdown",
   "id": "e04ffcb6-7a1d-4858-a94e-3324fe4d8556",
   "metadata": {},
   "source": [
    "## 17. Find the LCM of Two Numbers."
   ]
  },
  {
   "cell_type": "code",
   "execution_count": 108,
   "id": "37eb83e7-2c4a-463a-b3f7-5649ea3fc828",
   "metadata": {},
   "outputs": [
    {
     "name": "stdin",
     "output_type": "stream",
     "text": [
      "Enter the first number : 4\n",
      "Enter the second number : 6\n"
     ]
    },
    {
     "name": "stdout",
     "output_type": "stream",
     "text": [
      "\n",
      "The LCM is --> 12\n"
     ]
    }
   ],
   "source": [
    "a = int(input(\"Enter the first number :\"))\n",
    "b = int(input(\"Enter the second number :\"))\n",
    "\n",
    "org_b = b\n",
    "gcd = a\n",
    "\n",
    "while b != 0 :\n",
    "    gcd, b = b, gcd % b\n",
    "\n",
    "lcm = (a * org_b) // gcd\n",
    "\n",
    "print()\n",
    "print(\"The LCM is -->\", lcm)"
   ]
  },
  {
   "cell_type": "markdown",
   "id": "47450a67-cf4d-414f-856c-47c86d5af146",
   "metadata": {},
   "source": [
    "## 18. Print Multiplication Table of a Number (Reverse)"
   ]
  },
  {
   "cell_type": "code",
   "execution_count": 119,
   "id": "beffa7ff-4c90-45f7-8be6-bf48e967b69a",
   "metadata": {},
   "outputs": [
    {
     "name": "stdin",
     "output_type": "stream",
     "text": [
      "Enter a number : 11\n"
     ]
    },
    {
     "name": "stdout",
     "output_type": "stream",
     "text": [
      "11 * 10 = 110\n",
      "11 * 9 = 99\n",
      "11 * 8 = 88\n",
      "11 * 7 = 77\n",
      "11 * 6 = 66\n",
      "11 * 5 = 55\n",
      "11 * 4 = 44\n",
      "11 * 3 = 33\n",
      "11 * 2 = 22\n",
      "11 * 1 = 11\n"
     ]
    }
   ],
   "source": [
    "n = int(input(\"Enter a number :\"))\n",
    "\n",
    "for i in range(10, 0, -1):\n",
    "    print(n,\"*\", i,\"=\", n*i)"
   ]
  },
  {
   "cell_type": "markdown",
   "id": "7f632832-2fbc-409b-a01c-91b2e71b0436",
   "metadata": {},
   "source": [
    "## 19. Check if a Number is Perfect."
   ]
  },
  {
   "cell_type": "code",
   "execution_count": 138,
   "id": "5dd55bf9-9a47-4e8c-b424-95b5dbde422b",
   "metadata": {},
   "outputs": [
    {
     "name": "stdin",
     "output_type": "stream",
     "text": [
      "Enter a number : 28\n"
     ]
    },
    {
     "name": "stdout",
     "output_type": "stream",
     "text": [
      "28  is a perfect number !!\n"
     ]
    }
   ],
   "source": [
    "n = int(input(\"Enter a number :\"))\n",
    "\n",
    "sum_divisors = 0\n",
    "\n",
    "for i in range(1, n) :\n",
    "    if n % i == 0:\n",
    "        sum_divisors += i\n",
    "\n",
    "if sum_divisors == n :\n",
    "    print(n,\" is a perfect number !!\")\n",
    "else :\n",
    "    print(n,\" is not a perfect number !!\")"
   ]
  },
  {
   "cell_type": "markdown",
   "id": "4a4dffcc-a24a-488b-89b1-daefc1484f1a",
   "metadata": {},
   "source": [
    "## 20. Pattern-2"
   ]
  },
  {
   "cell_type": "code",
   "execution_count": 147,
   "id": "367d127b-0d09-449e-b513-20a8a8670460",
   "metadata": {},
   "outputs": [
    {
     "name": "stdin",
     "output_type": "stream",
     "text": [
      "Enter the number of rows : 5\n"
     ]
    },
    {
     "name": "stdout",
     "output_type": "stream",
     "text": [
      "    *\n",
      "   **\n",
      "  ***\n",
      " ****\n",
      "*****\n"
     ]
    }
   ],
   "source": [
    "n = int(input(\"Enter the number of rows :\"))\n",
    "\n",
    "for i in range(1, n + 1):\n",
    "    print((\" \" * (n - i)) + (\"*\" * i))"
   ]
  }
 ],
 "metadata": {
  "kernelspec": {
   "display_name": "Python 3 (ipykernel)",
   "language": "python",
   "name": "python3"
  },
  "language_info": {
   "codemirror_mode": {
    "name": "ipython",
    "version": 3
   },
   "file_extension": ".py",
   "mimetype": "text/x-python",
   "name": "python",
   "nbconvert_exporter": "python",
   "pygments_lexer": "ipython3",
   "version": "3.12.7"
  }
 },
 "nbformat": 4,
 "nbformat_minor": 5
}
