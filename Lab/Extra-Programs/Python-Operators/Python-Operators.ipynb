{
 "cells": [
  {
   "cell_type": "markdown",
   "id": "35225ccb-3c51-42b9-8a12-3f4b0a13d866",
   "metadata": {},
   "source": [
    "## Python Operators"
   ]
  },
  {
   "cell_type": "markdown",
   "id": "68bfba7b-d54d-49c8-a434-c6f379c38ed8",
   "metadata": {},
   "source": [
    "## 1. Arithmetic Operators"
   ]
  },
  {
   "cell_type": "code",
   "execution_count": 8,
   "id": "9ada5718-93ab-4f64-b986-d6a13343d417",
   "metadata": {},
   "outputs": [
    {
     "name": "stdin",
     "output_type": "stream",
     "text": [
      "Enter a :  10\n",
      "Enter b :  2\n"
     ]
    },
    {
     "name": "stdout",
     "output_type": "stream",
     "text": [
      "1. Addition       :  12\n",
      "2. Subtraction    :  8\n",
      "3. Multiplication :  20\n",
      "4. Division       :  5.0\n",
      "5. Floor division :  5\n",
      "6. Reminder       :  0\n",
      "7. Exponent       :  100\n"
     ]
    }
   ],
   "source": [
    "a = int(input(\"Enter a : \"))\n",
    "b = int(input(\"Enter b : \"))\n",
    " \n",
    "print(\"1. Addition       : \", a + b)    \n",
    "print(\"2. Subtraction    : \", a - b)    \n",
    "print(\"3. Multiplication : \", a * b)    \n",
    "print(\"4. Division       : \", a / b)    \n",
    "print(\"5. Floor division : \", a // b)    \n",
    "print(\"6. Reminder       : \", a % b)    \n",
    "print(\"7. Exponent       : \", a ** b)  "
   ]
  },
  {
   "cell_type": "markdown",
   "id": "f64df505-fad1-47b2-81ed-a7b37649da23",
   "metadata": {},
   "source": [
    "## 2. Relational Operators"
   ]
  },
  {
   "cell_type": "code",
   "execution_count": 11,
   "id": "eaf58d6a-220e-4e4b-a85f-5afebeab4222",
   "metadata": {},
   "outputs": [
    {
     "name": "stdin",
     "output_type": "stream",
     "text": [
      "Enter a :  22\n",
      "Enter b :  11\n"
     ]
    },
    {
     "name": "stdout",
     "output_type": "stream",
     "text": [
      "1. Two numbers are equal or not     :  False\n",
      "2. Two numbers are not equal or not :  True\n",
      "3. a is less than or equal to b     :  False\n",
      "4. a is greater than or equal to b  :  True\n",
      "5. a is greater b                   :  True\n",
      "6. a is less than b                 :  False\n"
     ]
    }
   ],
   "source": [
    "a = int(input(\"Enter a : \"))\n",
    "b = int(input(\"Enter b : \"))  \n",
    "\n",
    "print(\"1. Two numbers are equal or not     : \", a == b)    \n",
    "print(\"2. Two numbers are not equal or not : \", a != b)    \n",
    "print(\"3. a is less than or equal to b     : \", a <= b)    \n",
    "print(\"4. a is greater than or equal to b  : \", a >= b)    \n",
    "print(\"5. a is greater b                   : \", a > b)    \n",
    "print(\"6. a is less than b                 : \", a < b)   "
   ]
  },
  {
   "cell_type": "markdown",
   "id": "3889c4aa-5e9c-47e5-aed3-5e8c175c3aed",
   "metadata": {},
   "source": [
    "## 3. Assignment Operators"
   ]
  },
  {
   "cell_type": "code",
   "execution_count": 16,
   "id": "95b04b50-0b72-4377-a7eb-8278ff43da04",
   "metadata": {},
   "outputs": [
    {
     "name": "stdin",
     "output_type": "stream",
     "text": [
      "Enter a :  20\n",
      "Enter b :  4\n"
     ]
    },
    {
     "name": "stdout",
     "output_type": "stream",
     "text": [
      "a += b  :  24\n",
      "a -= b  :  16\n",
      "a *= b  :  80\n",
      "a /= b  :  5.0\n",
      "a %= b  :  0\n",
      "a **= b :  160000\n",
      "a //= b :  5\n"
     ]
    }
   ],
   "source": [
    "a = int(input(\"Enter a : \"))\n",
    "b = int(input(\"Enter b : \"))  \n",
    "\n",
    "print(\"a += b  : \", a + b)    \n",
    "print(\"a -= b  : \", a - b)    \n",
    "print(\"a *= b  : \", a * b)    \n",
    "print(\"a /= b  : \", a / b)    \n",
    "print(\"a %= b  : \", a % b)  \n",
    "print(\"a **= b : \", a ** b)    \n",
    "print(\"a //= b : \", a // b) "
   ]
  },
  {
   "cell_type": "markdown",
   "id": "9dd3676b-19cc-4ec8-86cf-d2d3554c4162",
   "metadata": {},
   "source": [
    "## 4. Logical Operators"
   ]
  },
  {
   "cell_type": "code",
   "execution_count": 28,
   "id": "0e3b06d5-ef31-4858-a2bc-ccb289897d7d",
   "metadata": {},
   "outputs": [
    {
     "name": "stdout",
     "output_type": "stream",
     "text": [
      "a > 5 or a < 7 : True\n",
      "not (a > 5 and a < 7) :  True\n",
      "x and y :  False\n",
      "x or y :  True\n",
      "not x :  False\n"
     ]
    }
   ],
   "source": [
    "a = 7   \n",
    "x = True\n",
    "y = False\n",
    "\n",
    "print(\"a > 5 or a < 7 :\", a > 5 or a < 7)  \n",
    "print(\"not (a > 5 and a < 7) : \", not(a > 5 and a < 7))    \n",
    "print(\"x and y : \", x and y)\n",
    "print(\"x or y : \", x or y)\n",
    "print(\"not x : \", not x)"
   ]
  },
  {
   "cell_type": "markdown",
   "id": "4401b852-a6f9-433a-8dc6-eed4d3054bec",
   "metadata": {},
   "source": [
    "## 5. Bitwise Operators"
   ]
  },
  {
   "cell_type": "code",
   "execution_count": 24,
   "id": "969e00f3-c2f8-48f2-83f4-2d0ffbd65df2",
   "metadata": {},
   "outputs": [
    {
     "name": "stdin",
     "output_type": "stream",
     "text": [
      "Enter a :  11\n",
      "Enter b :  7\n"
     ]
    },
    {
     "name": "stdout",
     "output_type": "stream",
     "text": [
      "a & b  :  3\n",
      "a | b  :  15\n",
      "a ^ b  :  12\n",
      "~a     :  -12\n",
      "a << b :  1408\n",
      "a >> b :  0\n"
     ]
    }
   ],
   "source": [
    "a = int(input(\"Enter a : \"))\n",
    "b = int(input(\"Enter b : \"))  \n",
    "  \n",
    "print(\"a & b  : \", a & b)    \n",
    "print(\"a | b  : \", a | b)    \n",
    "print(\"a ^ b  : \", a ^ b)    \n",
    "print(\"~a     : \", ~a)  \n",
    "print(\"a << b : \", a << b)    \n",
    "print(\"a >> b : \", a >> b)   "
   ]
  },
  {
   "cell_type": "markdown",
   "id": "de8c5230-5697-4802-a274-12643af03355",
   "metadata": {},
   "source": [
    "## 6. Identity Operators"
   ]
  },
  {
   "cell_type": "code",
   "execution_count": 31,
   "id": "1ecae17b-32be-4a0d-a581-7cc057e44a93",
   "metadata": {},
   "outputs": [
    {
     "name": "stdout",
     "output_type": "stream",
     "text": [
      "a is c     :  True\n",
      "a is not c :  False\n",
      "a is b     :  False\n",
      "a is not b :  True\n",
      "a == b     :  True\n",
      "a != b     :  False\n"
     ]
    }
   ],
   "source": [
    "a = [\"Rose\", \"Lotus\"]    \n",
    "b = [\"Rose\", \"Lotus\"]    \n",
    " \n",
    "c = a    \n",
    "  \n",
    "print(\"a is c     : \", a is c)  \n",
    "print(\"a is not c : \", a is not c)  \n",
    "print(\"a is b     : \", a is b)  \n",
    "print(\"a is not b : \", a is not b)  \n",
    "print(\"a == b     : \", a == b)  \n",
    "print(\"a != b     : \", a != b)  "
   ]
  },
  {
   "cell_type": "markdown",
   "id": "e5efc1be-3912-4c0f-a35a-2e05d19c775b",
   "metadata": {},
   "source": [
    "## 7. Membership Operators"
   ]
  },
  {
   "cell_type": "code",
   "execution_count": 40,
   "id": "75ed3451-6d0c-491d-82c7-b070a63d3c83",
   "metadata": {},
   "outputs": [
    {
     "name": "stdout",
     "output_type": "stream",
     "text": [
      "Given List: [12, 22, 28, 35, 42, 49, 54, 65, 92, 103, 245, 874]\n",
      "x :  31 is NOT present in the list !!\n",
      "y :  28 is present in the list !!\n"
     ]
    }
   ],
   "source": [
    "l = [12, 22, 28, 35, 42, 49, 54, 65, 92, 103, 245, 874]  \n",
    "\n",
    "x = 31  \n",
    "y = 28  \n",
    "\n",
    "print(\"Given List:\", l)  \n",
    "\n",
    "if x not in l :  \n",
    "    print(\"x : \", x,\"is NOT present in the list !!\")  \n",
    "else :  \n",
    "    print(\"x : \", x,\"is present in the list !!\")  \n",
    "\n",
    "if y in l :  \n",
    "    print(\"y : \", y,\"is present in the list !!\")  \n",
    "else :  \n",
    "    print(\"y : \", y,\"is NOT present in the list !!\")  "
   ]
  }
 ],
 "metadata": {
  "kernelspec": {
   "display_name": "Python 3 (ipykernel)",
   "language": "python",
   "name": "python3"
  },
  "language_info": {
   "codemirror_mode": {
    "name": "ipython",
    "version": 3
   },
   "file_extension": ".py",
   "mimetype": "text/x-python",
   "name": "python",
   "nbconvert_exporter": "python",
   "pygments_lexer": "ipython3",
   "version": "3.12.7"
  }
 },
 "nbformat": 4,
 "nbformat_minor": 5
}
