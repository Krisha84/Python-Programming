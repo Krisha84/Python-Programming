{
 "cells": [
  {
   "cell_type": "markdown",
   "id": "0cc507cf-3c8b-4727-a918-a85d014d7cb1",
   "metadata": {},
   "source": [
    "# 1. Program to add two matrices using nested loop"
   ]
  },
  {
   "cell_type": "markdown",
   "id": "b8e4954c-5682-426e-b950-7a8361b96bf3",
   "metadata": {},
   "source": [
    "## Creation of matrix using list comprehension"
   ]
  },
  {
   "cell_type": "code",
   "execution_count": 76,
   "id": "4e133abe-4512-4cf1-aca8-7441bd58d249",
   "metadata": {},
   "outputs": [
    {
     "name": "stdin",
     "output_type": "stream",
     "text": [
      "Enter n :  3\n"
     ]
    },
    {
     "name": "stdout",
     "output_type": "stream",
     "text": [
      "[[0, 0, 0], [0, 0, 0], [0, 0, 0]]\n"
     ]
    }
   ],
   "source": [
    "n = int(input(\"Enter n : \"))\n",
    "\n",
    "matrix = [[0 for _ in range(n)] for _ in range(n)]\n",
    "print(matrix)"
   ]
  },
  {
   "cell_type": "markdown",
   "id": "dcd16bde-d64c-4626-a257-e665783c74e8",
   "metadata": {},
   "source": [
    "## Using Loops"
   ]
  },
  {
   "cell_type": "code",
   "execution_count": 42,
   "id": "681058c2-aead-44cf-90a4-6418db9e70e7",
   "metadata": {},
   "outputs": [
    {
     "data": {
      "text/plain": [
       "[[1, 2, 3], [4, 5, 6], [7, 8, 9]]"
      ]
     },
     "execution_count": 42,
     "metadata": {},
     "output_type": "execute_result"
    }
   ],
   "source": [
    "n = 3\n",
    "\n",
    "matrix = []\n",
    "\n",
    "count = 1\n",
    "for i in range(n) :\n",
    "    row = []\n",
    "    \n",
    "    for j in range(n) :\n",
    "        row.append(count)\n",
    "        count = count + 1\n",
    "        \n",
    "    matrix.append(row)\n",
    "\n",
    "matrix"
   ]
  },
  {
   "cell_type": "markdown",
   "id": "b9784331-2deb-44c0-b3b9-99b62f29bbb9",
   "metadata": {},
   "source": [
    "## 1. Addition of two matrices using nested loops"
   ]
  },
  {
   "cell_type": "code",
   "execution_count": 4,
   "id": "b4b8c159-18ce-4a44-9184-753577b9adae",
   "metadata": {},
   "outputs": [
    {
     "name": "stdout",
     "output_type": "stream",
     "text": [
      "[10, 10, 10]\n",
      "[10, 10, 10]\n",
      "[10, 10, 10]\n"
     ]
    }
   ],
   "source": [
    "X = [\n",
    "     [1, 2, 3],\n",
    "     [4, 5, 6],\n",
    "     [7, 8, 9]\n",
    "    ]\n",
    "\n",
    "Y = [\n",
    "     [9, 8, 7],\n",
    "     [6, 5, 4],\n",
    "     [3, 2, 1]\n",
    "    ]\n",
    "\n",
    "result = [\n",
    "          [0, 0, 0],\n",
    "          [0, 0, 0],\n",
    "          [0, 0, 0]\n",
    "         ]\n",
    "\n",
    "for i in range(len(X)):\n",
    "    for j in range(len(X[0])):\n",
    "        result[i][j] = X[i][j] + Y[i][j]\n",
    "\n",
    "for r in result:\n",
    "    print(r)"
   ]
  },
  {
   "cell_type": "markdown",
   "id": "e14a02ef-3dda-472e-b1b9-2cceb321f3ef",
   "metadata": {},
   "source": [
    "## 2. Using list comprehension"
   ]
  },
  {
   "cell_type": "code",
   "execution_count": 6,
   "id": "48c72def-bcdd-4aeb-8e91-426aa675dbc3",
   "metadata": {},
   "outputs": [
    {
     "name": "stdout",
     "output_type": "stream",
     "text": [
      "[10, 10, 10]\n",
      "[10, 10, 10]\n",
      "[10, 10, 10]\n"
     ]
    }
   ],
   "source": [
    "X = [\n",
    "     [1, 2, 3],\n",
    "     [4, 5, 6],\n",
    "     [7, 8, 9]\n",
    "    ]\n",
    "\n",
    "Y = [\n",
    "     [9, 8, 7],\n",
    "     [6, 5, 4],\n",
    "     [3, 2, 1]\n",
    "    ]\n",
    "\n",
    "result = [[ X[i][j] + Y[i][j] for j in range(len(X[0])) ] for i in range(len(X)) ]\n",
    "\n",
    "for r in result:\n",
    "    print(r)"
   ]
  },
  {
   "cell_type": "markdown",
   "id": "b91d7c05-cf38-48a7-aed9-ea04fa92292a",
   "metadata": {},
   "source": [
    "## 3. Using zip()"
   ]
  },
  {
   "cell_type": "code",
   "execution_count": 20,
   "id": "1966de2b-514b-42a5-b79e-f0c813ccd0a3",
   "metadata": {},
   "outputs": [
    {
     "data": {
      "text/plain": [
       "[<map at 0x255d0c34760>, <map at 0x255d0c34ee0>, <map at 0x255d0c379d0>]"
      ]
     },
     "execution_count": 20,
     "metadata": {},
     "output_type": "execute_result"
    }
   ],
   "source": [
    "X = [\n",
    "     [1, 2, 3],\n",
    "     [4, 5, 6],\n",
    "     [7, 8, 9]\n",
    "    ]\n",
    "\n",
    "Y = [\n",
    "     [9, 8, 7],\n",
    "     [6, 5, 4],\n",
    "     [3, 2, 1]\n",
    "    ]\n",
    "\n",
    "result = [map(sum, zip(*t)) for t in zip(X, Y)]\n",
    "\n",
    "result"
   ]
  },
  {
   "cell_type": "markdown",
   "id": "25e6556c-216d-4c46-b511-a6c87f702104",
   "metadata": {},
   "source": [
    "## 4. Program to Multiply Two Matrices"
   ]
  },
  {
   "cell_type": "code",
   "execution_count": 23,
   "id": "046bcfdf-5499-4ecb-8c69-bf8f9c3dcadb",
   "metadata": {},
   "outputs": [
    {
     "name": "stdout",
     "output_type": "stream",
     "text": [
      "[19, 22]\n",
      "[43, 50]\n"
     ]
    }
   ],
   "source": [
    "matrix_a = [[1, 2], [3, 4]]\n",
    "matrix_b = [[5, 6], [7, 8]]\n",
    "\n",
    "result = [[0, 0], [0, 0]]\n",
    "\n",
    "for i in range(2) :\n",
    "    for j in range(2) :\n",
    "        result[i][j] = ((matrix_a[i][0] * matrix_b[0][j]) + (matrix_a[i][1] * matrix_b[1][j]))\n",
    "\n",
    "for row in result:\n",
    "    print(row)"
   ]
  },
  {
   "cell_type": "markdown",
   "id": "ae248fc4-ed83-48eb-91bc-3f972f626b17",
   "metadata": {},
   "source": [
    "## 5. Using nested loops"
   ]
  },
  {
   "cell_type": "code",
   "execution_count": 26,
   "id": "0d595d2b-943e-4920-b588-833d52cf0ab2",
   "metadata": {},
   "outputs": [
    {
     "name": "stdout",
     "output_type": "stream",
     "text": [
      "[114, 160, 60, 27]\n",
      "[74, 97, 73, 14]\n",
      "[119, 157, 112, 23]\n"
     ]
    }
   ],
   "source": [
    "A = [[12, 7, 3],[4, 5, 6],[7, 8, 9]]\n",
    "   \n",
    "B = [[5, 8, 1, 2],[6, 7, 3, 0],[4, 5, 9, 1]]\n",
    "    \n",
    "result = [[0, 0, 0, 0],[0, 0, 0, 0],[0, 0, 0, 0]]\n",
    "\n",
    "for i in range(len(A)) :\n",
    "    for j in range(len(B[0])) :\n",
    "        for k in range(len(B)) :\n",
    "            result[i][j] += A[i][k] * B[k][j]\n",
    "\n",
    "for r in result :\n",
    "    print(r)"
   ]
  },
  {
   "cell_type": "markdown",
   "id": "db9e1d53-d592-425b-ba9e-025a2467ebe5",
   "metadata": {},
   "source": [
    "## 6. Addition of two matrices using nested loops"
   ]
  },
  {
   "cell_type": "code",
   "execution_count": 29,
   "id": "a7ed7251-9a9c-4a2f-8fce-2abeca5c32d9",
   "metadata": {},
   "outputs": [
    {
     "name": "stdout",
     "output_type": "stream",
     "text": [
      "Addition of two matrix\n",
      "5 7 \n",
      "9 11 \n"
     ]
    }
   ],
   "source": [
    "m1 = [[1, 2], [3, 4]]\n",
    "m2 = [[4, 5], [6, 7]]\n",
    "\n",
    "result = [[0, 0], [0, 0]]\n",
    "\n",
    "for i in range(len(m1)) :\n",
    "\tfor j in range(len(m1[0])) :\n",
    "\t\tresult[i][j] = m1[i][j] + m2[i][j]\n",
    "\n",
    "print(\"Addition of two matrix\")\n",
    "for row in result :\n",
    "\tfor element in row :\n",
    "\t\tprint(element, end=\" \")\n",
    "\tprint()"
   ]
  },
  {
   "cell_type": "markdown",
   "id": "3b3f6219-c259-49ba-bf62-87e870568df8",
   "metadata": {},
   "source": [
    "## 7. Subtraction of two matrices using nested loops"
   ]
  },
  {
   "cell_type": "code",
   "execution_count": 33,
   "id": "55025b3d-83ba-4dcc-82c9-f25c304cb5ee",
   "metadata": {},
   "outputs": [
    {
     "name": "stdout",
     "output_type": "stream",
     "text": [
      "Substraction of two matrix\n",
      "-3 -3 \n",
      "-3 -3 \n"
     ]
    }
   ],
   "source": [
    "m1 = [[1, 2], [3, 4]]\n",
    "m2 = [[4, 5], [6, 7]]\n",
    "\n",
    "result = [[0, 0], [0, 0]]\n",
    "\n",
    "for i in range(len(m1)) :\n",
    "\tfor j in range(len(m1[0])) :\n",
    "\t\tresult[i][j] = m1[i][j] - m2[i][j]\n",
    "\n",
    "print(\"Substraction of two matrix\")\n",
    "for row in result :\n",
    "\tfor element in row :\n",
    "\t\tprint(element, end=\" \")\n",
    "\tprint()"
   ]
  },
  {
   "cell_type": "markdown",
   "id": "812a9697-55a3-428c-bbc6-675538d79a29",
   "metadata": {},
   "source": [
    "## 8. Get Kth column of Matrix using for loop"
   ]
  },
  {
   "cell_type": "code",
   "execution_count": 51,
   "id": "7f055108-ffe2-46d7-8a8d-e6d3447a784c",
   "metadata": {},
   "outputs": [
    {
     "name": "stdout",
     "output_type": "stream",
     "text": [
      "The Kth column of matrix is : [6, 10, 5]\n"
     ]
    }
   ],
   "source": [
    "test_list = [[4, 5, 6], [8, 1, 10], [7, 12, 5]]\n",
    "\n",
    "K = 2\n",
    "\n",
    "res = []\n",
    "\n",
    "for i in range(len(test_list)) :\n",
    "\tres.append(test_list[i][K])\n",
    "\n",
    "print(\"The Kth column of matrix is : \" + str(res))"
   ]
  },
  {
   "cell_type": "markdown",
   "id": "5b018041-c8d7-4467-a3f1-b82d06fa22b9",
   "metadata": {},
   "source": [
    "## 9. Using list slicing"
   ]
  },
  {
   "cell_type": "code",
   "execution_count": 55,
   "id": "e9c12783-c2bc-453e-87ef-b8c2662b585d",
   "metadata": {},
   "outputs": [
    {
     "name": "stdout",
     "output_type": "stream",
     "text": [
      "The Kth column of matrix is : [6, 10, 5]\n"
     ]
    }
   ],
   "source": [
    "test_list = [[4, 5, 6], [8, 1, 10], [7, 12, 5]]\n",
    "\n",
    "K = 2\n",
    "\n",
    "res = [row[K] for row in test_list]\n",
    "\n",
    "print(\"The Kth column of matrix is : \" + str(res))"
   ]
  },
  {
   "cell_type": "markdown",
   "id": "b8989f84-9e69-4a57-af18-79a811272c24",
   "metadata": {},
   "source": [
    "## 10. Using list comprehension"
   ]
  },
  {
   "cell_type": "code",
   "execution_count": 71,
   "id": "38e36b15-7e94-4b04-8563-9b1eabbc1035",
   "metadata": {},
   "outputs": [
    {
     "name": "stdout",
     "output_type": "stream",
     "text": [
      "The Kth column of matrix is : [6, 10, 5]\n"
     ]
    }
   ],
   "source": [
    "test_list = [[4, 5, 6], [8, 1, 10], [7, 12, 5]]\n",
    "\n",
    "K = 2\n",
    "\n",
    "res = [sub[K] for sub in test_list]\n",
    "\n",
    "print(\"The Kth column of matrix is : \" + str(res))"
   ]
  },
  {
   "cell_type": "markdown",
   "id": "14b10545-3ff6-4b0f-876d-d3df33ede193",
   "metadata": {},
   "source": [
    "## 11. Transpose Matrix using List Comprehension"
   ]
  },
  {
   "cell_type": "code",
   "execution_count": 89,
   "id": "f242d007-9e79-4655-9942-c2676aace688",
   "metadata": {},
   "outputs": [
    {
     "name": "stdout",
     "output_type": "stream",
     "text": [
      "[1, 2]\n",
      "[3, 4]\n",
      "[5, 6]\n",
      "\n",
      "--Transpose--\n",
      "[1, 3, 5]\n",
      "[2, 4, 6]\n"
     ]
    }
   ],
   "source": [
    "m = [[1, 2], [3, 4], [5, 6]]\n",
    "\n",
    "for row in m :\n",
    "\tprint(row)\n",
    "    \n",
    "rez = [[m[j][i] for j in range(len(m))] for i in range(len(m[0]))]\n",
    "\n",
    "print()\n",
    "print(\"--Transpose--\")\n",
    "\n",
    "for row in rez:\n",
    "\tprint(row)"
   ]
  }
 ],
 "metadata": {
  "kernelspec": {
   "display_name": "Python 3 (ipykernel)",
   "language": "python",
   "name": "python3"
  },
  "language_info": {
   "codemirror_mode": {
    "name": "ipython",
    "version": 3
   },
   "file_extension": ".py",
   "mimetype": "text/x-python",
   "name": "python",
   "nbconvert_exporter": "python",
   "pygments_lexer": "ipython3",
   "version": "3.12.7"
  }
 },
 "nbformat": 4,
 "nbformat_minor": 5
}
