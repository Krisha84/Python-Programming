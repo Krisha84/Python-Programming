{
 "cells": [
  {
   "cell_type": "markdown",
   "metadata": {},
   "source": [
    "<a href='https://www.darshan.ac.in/'> <img src='https://www.darshan.ac.in/Content/media/DU_Logo.svg' width=\"250\" height=\"300\"/></a>\n",
    "<pre>\n",
    "<center><b><h1>Python Programming - 2301CS404</b></center>\n",
    "<center><b><h1>Lab - 13</b></center>   \n",
    "<center><b><h1>Krisha Busa | 23010101039 | 10-03-2025</b></center>  \n",
    "<pre>"
   ]
  },
  {
   "cell_type": "markdown",
   "metadata": {},
   "source": [
    "## Continued.."
   ]
  },
  {
   "cell_type": "markdown",
   "metadata": {},
   "source": [
    "### 10) Calculate area of a ractangle using object as an argument to a method."
   ]
  },
  {
   "cell_type": "code",
   "execution_count": 10,
   "metadata": {},
   "outputs": [
    {
     "name": "stdin",
     "output_type": "stream",
     "text": [
      "Enter the length : 10\n",
      "Enter the breadth : 5\n"
     ]
    },
    {
     "name": "stdout",
     "output_type": "stream",
     "text": [
      "Area of Rectangle : 50.0\n"
     ]
    }
   ],
   "source": [
    "class Rectangle :\n",
    "    def __init__(self, length, breadth) :\n",
    "        self.length = length\n",
    "        self.breadth = breadth\n",
    "\n",
    "    def area(self) :\n",
    "        return self.length * self.breadth\n",
    "\n",
    "def calculate_area(rect) :\n",
    "    return rect.area()\n",
    "\n",
    "l = float(input(\"Enter the length :\"))\n",
    "b = float(input(\"Enter the breadth :\"))\n",
    "\n",
    "rect1 = Rectangle(l, b)\n",
    "\n",
    "print(\"Area of Rectangle :\", calculate_area(rect1))"
   ]
  },
  {
   "cell_type": "markdown",
   "metadata": {},
   "source": [
    "### 11) Calculate the area of a square. \n",
    "### Include a Constructor, a method to calculate area named area() and a method named output() that prints the output and is invoked by area()."
   ]
  },
  {
   "cell_type": "code",
   "execution_count": 34,
   "metadata": {},
   "outputs": [
    {
     "name": "stdin",
     "output_type": "stream",
     "text": [
      "Enter the length : 4\n"
     ]
    },
    {
     "name": "stdout",
     "output_type": "stream",
     "text": [
      "Area of Square : 16.0\n"
     ]
    }
   ],
   "source": [
    "class Square :\n",
    "    def __init__(self, length) :\n",
    "        self.length = length\n",
    "\n",
    "    def area(self) :\n",
    "        self.ans = self.length ** 2\n",
    "\n",
    "    def output(self) :\n",
    "        print(\"Area of Square :\", self.ans)\n",
    "\n",
    "\n",
    "l = float(input(\"Enter the length :\"))\n",
    "sq = Square(l)\n",
    "\n",
    "sq.area()\n",
    "sq.output()"
   ]
  },
  {
   "cell_type": "markdown",
   "metadata": {},
   "source": [
    "### 12) Calculate the area of a rectangle. \n",
    "### Include a Constructor, a method to calculate area named area() and a method named output() that prints the output and is invoked by area().\n",
    "### Also define a class method that compares the two sides of reactangle. An object is instantiated only if the two sides are different; otherwise a message should be displayed : THIS IS SQUARE."
   ]
  },
  {
   "cell_type": "code",
   "execution_count": 52,
   "metadata": {},
   "outputs": [
    {
     "name": "stdin",
     "output_type": "stream",
     "text": [
      "Enter the length:  10\n",
      "Enter the breadth:  10\n"
     ]
    },
    {
     "name": "stdout",
     "output_type": "stream",
     "text": [
      "THIS IS SQUARE\n"
     ]
    }
   ],
   "source": [
    "class Rectangle :\n",
    "    def __init__(self, length, breadth) :\n",
    "        if length == breadth :\n",
    "            print(\"THIS IS SQUARE\")\n",
    "            self.is_valid = False  \n",
    "        else :\n",
    "            self.length = length\n",
    "            self.breadth = breadth\n",
    "            self.is_valid = True   \n",
    "            \n",
    "\n",
    "    def area(self) :\n",
    "        if not self.is_valid :\n",
    "            return  \n",
    "        self.ans = self.length * self.breadth\n",
    "        self.output()\n",
    "\n",
    "    def output(self) :\n",
    "        print(\"Area of Rectangle :\", self.ans)\n",
    "\n",
    "l = float(input(\"Enter the length: \"))\n",
    "b = float(input(\"Enter the breadth: \"))\n",
    "\n",
    "rect1 = Rectangle(l, b)\n",
    "rect1.area()"
   ]
  },
  {
   "cell_type": "markdown",
   "metadata": {},
   "source": [
    "### 13) Define a class Square having a private attribute \"side\". \n",
    "### Implement get_side and set_side methods to accees the private attribute from outside of the class."
   ]
  },
  {
   "cell_type": "code",
   "execution_count": 58,
   "metadata": {},
   "outputs": [
    {
     "name": "stdout",
     "output_type": "stream",
     "text": [
      "Side : 5\n",
      "Updated Side : 7\n"
     ]
    }
   ],
   "source": [
    "class Square :\n",
    "    def __init__(self, length) :\n",
    "        self.__length = length \n",
    "\n",
    "    def get_side(self) :\n",
    "        return self.__length\n",
    "\n",
    "    def set_side(self, new_side) :\n",
    "        if new_side > 0 :\n",
    "            self.__length = new_side\n",
    "        else :\n",
    "            print(\"Side length must be positive\")\n",
    "\n",
    "sq = Square(5)\n",
    "print(\"Side :\", sq.get_side())  \n",
    "\n",
    "sq.set_side(7)\n",
    "print(\"Updated Side :\", sq.get_side())"
   ]
  },
  {
   "cell_type": "markdown",
   "metadata": {},
   "source": [
    "### 14) Create a class Profit that has a method named getProfit that accepts profit from the user.\n",
    "### Create a class Loss that has a method named getLoss that accepts loss from the user.\n",
    "### Create a class BalanceSheet that inherits from both classes Profit and Loss and calculates the balanace. It has two methods getBalance() and printBalance()."
   ]
  },
  {
   "cell_type": "code",
   "execution_count": 60,
   "metadata": {},
   "outputs": [
    {
     "name": "stdin",
     "output_type": "stream",
     "text": [
      "Enter profit :  100000\n",
      "Enter loss :  5000\n"
     ]
    },
    {
     "name": "stdout",
     "output_type": "stream",
     "text": [
      "Net Balance : 95000.0\n"
     ]
    }
   ],
   "source": [
    "class Profit :\n",
    "    def getProfit(self) :\n",
    "        self.profit = float(input(\"Enter profit : \"))\n",
    "\n",
    "class Loss :\n",
    "    def getLoss(self) :\n",
    "        self.loss = float(input(\"Enter loss : \"))\n",
    "\n",
    "class BalanceSheet(Profit, Loss) :\n",
    "    def getBalance(self) :\n",
    "        self.balance = self.profit - self.loss\n",
    "\n",
    "    def printBalance(self) :\n",
    "        print(\"Net Balance :\", self.balance)\n",
    "\n",
    "bs = BalanceSheet()\n",
    "bs.getProfit()\n",
    "bs.getLoss()\n",
    "bs.getBalance()\n",
    "bs.printBalance()"
   ]
  },
  {
   "attachments": {},
   "cell_type": "markdown",
   "metadata": {},
   "source": [
    "### 15) WAP to demonstrate all types of inheritance."
   ]
  },
  {
   "cell_type": "code",
   "execution_count": 64,
   "metadata": {},
   "outputs": [
    {
     "name": "stdout",
     "output_type": "stream",
     "text": [
      "-----\n",
      "Animals make sound\n",
      "Dog barks\n",
      "-----\n",
      "Animals make sound\n",
      "Bats can fly\n",
      "Mammals are warm-blooded\n",
      "-----\n",
      "Animals make sound\n",
      "Dog barks\n",
      "Puppies are cute\n",
      "-----\n",
      "Animals make sound\n",
      "Cat meows\n",
      "-----\n",
      "Fish can swim\n",
      "Mammals are warm-blooded\n",
      "Whale is the largest mammal\n"
     ]
    }
   ],
   "source": [
    "# 1. Single Inheritance\n",
    "class Animal:\n",
    "    def sound(self):\n",
    "        print(\"Animals make sound\")\n",
    "\n",
    "class Dog(Animal):\n",
    "    def bark(self):\n",
    "        print(\"Dog barks\")\n",
    "\n",
    "# 2. Multiple Inheritance\n",
    "class Mammal:\n",
    "    def warm_blooded(self):\n",
    "        print(\"Mammals are warm-blooded\")\n",
    "\n",
    "class Bat(Animal, Mammal):\n",
    "    def fly(self):\n",
    "        print(\"Bats can fly\")\n",
    "\n",
    "# 3. Multilevel Inheritance\n",
    "class Puppy(Dog):\n",
    "    def cute(self):\n",
    "        print(\"Puppies are cute\")\n",
    "\n",
    "# 4. Hierarchical Inheritance\n",
    "class Cat(Animal):\n",
    "    def meow(self):\n",
    "        print(\"Cat meows\")\n",
    "\n",
    "# 5. Hybrid Inheritance\n",
    "class Fish:\n",
    "    def swim(self):\n",
    "        print(\"Fish can swim\")\n",
    "\n",
    "class Whale(Mammal, Fish):\n",
    "    def big(self):\n",
    "        print(\"Whale is the largest mammal\")\n",
    "\n",
    "print(\"-----\")\n",
    "d = Dog()\n",
    "d.sound()\n",
    "d.bark()\n",
    "\n",
    "print(\"-----\")\n",
    "b = Bat()\n",
    "b.sound()\n",
    "b.fly()\n",
    "b.warm_blooded()\n",
    "\n",
    "print(\"-----\")\n",
    "p = Puppy()\n",
    "p.sound()\n",
    "p.bark()\n",
    "p.cute()\n",
    "\n",
    "print(\"-----\")\n",
    "c = Cat()\n",
    "c.sound()\n",
    "c.meow()\n",
    "\n",
    "print(\"-----\")\n",
    "w = Whale()\n",
    "w.swim()\n",
    "w.warm_blooded()\n",
    "w.big()"
   ]
  },
  {
   "cell_type": "markdown",
   "metadata": {},
   "source": [
    "### 16) Create a Person class with a constructor that takes two arguments name and age. \n",
    "### Create a child class Employee that inherits from Person and adds a new attribute salary. \n",
    "### Override the __init__ method in Employee to call the parent class's __init__ method using the super() and then initialize the salary attribute."
   ]
  },
  {
   "cell_type": "code",
   "execution_count": 80,
   "metadata": {},
   "outputs": [
    {
     "name": "stdout",
     "output_type": "stream",
     "text": [
      "Name : Krisha \n",
      " Age : 18 \n",
      " Salary : 100000\n"
     ]
    }
   ],
   "source": [
    "class Person :\n",
    "    def __init__(self, name, age) :\n",
    "        self.name = name\n",
    "        self.age = age\n",
    "\n",
    "class Employee(Person) :\n",
    "    def __init__(self, name, age, salary) :\n",
    "        super().__init__(name, age) \n",
    "        self.salary = salary\n",
    "\n",
    "    def display(self) :\n",
    "        print(\"Name :\", self.name,\"\\n\",\"Age :\", self.age,\"\\n\",\"Salary :\", self.salary)\n",
    "\n",
    "emp = Employee(\"Krisha\", 18, 100000)\n",
    "emp.display()"
   ]
  },
  {
   "cell_type": "markdown",
   "metadata": {},
   "source": [
    "### 17) Create a Shape class with a draw method that is not implemented. \n",
    "### Create three child classes Rectangle, Circle, and Triangle that implement the draw method with their respective drawing behaviors. \n",
    "### Create a list of Shape objects that includes one instance of each child class, and then iterate through the list and call the draw method on each object."
   ]
  },
  {
   "cell_type": "code",
   "execution_count": 82,
   "metadata": {},
   "outputs": [
    {
     "name": "stdout",
     "output_type": "stream",
     "text": [
      "Drawing a Rectangle\n",
      "Drawing a Circle\n",
      "Drawing a Triangle\n"
     ]
    }
   ],
   "source": [
    "from abc import ABC, abstractmethod\n",
    "\n",
    "class Shape(ABC):  # Abstract Base Class\n",
    "    @abstractmethod\n",
    "    def draw(self):\n",
    "        pass\n",
    "\n",
    "class Rectangle(Shape):\n",
    "    def draw(self):\n",
    "        print(\"Drawing a Rectangle\")\n",
    "\n",
    "class Circle(Shape):\n",
    "    def draw(self):\n",
    "        print(\"Drawing a Circle\")\n",
    "\n",
    "class Triangle(Shape):\n",
    "    def draw(self) :\n",
    "        print(\"Drawing a Triangle\")\n",
    "\n",
    "shapes = [Rectangle(), Circle(), Triangle()]\n",
    "\n",
    "for shape in shapes :\n",
    "    shape.draw()"
   ]
  },
  {
   "cell_type": "code",
   "execution_count": null,
   "metadata": {},
   "outputs": [],
   "source": []
  }
 ],
 "metadata": {
  "kernelspec": {
   "display_name": "Python 3 (ipykernel)",
   "language": "python",
   "name": "python3"
  },
  "language_info": {
   "codemirror_mode": {
    "name": "ipython",
    "version": 3
   },
   "file_extension": ".py",
   "mimetype": "text/x-python",
   "name": "python",
   "nbconvert_exporter": "python",
   "pygments_lexer": "ipython3",
   "version": "3.12.7"
  }
 },
 "nbformat": 4,
 "nbformat_minor": 4
}
