{
 "cells": [
  {
   "cell_type": "markdown",
   "metadata": {},
   "source": [
    "## <a href='https://www.darshan.ac.in/'> <img src='https://www.darshan.ac.in/Content/media/DU_Logo.svg' width=\"250\" height=\"300\"/></a>\n",
    "<pre>\n",
    "<center><b><h1>Python Programming - 2301CS404</b></center>\n",
    "<center><b><h1>Lab - 2</b></center> \n",
    "<center><b><h1>Krisha Busa | 23010101039 | 2-12-2024</b></center> \n",
    "<pre>"
   ]
  },
  {
   "cell_type": "markdown",
   "metadata": {},
   "source": [
    "# if..else.."
   ]
  },
  {
   "cell_type": "markdown",
   "metadata": {},
   "source": [
    "### 01) WAP to check whether the given number is positive or negative."
   ]
  },
  {
   "cell_type": "code",
   "execution_count": 27,
   "metadata": {},
   "outputs": [
    {
     "name": "stdin",
     "output_type": "stream",
     "text": [
      "Enter the number :  11\n"
     ]
    },
    {
     "name": "stdout",
     "output_type": "stream",
     "text": [
      "11 is positive !!\n"
     ]
    }
   ],
   "source": [
    "n = int(input(\"Enter the number : \"))\n",
    "\n",
    "if (n>=0) : \n",
    "    print(n,\"is positive !!\")\n",
    "else :\n",
    "    print(n,\"is negative !!\")"
   ]
  },
  {
   "cell_type": "markdown",
   "metadata": {},
   "source": [
    "### 02) WAP to check whether the given number is odd or even."
   ]
  },
  {
   "cell_type": "code",
   "execution_count": 29,
   "metadata": {},
   "outputs": [
    {
     "name": "stdin",
     "output_type": "stream",
     "text": [
      "Enter the number :  237\n"
     ]
    },
    {
     "name": "stdout",
     "output_type": "stream",
     "text": [
      "237 is odd !!\n"
     ]
    }
   ],
   "source": [
    "n = int(input(\"Enter the number : \"))\n",
    "\n",
    "if (n%2==0) : \n",
    "    print(n,\"is even !!\")\n",
    "else :\n",
    "    print(n,\"is odd !!\")"
   ]
  },
  {
   "cell_type": "markdown",
   "metadata": {},
   "source": [
    "### 03) WAP to find out largest number from given two numbers using simple if and ternary operator."
   ]
  },
  {
   "cell_type": "code",
   "execution_count": 31,
   "metadata": {},
   "outputs": [
    {
     "name": "stdin",
     "output_type": "stream",
     "text": [
      "Enter the number a :  33\n",
      "Enter the number b :  22\n"
     ]
    },
    {
     "name": "stdout",
     "output_type": "stream",
     "text": [
      "33 is max !!\n"
     ]
    }
   ],
   "source": [
    "a = int(input(\"Enter the number a : \"))\n",
    "b = int(input(\"Enter the number b : \"))\n",
    "\n",
    "if (a>b) :\n",
    "    print(a,\"is max !!\")\n",
    "else :\n",
    "    print(b,\"is max !!\")"
   ]
  },
  {
   "cell_type": "code",
   "execution_count": 1,
   "metadata": {},
   "outputs": [
    {
     "name": "stdin",
     "output_type": "stream",
     "text": [
      "Enter the number a :  22\n",
      "Enter the number b :  11\n"
     ]
    },
    {
     "name": "stdout",
     "output_type": "stream",
     "text": [
      "22 is max !!\n"
     ]
    }
   ],
   "source": [
    "# Using ternary operator \n",
    "\n",
    "a = int(input(\"Enter the number a : \"))\n",
    "b = int(input(\"Enter the number b : \"))\n",
    "\n",
    "print(a,\"is max !!\") if (a>b) else print(b,\"is max !!\")"
   ]
  },
  {
   "cell_type": "markdown",
   "metadata": {},
   "source": [
    "### 04) WAP to find out largest number from given three numbers."
   ]
  },
  {
   "cell_type": "code",
   "execution_count": 15,
   "metadata": {},
   "outputs": [
    {
     "name": "stdin",
     "output_type": "stream",
     "text": [
      "Enter the number a :  44\n",
      "Enter the number b :  34\n",
      "Enter the number c :  111\n"
     ]
    },
    {
     "name": "stdout",
     "output_type": "stream",
     "text": [
      "The largest number:  111\n"
     ]
    }
   ],
   "source": [
    "a = int(input(\"Enter the number a : \"))\n",
    "b = int(input(\"Enter the number b : \"))\n",
    "c = int(input(\"Enter the number c : \"))\n",
    "\n",
    "max = a\n",
    "\n",
    "if (b>max):\n",
    "    max = b\n",
    "if (c>max):\n",
    "    max = c\n",
    "\n",
    "print(\"The largest number: \", max)"
   ]
  },
  {
   "cell_type": "markdown",
   "metadata": {},
   "source": [
    "### 05) WAP to check whether the given year is leap year or not.\n",
    "[If a year can be divisible by 4 but not divisible by 100 then it is leap year but if it is divisible by 400 then it is leap year]"
   ]
  },
  {
   "cell_type": "code",
   "execution_count": 17,
   "metadata": {},
   "outputs": [
    {
     "name": "stdin",
     "output_type": "stream",
     "text": [
      "Enter the year :  2024\n"
     ]
    },
    {
     "name": "stdout",
     "output_type": "stream",
     "text": [
      "2024 is a leap year !!\n"
     ]
    }
   ],
   "source": [
    "n = int(input(\"Enter the year : \"))\n",
    "if (n%4 == 0) and (n%100 != 0) or (n%400 == 0) :\n",
    "    print(n,\"is a leap year !!\")\n",
    "else :\n",
    "    print(n,\"is not a leap year !!\")"
   ]
  },
  {
   "cell_type": "markdown",
   "metadata": {},
   "source": [
    "### 06) WAP in python to display the name of the day according to the number given by the user."
   ]
  },
  {
   "cell_type": "code",
   "execution_count": 26,
   "metadata": {},
   "outputs": [
    {
     "name": "stdin",
     "output_type": "stream",
     "text": [
      "Enter the number between 1 to 7 :  5\n"
     ]
    },
    {
     "name": "stdout",
     "output_type": "stream",
     "text": [
      "Friday !!\n"
     ]
    }
   ],
   "source": [
    "n = int(input(\"Enter the number between 1 to 7 : \"))\n",
    "\n",
    "if (n==1) :\n",
    "    print(\"Monday !!\")\n",
    "elif (n==2) :\n",
    "    print(\"Tuesday !!\")\n",
    "elif (n==3) :\n",
    "    print(\"Wednesday !!\")\n",
    "elif (n==4) :\n",
    "    print(\"Thursday !!\")\n",
    "elif (n==5) :\n",
    "    print(\"Friday !!\")\n",
    "elif (n==6) :\n",
    "    print(\"Saturday !!\")\n",
    "elif (n==7) :\n",
    "    print(\"Sunday !!\")\n",
    "else :\n",
    "    print(\"Invaild number\")"
   ]
  },
  {
   "cell_type": "code",
   "execution_count": 30,
   "metadata": {},
   "outputs": [
    {
     "name": "stdin",
     "output_type": "stream",
     "text": [
      "Enter a day number:  12\n"
     ]
    },
    {
     "name": "stdout",
     "output_type": "stream",
     "text": [
      "The day is: Friday\n"
     ]
    }
   ],
   "source": [
    "day_number = int(input(\"Enter a day number: \"))\n",
    "\n",
    "days = [\"Monday\", \"Tuesday\", \"Wednesday\", \"Thursday\", \"Friday\", \"Saturday\", \"Sunday\"]\n",
    "\n",
    "if (1<=day_number<=7):\n",
    "    print(\"The day is:\", days[day_number-1])\n",
    "else:\n",
    "    while (day_number>7):\n",
    "        day_number -= 7\n",
    "    print(\"The day is:\", days[day_number-1])"
   ]
  },
  {
   "cell_type": "markdown",
   "metadata": {},
   "source": [
    "### 07) WAP to implement simple calculator which performs (add,sub,mul,div) of two no. based on user input."
   ]
  },
  {
   "cell_type": "code",
   "execution_count": 32,
   "metadata": {},
   "outputs": [
    {
     "name": "stdin",
     "output_type": "stream",
     "text": [
      "Enter the number a :  11\n",
      "Enter the number b :  5\n",
      "Enter 1:Add , 2:Sub , 3:Multi , 4:Div :  2\n"
     ]
    },
    {
     "name": "stdout",
     "output_type": "stream",
     "text": [
      "Subtraction : 6\n"
     ]
    }
   ],
   "source": [
    "a = int(input(\"Enter the number a : \"))\n",
    "b = int(input(\"Enter the number b : \"))\n",
    "c = int(input(\"Enter 1:Add , 2:Sub , 3:Multi , 4:Div : \"))\n",
    "\n",
    "if (c==1) :\n",
    "    print(\"Addition :\",(a+b))\n",
    "elif (c==2) :\n",
    "    print(\"Subtraction :\",(a-b))\n",
    "elif (c==3) :\n",
    "    print(\"Multiplication :\",(a*b))\n",
    "elif (c==4) :\n",
    "    print(\"Division :\",(a/b))\n",
    "else :\n",
    "    print(\"Invalid choice..!!\")"
   ]
  },
  {
   "cell_type": "markdown",
   "metadata": {},
   "source": [
    "### 08) WAP to read marks of five subjects. Calculate percentage and print class accordingly. \n",
    "Fail below 35 </br>\n",
    "Pass Class between 35 to 45 </br>\n",
    "Second Class</br>\n",
    "between 45 to 60</br>\n",
    "First Class between 60 to 70</br> \n",
    "Distinction if more than 70"
   ]
  },
  {
   "cell_type": "code",
   "execution_count": 102,
   "metadata": {},
   "outputs": [
    {
     "name": "stdin",
     "output_type": "stream",
     "text": [
      "Enter the marks of sub-1 : 11\n",
      "Enter the marks of sub-2 : 22\n",
      "Enter the marks of sub-3 : 1\n",
      "Enter the marks of sub-4 : 2\n",
      "Enter the marks of sub-5 : 3\n"
     ]
    },
    {
     "name": "stdout",
     "output_type": "stream",
     "text": [
      "Fail !!\n"
     ]
    }
   ],
   "source": [
    "m1 = int(input(\"Enter the marks of sub-1 :\"))\n",
    "m2 = int(input(\"Enter the marks of sub-2 :\"))\n",
    "m3 = int(input(\"Enter the marks of sub-3 :\"))\n",
    "m4 = int(input(\"Enter the marks of sub-4 :\"))\n",
    "m5 = int(input(\"Enter the marks of sub-5 :\"))\n",
    "\n",
    "per = (m1+m2+m3+m4+m5)/5\n",
    "\n",
    "if (per>=70) :\n",
    "    print(\"Distincion !!\")\n",
    "elif (per>=60) :\n",
    "    print(\"First Calss !!\")\n",
    "elif (per>=45) :\n",
    "    print(\"Second Class !!\")\n",
    "elif (per>=35) :\n",
    "    print(\"Pass !!\")\n",
    "else :\n",
    "    print(\"Fail !!\")"
   ]
  },
  {
   "cell_type": "markdown",
   "metadata": {},
   "source": [
    "### 09) Three sides of a triangle are entered through the keyboard, WAP to check whether the triangle is isosceles, equilateral, scalene or right-angled triangle."
   ]
  },
  {
   "cell_type": "code",
   "execution_count": 144,
   "metadata": {},
   "outputs": [
    {
     "name": "stdin",
     "output_type": "stream",
     "text": [
      "Enter the side-1 : 2\n",
      "Enter the side-2 : 3\n",
      "Enter the side-3 : 5\n"
     ]
    },
    {
     "name": "stdout",
     "output_type": "stream",
     "text": [
      "Scalene Triangle !!\n"
     ]
    }
   ],
   "source": [
    "s1 = int(input(\"Enter the side-1 :\"))\n",
    "s2 = int(input(\"Enter the side-2 :\"))\n",
    "s3 = int(input(\"Enter the side-3 :\"))\n",
    "\n",
    "if ((s1==s2) and (s2==s3) and (s3==s1)) :\n",
    "    print(\"Equilateral Triangle !!\")\n",
    "elif ((s1==s2) or (s2==s3) or (s3==s1)) :\n",
    "    print(\"Isosceles Triangle !!\")\n",
    "elif ((a**2+b**2==c**2) or (a**2+c**2==b**2) or (b**2+c**2==a**2)) :\n",
    "    print(\"Right-Angled Triangle !!\")\n",
    "else :\n",
    "    print(\"Scalene Triangle !!\")"
   ]
  },
  {
   "cell_type": "markdown",
   "metadata": {},
   "source": [
    "### 10) WAP to find the second largest number among three user input numbers."
   ]
  },
  {
   "cell_type": "code",
   "execution_count": 64,
   "metadata": {},
   "outputs": [
    {
     "name": "stdin",
     "output_type": "stream",
     "text": [
      "Enter the number a :  34\n",
      "Enter the number b :  23\n",
      "Enter the number c :  44\n"
     ]
    },
    {
     "name": "stdout",
     "output_type": "stream",
     "text": [
      "Second largest number:  34\n"
     ]
    }
   ],
   "source": [
    "a = int(input(\"Enter the number a : \"))\n",
    "b = int(input(\"Enter the number b : \"))\n",
    "c = int(input(\"Enter the number c : \"))\n",
    "\n",
    "# Largest number\n",
    "max = a\n",
    "if (b>max):\n",
    "    max = b\n",
    "if (c>max):\n",
    "    max = c\n",
    "\n",
    "# Second largest \n",
    "if (max==a):\n",
    "    if(b>c):\n",
    "        second_largest = b\n",
    "    else:\n",
    "        ssecond_largest = c\n",
    "\n",
    "elif (max==b):\n",
    "    if(a>c):\n",
    "        second_largest = a\n",
    "    else:\n",
    "        second_largest = c\n",
    "\n",
    "else:\n",
    "    if (a>b):\n",
    "        second_largest = a\n",
    "    else:\n",
    "        second_largest = b\n",
    "\n",
    "print(\"Second largest number: \", second_largest)"
   ]
  },
  {
   "cell_type": "markdown",
   "metadata": {},
   "source": [
    "### 11) WAP to calculate electricity bill based on following criteria. Which takes the unit from the user.\n",
    "a. First 1 to 50 units – Rs. 2.60/unit</br>\n",
    "b. Next 50 to 100 units – Rs. 3.25/unit</br>\n",
    "c. Next 100 to 200 units – Rs. 5.26/unit</br>\n",
    "d. above 200 units – Rs. 8.45/unit"
   ]
  },
  {
   "cell_type": "code",
   "execution_count": 70,
   "metadata": {},
   "outputs": [
    {
     "name": "stdin",
     "output_type": "stream",
     "text": [
      "Enter the number of units consumed:  111\n"
     ]
    },
    {
     "name": "stdout",
     "output_type": "stream",
     "text": [
      "Electricity Bill:  350.36\n"
     ]
    }
   ],
   "source": [
    "unit = int(input(\"Enter the number of units consumed: \"))\n",
    "\n",
    "if (unit<=50) :\n",
    "    bill = (unit * 2.60)\n",
    "elif (unit<=100) :\n",
    "    bill = (50 * 2.60) + ((unit-50) * 3.25)\n",
    "elif (unit<=200) :\n",
    "    bill = (50 * 2.60) + (50 * 3.25) + ((unit-100) * 5.26)\n",
    "else:\n",
    "    bill = (50 * 2.60) + (50 * 3.25) + (100 * 5.26) + ((unit-200) * 8.45)\n",
    "\n",
    "print(\"Electricity Bill: \", bill)"
   ]
  }
 ],
 "metadata": {
  "kernelspec": {
   "display_name": "Python 3 (ipykernel)",
   "language": "python",
   "name": "python3"
  },
  "language_info": {
   "codemirror_mode": {
    "name": "ipython",
    "version": 3
   },
   "file_extension": ".py",
   "mimetype": "text/x-python",
   "name": "python",
   "nbconvert_exporter": "python",
   "pygments_lexer": "ipython3",
   "version": "3.12.7"
  }
 },
 "nbformat": 4,
 "nbformat_minor": 4
}
