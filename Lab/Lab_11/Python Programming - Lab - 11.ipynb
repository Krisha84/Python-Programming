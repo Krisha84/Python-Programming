{
 "cells": [
  {
   "attachments": {},
   "cell_type": "markdown",
   "metadata": {},
   "source": [
    "<a href='https://www.darshan.ac.in/'> <img src='https://www.darshan.ac.in/Content/media/DU_Logo.svg' width=\"250\" height=\"300\"/></a>\n",
    "<pre>\n",
    "<center><b><h1>Python Programming - 2301CS404</b></center>\n",
    "<center><b><h1>Lab - 11</b></center>    \n",
    "<center><b><h1>Krisha Busa | 23010101039 | 10-02-2025</b></center>  \n",
    "<pre>"
   ]
  },
  {
   "cell_type": "markdown",
   "metadata": {},
   "source": [
    "# Modules"
   ]
  },
  {
   "cell_type": "markdown",
   "metadata": {},
   "source": [
    "### 01) WAP to create Calculator module which defines functions like add, sub,mul and div. \n",
    "### Create another .py file that uses the functions available in Calculator module."
   ]
  },
  {
   "cell_type": "code",
   "execution_count": 24,
   "metadata": {},
   "outputs": [
    {
     "name": "stdin",
     "output_type": "stream",
     "text": [
      "Enter a : 12\n",
      "Enter b : 4\n"
     ]
    },
    {
     "name": "stdout",
     "output_type": "stream",
     "text": [
      "Addition : 16\n",
      "Subtraction : 8\n",
      "Multiplication : 48\n",
      "Division : 3.0\n"
     ]
    }
   ],
   "source": [
    "import Calculator\n",
    "\n",
    "a = int(input(\"Enter a :\"))\n",
    "b = int(input(\"Enter b :\"))\n",
    "\n",
    "print(\"Addition :\", Calculator.add(a, b))\n",
    "print(\"Subtraction :\", Calculator.sub(a, b))\n",
    "print(\"Multiplication :\", Calculator.mul(a, b))\n",
    "print(\"Division :\", Calculator.div(a, b))"
   ]
  },
  {
   "cell_type": "markdown",
   "metadata": {},
   "source": [
    "### 02) WAP to pick a random character from a given String."
   ]
  },
  {
   "cell_type": "code",
   "execution_count": 34,
   "metadata": {},
   "outputs": [
    {
     "name": "stdin",
     "output_type": "stream",
     "text": [
      "Enter the string : Krisha Busa\n"
     ]
    },
    {
     "name": "stdout",
     "output_type": "stream",
     "text": [
      "Random Character: e\n"
     ]
    }
   ],
   "source": [
    "import random\n",
    "\n",
    "s1 = input(\"Enter the string :\")\n",
    "\n",
    "i = random.randrange(0, len(s))\n",
    "print(\"Random Character:\", s[i])"
   ]
  },
  {
   "cell_type": "code",
   "execution_count": 36,
   "metadata": {},
   "outputs": [
    {
     "name": "stdout",
     "output_type": "stream",
     "text": [
      "Random Character: a\n"
     ]
    }
   ],
   "source": [
    "import random\n",
    "\n",
    "s = \"KrishaBusa\"\n",
    "print(\"Random Character:\", random.choice(s))"
   ]
  },
  {
   "cell_type": "markdown",
   "metadata": {},
   "source": [
    "### 03) WAP to pick a random element from a given list."
   ]
  },
  {
   "cell_type": "code",
   "execution_count": 44,
   "metadata": {},
   "outputs": [
    {
     "name": "stdout",
     "output_type": "stream",
     "text": [
      "Random element : 10\n"
     ]
    }
   ],
   "source": [
    "import random\n",
    "\n",
    "li = [10, 20, 30, 40, 50]\n",
    "\n",
    "i = random.randrange(0, len(li))\n",
    "print(\"Random element :\", li[i])"
   ]
  },
  {
   "cell_type": "code",
   "execution_count": 46,
   "metadata": {},
   "outputs": [
    {
     "name": "stdout",
     "output_type": "stream",
     "text": [
      "Random Element: 30\n"
     ]
    }
   ],
   "source": [
    "import random\n",
    "\n",
    "li = [10, 20, 30, 40, 50]\n",
    "print(\"Random Element:\", random.choice(li))"
   ]
  },
  {
   "cell_type": "markdown",
   "metadata": {},
   "source": [
    "### 04) WAP to roll a dice in such a way that every time you get the same number."
   ]
  },
  {
   "cell_type": "code",
   "execution_count": 106,
   "metadata": {},
   "outputs": [
    {
     "name": "stdout",
     "output_type": "stream",
     "text": [
      "Rolled Dice : 2\n"
     ]
    }
   ],
   "source": [
    "import random\n",
    "\n",
    "random.seed(1) \n",
    "print(\"Rolled Dice :\", random.randint(1, 6))"
   ]
  },
  {
   "cell_type": "markdown",
   "metadata": {},
   "source": [
    "### 05) WAP to generate 3 random integers between 100 and 999 which is divisible by 5."
   ]
  },
  {
   "cell_type": "code",
   "execution_count": 52,
   "metadata": {},
   "outputs": [
    {
     "name": "stdout",
     "output_type": "stream",
     "text": [
      "250\n",
      "730\n",
      "675\n"
     ]
    }
   ],
   "source": [
    "import random\n",
    "\n",
    "print(random.randrange(100,999,5))\n",
    "print(random.randrange(100,999,5))\n",
    "print(random.randrange(100,999,5))"
   ]
  },
  {
   "cell_type": "code",
   "execution_count": 50,
   "metadata": {},
   "outputs": [
    {
     "name": "stdout",
     "output_type": "stream",
     "text": [
      "Random Numbers Divisible by 5 : [825, 180, 425]\n"
     ]
    }
   ],
   "source": [
    "import random\n",
    "\n",
    "n = random.sample(range(100, 1000, 5), 3)\n",
    "print(\"Random Numbers Divisible by 5 :\", n)"
   ]
  },
  {
   "cell_type": "markdown",
   "metadata": {},
   "source": [
    "### 06) WAP to generate 100 random lottery tickets and pick two lucky tickets from it and announce them as Winner and Runner up respectively."
   ]
  },
  {
   "cell_type": "code",
   "execution_count": 104,
   "metadata": {},
   "outputs": [
    {
     "name": "stdout",
     "output_type": "stream",
     "text": [
      "Winner : 312\n",
      "Runner-up : 171\n"
     ]
    }
   ],
   "source": [
    "import random\n",
    "\n",
    "tickets = [random.randint(100,999) for _ in range(100)]\n",
    "winners = random.sample(tickets, 2)\n",
    "\n",
    "print(\"Winner :\", winners[0])\n",
    "print(\"Runner-up :\", winners[1])"
   ]
  },
  {
   "cell_type": "code",
   "execution_count": 109,
   "metadata": {},
   "outputs": [
    {
     "name": "stdout",
     "output_type": "stream",
     "text": [
      "Winner : 894\n",
      "Runner-up : 970\n"
     ]
    }
   ],
   "source": [
    "import random\n",
    "\n",
    "tickets = random.choices(range(100, 1000), k=100)\n",
    "winners, runner_up = random.sample(tickets, 2)\n",
    "\n",
    "print(\"Winner :\", winners)\n",
    "print(\"Runner-up :\", runner_up)"
   ]
  },
  {
   "cell_type": "code",
   "execution_count": 111,
   "metadata": {},
   "outputs": [
    {
     "name": "stdout",
     "output_type": "stream",
     "text": [
      "Winner : 49\n",
      "Runner-Up : 17\n"
     ]
    }
   ],
   "source": [
    "import random\n",
    "\n",
    "li =[]\n",
    "\n",
    "for i in range(0, 100) :\n",
    "    li.append(i)\n",
    "\n",
    "random.seed(0)\n",
    "print(\"Winner :\", li[random.randrange(0, len(li))])\n",
    "random.seed(1)\n",
    "print(\"Runner-Up :\", li[random.randrange(0, len(li))])"
   ]
  },
  {
   "cell_type": "markdown",
   "metadata": {},
   "source": [
    "### 07) WAP to print current date and time in Python."
   ]
  },
  {
   "cell_type": "code",
   "execution_count": 70,
   "metadata": {},
   "outputs": [
    {
     "name": "stdout",
     "output_type": "stream",
     "text": [
      "Current Date and Time : 2025-02-10 12:43:50.615310\n"
     ]
    }
   ],
   "source": [
    "import datetime\n",
    "\n",
    "print(\"Current Date and Time :\", datetime.datetime.now())"
   ]
  },
  {
   "cell_type": "markdown",
   "metadata": {},
   "source": [
    "### 08) Subtract a week (7 days) from a given date in Python."
   ]
  },
  {
   "cell_type": "code",
   "execution_count": 74,
   "metadata": {},
   "outputs": [
    {
     "name": "stdout",
     "output_type": "stream",
     "text": [
      "Date after subtracting a week : 2025-02-03 12:45:49.745703\n"
     ]
    }
   ],
   "source": [
    "import datetime\n",
    "\n",
    "today = datetime.datetime.today()\n",
    "df = today - datetime.timedelta(days=7)\n",
    "print(\"Date after subtracting a week :\", df)"
   ]
  },
  {
   "cell_type": "code",
   "execution_count": 88,
   "metadata": {},
   "outputs": [
    {
     "name": "stdout",
     "output_type": "stream",
     "text": [
      "Date after subtracting a week : 2025-02-03 12:55:34.987496\n"
     ]
    }
   ],
   "source": [
    "import datetime\n",
    "\n",
    "today = datetime.datetime.today()\n",
    "df = today + datetime.timedelta(days=-7)\n",
    "print(\"Date after subtracting a week :\", df)"
   ]
  },
  {
   "cell_type": "markdown",
   "metadata": {},
   "source": [
    "### 09) WAP to Calculate number of days between two given dates."
   ]
  },
  {
   "cell_type": "code",
   "execution_count": 86,
   "metadata": {},
   "outputs": [
    {
     "name": "stdout",
     "output_type": "stream",
     "text": [
      "Number of Days Between the Given Dates : 40\n"
     ]
    }
   ],
   "source": [
    "from datetime import datetime\n",
    "import math\n",
    "\n",
    "d1 = datetime(2025, 1, 1)\n",
    "d2 = datetime(2025, 2, 10)\n",
    "\n",
    "df = abs((d2 - d1).days)\n",
    "print(\"Number of Days Between the Given Dates :\", df)"
   ]
  },
  {
   "cell_type": "markdown",
   "metadata": {},
   "source": [
    "### 10) WAP to Find the day of the week of a given date.(i.e. wether it is sunday/monday/tuesday/etc.)"
   ]
  },
  {
   "cell_type": "code",
   "execution_count": 94,
   "metadata": {},
   "outputs": [
    {
     "name": "stdout",
     "output_type": "stream",
     "text": [
      "Day of the Week : Monday\n"
     ]
    }
   ],
   "source": [
    "import datetime\n",
    "\n",
    "today = datetime.datetime.today()\n",
    "\n",
    "day_of_week = today.strftime(\"%A\")\n",
    "print(\"Day of the Week :\", day_of_week)"
   ]
  },
  {
   "cell_type": "markdown",
   "metadata": {},
   "source": [
    "### 11) WAP to demonstrate the use of date time module."
   ]
  },
  {
   "cell_type": "code",
   "execution_count": 98,
   "metadata": {},
   "outputs": [
    {
     "name": "stdout",
     "output_type": "stream",
     "text": [
      "Current Date and Time : 2025-02-10 13:01:13.155672\n",
      "Formatted Date and Time : 10-02-2025 13:01:13\n",
      "Date after 5 Days : 2025-02-15\n",
      "Time 3 Hours Ago : 10:01:13.155672\n"
     ]
    }
   ],
   "source": [
    "from datetime import datetime, timedelta\n",
    "\n",
    "now = datetime.now()\n",
    "print(\"Current Date and Time :\", now)\n",
    "\n",
    "formatted_date = now.strftime(\"%d-%m-%Y %H:%M:%S\")\n",
    "print(\"Formatted Date and Time :\", formatted_date)\n",
    "\n",
    "future_date = now + timedelta(days=5)\n",
    "print(\"Date after 5 Days :\", future_date.date())\n",
    "\n",
    "past_time = now - timedelta(hours=3)\n",
    "print(\"Time 3 Hours Ago :\", past_time.time())"
   ]
  },
  {
   "cell_type": "markdown",
   "metadata": {},
   "source": [
    "### 12) WAP to demonstrate the use of the math module."
   ]
  },
  {
   "cell_type": "code",
   "execution_count": 100,
   "metadata": {},
   "outputs": [
    {
     "name": "stdout",
     "output_type": "stream",
     "text": [
      "Square Root of 25: 5.0\n",
      "2 raised to the power 3: 8.0\n",
      "Factorial of 5: 120\n",
      "Sin of 90 degrees: 1.0\n",
      "Cos of 0 degrees: 1.0\n",
      "Value of Pi: 3.141592653589793\n",
      "Value of Euler's number (e): 2.718281828459045\n"
     ]
    }
   ],
   "source": [
    "import math\n",
    "\n",
    "print(\"Square Root of 25:\", math.sqrt(25))\n",
    "\n",
    "print(\"2 raised to the power 3:\", math.pow(2, 3))\n",
    "\n",
    "print(\"Factorial of 5:\", math.factorial(5))\n",
    "\n",
    "print(\"Sin of 90 degrees:\", math.sin(math.radians(90)))\n",
    "print(\"Cos of 0 degrees:\", math.cos(math.radians(0)))\n",
    "\n",
    "print(\"Value of Pi:\", math.pi)\n",
    "print(\"Value of Euler's number (e):\", math.e)"
   ]
  }
 ],
 "metadata": {
  "kernelspec": {
   "display_name": "Python 3 (ipykernel)",
   "language": "python",
   "name": "python3"
  },
  "language_info": {
   "codemirror_mode": {
    "name": "ipython",
    "version": 3
   },
   "file_extension": ".py",
   "mimetype": "text/x-python",
   "name": "python",
   "nbconvert_exporter": "python",
   "pygments_lexer": "ipython3",
   "version": "3.12.7"
  }
 },
 "nbformat": 4,
 "nbformat_minor": 4
}
