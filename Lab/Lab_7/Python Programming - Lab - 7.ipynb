{
 "cells": [
  {
   "cell_type": "markdown",
   "metadata": {},
   "source": [
    "<a href='https://www.darshan.ac.in/'> <img src='https://www.darshan.ac.in/Content/media/DU_Logo.svg' width=\"250\" height=\"300\"/></a>\n",
    "<pre>\n",
    "<center><b><h1>Python Programming - 2301CS404</b></center>\n",
    "<center><b><h1>Lab - 7</b></center>    \n",
    "<center><b><h1>Krisha Busa | 23010101039 | 06-01-2025</b></center>   \n",
    "<pre>"
   ]
  },
  {
   "cell_type": "markdown",
   "metadata": {},
   "source": [
    "# Set & Dictionary"
   ]
  },
  {
   "cell_type": "markdown",
   "metadata": {},
   "source": [
    "### 01) WAP to iterate over a set."
   ]
  },
  {
   "cell_type": "code",
   "execution_count": 23,
   "metadata": {},
   "outputs": [
    {
     "name": "stdout",
     "output_type": "stream",
     "text": [
      "1\n",
      "2\n",
      "3\n",
      "4\n",
      "5\n"
     ]
    }
   ],
   "source": [
    "s1 = {1, 2, 3, 4, 5}\n",
    "for i in s1 :\n",
    "    print(i)"
   ]
  },
  {
   "cell_type": "code",
   "execution_count": 21,
   "metadata": {},
   "outputs": [
    {
     "name": "stdout",
     "output_type": "stream",
     "text": [
      "1\n",
      "2\n",
      "3\n",
      "4\n",
      "5\n"
     ]
    }
   ],
   "source": [
    "def iterate_set(s) :\n",
    "    for i in s :\n",
    "        print(i)\n",
    "\n",
    "iterate_set(s1)"
   ]
  },
  {
   "cell_type": "markdown",
   "metadata": {},
   "source": [
    "### 02) WAP to convert set into list, string and tuple."
   ]
  },
  {
   "cell_type": "code",
   "execution_count": 15,
   "metadata": {},
   "outputs": [
    {
     "name": "stdout",
     "output_type": "stream",
     "text": [
      "List : ['b', 'd', 'e', 'c', 'a']\n",
      "String : bdeca\n",
      "Tuple : ('b', 'd', 'e', 'c', 'a')\n"
     ]
    }
   ],
   "source": [
    "s2 = {'a', 'b', 'c' , 'd', 'e'}\n",
    "print(\"List :\",list(s2))\n",
    "print(\"String :\",''.join(map(str,s2)))\n",
    "print(\"Tuple :\",tuple(s2))"
   ]
  },
  {
   "cell_type": "code",
   "execution_count": 35,
   "metadata": {},
   "outputs": [
    {
     "name": "stdout",
     "output_type": "stream",
     "text": [
      "List : ['b', 'd', 'e', 'c', 'a']\n",
      "String : bdeca\n",
      "Tuple : ('b', 'd', 'e', 'c', 'a')\n"
     ]
    }
   ],
   "source": [
    "def convert_set(s) :\n",
    "    print(\"List :\",list(s2))\n",
    "    print(\"String :\",''.join(map(str,s2)))\n",
    "    print(\"Tuple :\",tuple(s2))\n",
    "\n",
    "convert_set(s2)"
   ]
  },
  {
   "cell_type": "markdown",
   "metadata": {},
   "source": [
    "### 03) WAP to find Maximum and Minimum from a set."
   ]
  },
  {
   "cell_type": "code",
   "execution_count": 47,
   "metadata": {},
   "outputs": [
    {
     "name": "stdout",
     "output_type": "stream",
     "text": [
      "Max : 55\n",
      "Min : 11\n"
     ]
    }
   ],
   "source": [
    "s1 = {11, 33, 55, 44, 22}\n",
    "\n",
    "print(\"Max :\",max(s1))\n",
    "print(\"Min :\",min(s1))"
   ]
  },
  {
   "cell_type": "code",
   "execution_count": 51,
   "metadata": {},
   "outputs": [
    {
     "data": {
      "text/plain": [
       "{11, 55}"
      ]
     },
     "execution_count": 51,
     "metadata": {},
     "output_type": "execute_result"
    }
   ],
   "source": [
    "def max_min(s) :\n",
    "    return { max(s) , min(s) }\n",
    "\n",
    "max_min(s1)"
   ]
  },
  {
   "cell_type": "markdown",
   "metadata": {},
   "source": [
    "### 04) WAP to perform union of two sets."
   ]
  },
  {
   "cell_type": "code",
   "execution_count": 63,
   "metadata": {},
   "outputs": [
    {
     "name": "stdout",
     "output_type": "stream",
     "text": [
      "Union : {1, 2, 3, 4, 5, 6, 7, 8}\n"
     ]
    }
   ],
   "source": [
    "s1 = {1, 2, 3, 4, 5}\n",
    "s2 = {4, 5, 6, 7, 8}\n",
    "\n",
    "print(\"Union :\",s1 | s2)"
   ]
  },
  {
   "cell_type": "code",
   "execution_count": 67,
   "metadata": {},
   "outputs": [
    {
     "data": {
      "text/plain": [
       "{1, 2, 3, 4, 5, 6, 7, 8}"
      ]
     },
     "execution_count": 67,
     "metadata": {},
     "output_type": "execute_result"
    }
   ],
   "source": [
    "def union_set(s1,s2) :\n",
    "    return s1 | s2\n",
    "\n",
    "union_set(s1,s2)"
   ]
  },
  {
   "cell_type": "markdown",
   "metadata": {},
   "source": [
    "### 05) WAP to check if two lists have at-least one element common."
   ]
  },
  {
   "cell_type": "code",
   "execution_count": 107,
   "metadata": {},
   "outputs": [
    {
     "name": "stdout",
     "output_type": "stream",
     "text": [
      "[1, 2, 3, 4, 5]\n",
      "[4, 5, 6, 7, 8]\n",
      "Atleast one element common...\n"
     ]
    }
   ],
   "source": [
    "l1 = [1, 2, 3, 4, 5]\n",
    "l2 = [4, 5, 6, 7, 8]\n",
    "isCommon = False\n",
    "print(l1)\n",
    "print(l2)\n",
    "\n",
    "for i in l1 :\n",
    "    if i in l2 :\n",
    "        isCommon = True\n",
    "    else :\n",
    "        isCommon = False\n",
    "\n",
    "if(isCommon) :\n",
    "    print(\"Atleast one element common...\")\n",
    "else :\n",
    "    print(\"No common element...\")"
   ]
  },
  {
   "cell_type": "code",
   "execution_count": 103,
   "metadata": {},
   "outputs": [
    {
     "name": "stdout",
     "output_type": "stream",
     "text": [
      "False\n"
     ]
    }
   ],
   "source": [
    "l1 = [1, 2, 3]\n",
    "l2 = [4, 5, 6]\n",
    "\n",
    "def check_common_elements(l1, l2 ):\n",
    "    for i in l1:\n",
    "        if i in l2:\n",
    "            return True\n",
    "    return False\n",
    "\n",
    "print(check_common_elements(l1, l2)) "
   ]
  },
  {
   "cell_type": "markdown",
   "metadata": {},
   "source": [
    "### 06) WAP to remove duplicates from list."
   ]
  },
  {
   "cell_type": "code",
   "execution_count": 115,
   "metadata": {},
   "outputs": [
    {
     "name": "stdout",
     "output_type": "stream",
     "text": [
      "[1, 2, 3, 4, 5]\n"
     ]
    }
   ],
   "source": [
    "l1 = [1, 2, 2, 3, 4, 4, 5]\n",
    "\n",
    "print(list(set(l1)))"
   ]
  },
  {
   "cell_type": "code",
   "execution_count": 109,
   "metadata": {},
   "outputs": [
    {
     "data": {
      "text/plain": [
       "[1, 2, 3, 4, 5]"
      ]
     },
     "execution_count": 109,
     "metadata": {},
     "output_type": "execute_result"
    }
   ],
   "source": [
    "l1 = [1, 2, 2, 3, 4, 4, 5]\n",
    "\n",
    "def remove_duplicates(li):\n",
    "    return list(set(li))\n",
    "\n",
    "remove_duplicates(l1)"
   ]
  },
  {
   "cell_type": "markdown",
   "metadata": {},
   "source": [
    "### 07) WAP to find unique words in the given string."
   ]
  },
  {
   "cell_type": "code",
   "execution_count": 119,
   "metadata": {},
   "outputs": [
    {
     "name": "stdout",
     "output_type": "stream",
     "text": [
      "{'universe', 'hello', 'world'}\n"
     ]
    }
   ],
   "source": [
    "s =\"hello world hello universe\"\n",
    "\n",
    "print(set(s.split()))"
   ]
  },
  {
   "cell_type": "code",
   "execution_count": 121,
   "metadata": {},
   "outputs": [
    {
     "data": {
      "text/plain": [
       "{'hello', 'universe', 'world'}"
      ]
     },
     "execution_count": 121,
     "metadata": {},
     "output_type": "execute_result"
    }
   ],
   "source": [
    "s = \"hello world hello universe\"\n",
    "\n",
    "def unique_words(s):\n",
    "    words = s.split()\n",
    "    return set(words)\n",
    "\n",
    "unique_words(s)"
   ]
  },
  {
   "cell_type": "markdown",
   "metadata": {},
   "source": [
    "### 08) WAP to remove common elements of set A & B from set A."
   ]
  },
  {
   "cell_type": "code",
   "execution_count": 125,
   "metadata": {},
   "outputs": [
    {
     "name": "stdout",
     "output_type": "stream",
     "text": [
      "{1}\n"
     ]
    }
   ],
   "source": [
    "s1 = {1, 2, 3}\n",
    "s2 = {2, 3, 4}\n",
    "\n",
    "print(s1-s2)"
   ]
  },
  {
   "cell_type": "code",
   "execution_count": 127,
   "metadata": {},
   "outputs": [
    {
     "data": {
      "text/plain": [
       "{1}"
      ]
     },
     "execution_count": 127,
     "metadata": {},
     "output_type": "execute_result"
    }
   ],
   "source": [
    "def remove_common_elements(s1, s2):\n",
    "    return s1-s2\n",
    "\n",
    "remove_common_elements(s1, s2)"
   ]
  },
  {
   "cell_type": "markdown",
   "metadata": {},
   "source": [
    "### 09) WAP to check whether two given strings are anagram or not using set."
   ]
  },
  {
   "cell_type": "code",
   "execution_count": 145,
   "metadata": {},
   "outputs": [
    {
     "name": "stdin",
     "output_type": "stream",
     "text": [
      "Enter a string 1 : liiitennn\n",
      "Enter a string 2 : sillentt\n"
     ]
    },
    {
     "name": "stdout",
     "output_type": "stream",
     "text": [
      "Strings are not anagram !!\n"
     ]
    }
   ],
   "source": [
    "s1 = input(\"Enter a string 1 :\")\n",
    "s2 = input(\"Enter a string 2 :\")\n",
    "\n",
    "if set(s1) == set(s2) :\n",
    "    if sorted(s1) == sorted(s2) :\n",
    "        print(\"Strings are anagram !!\")\n",
    "    else :\n",
    "        print(\"Strings are not anagram !!\")\n",
    "else :\n",
    "    print(\"Strings are not anagram !!\")"
   ]
  },
  {
   "cell_type": "code",
   "execution_count": 139,
   "metadata": {},
   "outputs": [
    {
     "name": "stdin",
     "output_type": "stream",
     "text": [
      "Enter a string 1 : listen\n",
      "Enter a string 2 : silent\n"
     ]
    },
    {
     "data": {
      "text/plain": [
       "True"
      ]
     },
     "execution_count": 139,
     "metadata": {},
     "output_type": "execute_result"
    }
   ],
   "source": [
    "s1 = input(\"Enter a string 1 :\")\n",
    "s2 = input(\"Enter a string 2 :\")\n",
    "\n",
    "def are_anagrams(s1, s2):\n",
    "    return set(s1) == set(s2) and sorted(s1) == sorted(s2)\n",
    "\n",
    "are_anagrams(s1, s2)"
   ]
  },
  {
   "cell_type": "markdown",
   "metadata": {},
   "source": [
    "### 10) WAP to find common elements in three lists using set."
   ]
  },
  {
   "cell_type": "code",
   "execution_count": 147,
   "metadata": {},
   "outputs": [
    {
     "name": "stdout",
     "output_type": "stream",
     "text": [
      "{3}\n"
     ]
    }
   ],
   "source": [
    "l1 = [1, 2, 3]\n",
    "l2 = [2, 3, 4]\n",
    "l3 = [3, 4, 5]\n",
    "\n",
    "print(set(l1) & set(l2) & set(l3))"
   ]
  },
  {
   "cell_type": "markdown",
   "metadata": {},
   "source": [
    "### 11) WAP to count number of vowels in given string using set."
   ]
  },
  {
   "cell_type": "code",
   "execution_count": 161,
   "metadata": {},
   "outputs": [
    {
     "name": "stdout",
     "output_type": "stream",
     "text": [
      "Count of vowels : 8\n"
     ]
    }
   ],
   "source": [
    "s1 = 'Hello Heyy How Are You'\n",
    "vowels = set('aeiouAEIOU')\n",
    "\n",
    "countOfVowels = len([i for i in s1 if i in vowels])\n",
    "\n",
    "print(\"Count of vowels :\", countOfVowels)"
   ]
  },
  {
   "cell_type": "markdown",
   "metadata": {},
   "source": [
    "### 12) WAP to check if a given string is binary string or not."
   ]
  },
  {
   "cell_type": "code",
   "execution_count": 211,
   "metadata": {
    "scrolled": true
   },
   "outputs": [
    {
     "name": "stdout",
     "output_type": "stream",
     "text": [
      "1010  is binary !!\n"
     ]
    }
   ],
   "source": [
    "s1 = '1010'\n",
    "binary = set('01')\n",
    "isbinary = False\n",
    "\n",
    "for i in s1 :\n",
    "    if i not in binary :\n",
    "        isBinary = False\n",
    "        break\n",
    "    else :\n",
    "        isBinary = True\n",
    "\n",
    "if isBinary :\n",
    "    print(s1,\" is binary !!\")\n",
    "else :\n",
    "    print(s1,\" is not binary !!\")"
   ]
  },
  {
   "cell_type": "code",
   "execution_count": 203,
   "metadata": {},
   "outputs": [
    {
     "data": {
      "text/plain": [
       "True"
      ]
     },
     "execution_count": 203,
     "metadata": {},
     "output_type": "execute_result"
    }
   ],
   "source": [
    "def isBinary_string(s):\n",
    "    return set(s).issubset({'0', '1'})\n",
    "\n",
    "isBinary_string(\"101010\")"
   ]
  },
  {
   "cell_type": "markdown",
   "metadata": {},
   "source": [
    "### 13) WAP to sort dictionary by key or value."
   ]
  },
  {
   "cell_type": "code",
   "execution_count": 249,
   "metadata": {},
   "outputs": [
    {
     "name": "stdout",
     "output_type": "stream",
     "text": [
      "{1: 'One', 2: 'Two', 3: 'Three'}\n"
     ]
    }
   ],
   "source": [
    "d1 = {3:'Three', 1:'One',  2:'Two'}\n",
    "\n",
    "d2 = {}\n",
    "l1 = []\n",
    "\n",
    "for i in d1.keys() :\n",
    "    l1.append(i)\n",
    "\n",
    "l1.sort()\n",
    "\n",
    "for i in l1 :\n",
    "    d2[i] = d1[i]\n",
    "\n",
    "print(d2)"
   ]
  },
  {
   "cell_type": "code",
   "execution_count": 235,
   "metadata": {},
   "outputs": [
    {
     "name": "stdout",
     "output_type": "stream",
     "text": [
      "{1: 'c', 2: 'a', 3: 'b'}\n"
     ]
    }
   ],
   "source": [
    "d = {3:'b', 1:'c', 2:'a'}\n",
    "\n",
    "sorted_by_key = dict(sorted(d.items(), key=lambda item: item[0]))\n",
    "print(sorted_by_key)"
   ]
  },
  {
   "cell_type": "code",
   "execution_count": 237,
   "metadata": {},
   "outputs": [
    {
     "name": "stdout",
     "output_type": "stream",
     "text": [
      "{2: 'a', 3: 'b', 1: 'c'}\n"
     ]
    }
   ],
   "source": [
    "d = {3:'b', 1:'c', 2:'a'}\n",
    "\n",
    "sorted_by_value = dict(sorted(d.items(), key=lambda item: item[1]))\n",
    "print(sorted_by_value)"
   ]
  },
  {
   "cell_type": "code",
   "execution_count": 231,
   "metadata": {},
   "outputs": [
    {
     "name": "stdout",
     "output_type": "stream",
     "text": [
      "Sorted by key : {1: 'c', 2: 'a', 3: 'b'}\n",
      "Sorted by value : {2: 'a', 3: 'b', 1: 'c'}\n"
     ]
    }
   ],
   "source": [
    "d = {3: 'b', 1: 'c', 2: 'a'}\n",
    "\n",
    "def sort_dict(d, by_key=True) :\n",
    "    key_index = 0 if by_key else 1\n",
    "    return dict(sorted(d.items(), key = lambda item : item[key_index]))\n",
    "\n",
    "print(\"Sorted by key :\", sort_dict(d))\n",
    "print(\"Sorted by value :\", sort_dict(d, by_key=False)) "
   ]
  },
  {
   "cell_type": "markdown",
   "metadata": {},
   "source": [
    "### 14) WAP to find the sum of all items (values) in a dictionary given by user. (Assume: values are numeric)"
   ]
  },
  {
   "cell_type": "code",
   "execution_count": 253,
   "metadata": {},
   "outputs": [
    {
     "name": "stdout",
     "output_type": "stream",
     "text": [
      "Sum : 60\n"
     ]
    }
   ],
   "source": [
    "dic = {'a': 10, 'b': 20, 'c': 30}\n",
    "\n",
    "print(\"Sum :\", sum(dic.values()) )"
   ]
  },
  {
   "cell_type": "code",
   "execution_count": 217,
   "metadata": {},
   "outputs": [
    {
     "data": {
      "text/plain": [
       "60"
      ]
     },
     "execution_count": 217,
     "metadata": {},
     "output_type": "execute_result"
    }
   ],
   "source": [
    "dic = {'a': 10, 'b': 20, 'c': 30}\n",
    "\n",
    "def sum_dict_values(d):\n",
    "    return sum(d.values())\n",
    "\n",
    "sum_dict_values(dic)"
   ]
  },
  {
   "cell_type": "markdown",
   "metadata": {},
   "source": [
    "### 15) WAP to handle missing keys in dictionaries.\n",
    "#### Example : Given, dict1 = {'a': 5, 'c': 8, 'e': 2} \n",
    "#### if you look for key = 'd', the message given should be 'Key Not Found', otherwise print the value of 'd' in dict1."
   ]
  },
  {
   "cell_type": "code",
   "execution_count": 261,
   "metadata": {},
   "outputs": [
    {
     "name": "stdout",
     "output_type": "stream",
     "text": [
      "Key Not Found\n"
     ]
    }
   ],
   "source": [
    "d1 = {'a': 5, 'c': 8, 'e': 2}\n",
    "\n",
    "result = d1.get('d', \"Key Not Found\")\n",
    "print(result)"
   ]
  },
  {
   "cell_type": "code",
   "execution_count": 241,
   "metadata": {},
   "outputs": [
    {
     "data": {
      "text/plain": [
       "'Key Not Found'"
      ]
     },
     "execution_count": 241,
     "metadata": {},
     "output_type": "execute_result"
    }
   ],
   "source": [
    "d1 = {'a': 5, 'c': 8, 'e': 2}\n",
    "\n",
    "def handle_missing_key(d, key):\n",
    "    return d.get(key, \"Key Not Found\")\n",
    "\n",
    "handle_missing_key(d1, 'd')"
   ]
  }
 ],
 "metadata": {
  "kernelspec": {
   "display_name": "Python 3 (ipykernel)",
   "language": "python",
   "name": "python3"
  },
  "language_info": {
   "codemirror_mode": {
    "name": "ipython",
    "version": 3
   },
   "file_extension": ".py",
   "mimetype": "text/x-python",
   "name": "python",
   "nbconvert_exporter": "python",
   "pygments_lexer": "ipython3",
   "version": "3.12.7"
  }
 },
 "nbformat": 4,
 "nbformat_minor": 4
}
