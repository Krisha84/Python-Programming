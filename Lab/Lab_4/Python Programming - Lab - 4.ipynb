{
 "cells": [
  {
   "cell_type": "markdown",
   "metadata": {},
   "source": [
    "\n",
    "<a href='https://www.darshan.ac.in/'> <img src='https://www.darshan.ac.in/Content/media/DU_Logo.svg' width=\"250\" height=\"300\"/></a>\n",
    "<pre>\n",
    "<center><b><h1>Python Programming - 2301CS404</b></center>\n",
    "<center><b><h1>Lab - 4</b></center> \n",
    "<center><b><h1>Krisha Busa | 23010101039 | 16-12-2024</b></center> \n",
    "<pre>"
   ]
  },
  {
   "cell_type": "markdown",
   "metadata": {},
   "source": [
    "# String"
   ]
  },
  {
   "cell_type": "markdown",
   "metadata": {},
   "source": [
    "### 01) WAP to check whether the given string is palindrome or not."
   ]
  },
  {
   "cell_type": "code",
   "execution_count": 9,
   "metadata": {},
   "outputs": [
    {
     "name": "stdin",
     "output_type": "stream",
     "text": [
      "Entrer n :  12321\n"
     ]
    },
    {
     "name": "stdout",
     "output_type": "stream",
     "text": [
      "12321 is palindrome !!\n"
     ]
    }
   ],
   "source": [
    "n = input(\"Entrer n : \")\n",
    "\n",
    "n1 = n[::-1]\n",
    "\n",
    "if n == n1 :\n",
    "    print(n + \" is palindrome !!\")\n",
    "else :\n",
    "    print(n + \" is not a palindrome !!\")"
   ]
  },
  {
   "cell_type": "markdown",
   "metadata": {},
   "source": [
    "### 02) WAP to reverse the words in the given string."
   ]
  },
  {
   "cell_type": "code",
   "execution_count": 49,
   "metadata": {},
   "outputs": [
    {
     "name": "stdin",
     "output_type": "stream",
     "text": [
      "Enter a string :  Krisha Busa\n"
     ]
    },
    {
     "data": {
      "text/plain": [
       "['Busa', 'Krisha']"
      ]
     },
     "execution_count": 49,
     "metadata": {},
     "output_type": "execute_result"
    }
   ],
   "source": [
    "s1 = input(\"Enter a string : \")\n",
    "\n",
    "words = s1.split()\n",
    "words\n",
    "\n",
    "words[::-1]"
   ]
  },
  {
   "cell_type": "markdown",
   "metadata": {},
   "source": [
    "### 03) WAP to remove ith character from given string."
   ]
  },
  {
   "cell_type": "code",
   "execution_count": 37,
   "metadata": {},
   "outputs": [
    {
     "name": "stdin",
     "output_type": "stream",
     "text": [
      "Enter a string :  Krisha_Busa\n",
      "Enter index :  6\n"
     ]
    },
    {
     "data": {
      "text/plain": [
       "'KrishaBusa'"
      ]
     },
     "execution_count": 37,
     "metadata": {},
     "output_type": "execute_result"
    }
   ],
   "source": [
    "s2 = input(\"Enter a string : \")\n",
    "i = int(input(\"Enter index : \"))\n",
    "\n",
    "s2.replace(s2[i],'')"
   ]
  },
  {
   "cell_type": "markdown",
   "metadata": {},
   "source": [
    "### 04) WAP to find length of string without using len function."
   ]
  },
  {
   "cell_type": "code",
   "execution_count": 39,
   "metadata": {},
   "outputs": [
    {
     "name": "stdin",
     "output_type": "stream",
     "text": [
      "Enter a string :  krisha busa\n"
     ]
    },
    {
     "data": {
      "text/plain": [
       "11"
      ]
     },
     "execution_count": 39,
     "metadata": {},
     "output_type": "execute_result"
    }
   ],
   "source": [
    "s = input(\"Enter a string : \")\n",
    "count = 0\n",
    "\n",
    "for i in s :\n",
    "    count = count + 1\n",
    "\n",
    "count"
   ]
  },
  {
   "cell_type": "markdown",
   "metadata": {},
   "source": [
    "### 05) WAP to print even length word in string."
   ]
  },
  {
   "cell_type": "code",
   "execution_count": 59,
   "metadata": {},
   "outputs": [
    {
     "name": "stdin",
     "output_type": "stream",
     "text": [
      "Enter a string :  Darshan University\n"
     ]
    },
    {
     "name": "stdout",
     "output_type": "stream",
     "text": [
      "University\n"
     ]
    }
   ],
   "source": [
    "s = input(\"Enter a string : \")\n",
    "\n",
    "words = s.split()\n",
    "words\n",
    "\n",
    "for i in words :\n",
    "    if ( len(i)%2==0 ) :\n",
    "        print(i)"
   ]
  },
  {
   "cell_type": "markdown",
   "metadata": {},
   "source": [
    "### 06) WAP to count numbers of vowels in given string."
   ]
  },
  {
   "cell_type": "code",
   "execution_count": 61,
   "metadata": {},
   "outputs": [
    {
     "name": "stdin",
     "output_type": "stream",
     "text": [
      "Enter a string :  Krisha Busa\n"
     ]
    },
    {
     "data": {
      "text/plain": [
       "4"
      ]
     },
     "execution_count": 61,
     "metadata": {},
     "output_type": "execute_result"
    }
   ],
   "source": [
    "s = input(\"Enter a string : \")\n",
    "li = ['a','e','i','o','u']\n",
    "count = 0\n",
    "\n",
    "for i in s :\n",
    "    if i in li :\n",
    "        count = count + 1 \n",
    "\n",
    "count"
   ]
  },
  {
   "cell_type": "markdown",
   "metadata": {},
   "source": [
    "### 07) WAP to capitalize the first and last character of each word in a string."
   ]
  },
  {
   "cell_type": "code",
   "execution_count": 13,
   "metadata": {},
   "outputs": [
    {
     "name": "stdin",
     "output_type": "stream",
     "text": [
      "Enter a string :  krisha busa\n"
     ]
    },
    {
     "name": "stdout",
     "output_type": "stream",
     "text": [
      "KrishA BusA\n"
     ]
    }
   ],
   "source": [
    "s = input(\"Enter a string : \")\n",
    "\n",
    "words = s.split()\n",
    "result = []\n",
    "\n",
    "for i in words:\n",
    "    if len(i) > 1:\n",
    "        result.append(i[0].upper() + i[1:-1] + i[-1].upper())\n",
    "    else:\n",
    "        result.append(word.upper())\n",
    "        \n",
    "print(\" \".join(result))"
   ]
  },
  {
   "cell_type": "markdown",
   "metadata": {},
   "source": [
    "### 08) WAP to convert given array to string."
   ]
  },
  {
   "cell_type": "code",
   "execution_count": 19,
   "metadata": {},
   "outputs": [
    {
     "data": {
      "text/plain": [
       "'Krisha Busa From Rajkot'"
      ]
     },
     "execution_count": 19,
     "metadata": {},
     "output_type": "execute_result"
    }
   ],
   "source": [
    "arr = ['Krisha ','Busa ','From ','Rajkot']\n",
    "s = \"\"\n",
    "\n",
    "for i in arr:\n",
    "    s += str(i)\n",
    "\n",
    "s"
   ]
  },
  {
   "cell_type": "markdown",
   "metadata": {},
   "source": [
    "### 09) Check if the password and confirm password is same or not. \n",
    "### In case of only case's mistake, show the error message."
   ]
  },
  {
   "cell_type": "code",
   "execution_count": 25,
   "metadata": {},
   "outputs": [
    {
     "name": "stdin",
     "output_type": "stream",
     "text": [
      "Enter your password :  XYZ@123\n",
      "Confirm password :  xyZ@123\n"
     ]
    },
    {
     "name": "stdout",
     "output_type": "stream",
     "text": [
      "Password do not match !!\n"
     ]
    }
   ],
   "source": [
    "p = input(\"Enter your password : \")\n",
    "cp = input(\"Confirm password : \")\n",
    "\n",
    "if p == cp :\n",
    "    print(\"Password match !!\")\n",
    "else :\n",
    "    print(\"Password do not match !!\")"
   ]
  },
  {
   "cell_type": "markdown",
   "metadata": {},
   "source": [
    "### 10) : Display credit card number. \n",
    "### card no. : 1234 5678 9012 3456\n",
    "### display as  : **** **** **** 3456"
   ]
  },
  {
   "cell_type": "code",
   "execution_count": 27,
   "metadata": {},
   "outputs": [
    {
     "name": "stdout",
     "output_type": "stream",
     "text": [
      "**** **** **** 3456\n"
     ]
    }
   ],
   "source": [
    "card_no = '1234 5678 9012 3456'\n",
    "card_no\n",
    "\n",
    "print(\"**** **** **** \" + card_no[-4:])"
   ]
  },
  {
   "cell_type": "markdown",
   "metadata": {},
   "source": [
    "### 11) : Checking if the two strings are Anagram or not.\n",
    "### s1 = decimal and s2 = medical are Anagram"
   ]
  },
  {
   "cell_type": "code",
   "execution_count": 37,
   "metadata": {},
   "outputs": [
    {
     "name": "stdout",
     "output_type": "stream",
     "text": [
      "Strings are anagrams !!\n"
     ]
    }
   ],
   "source": [
    "s1 = 'decimal'\n",
    "s2 = 'medical'\n",
    "\n",
    "if len(s1) != len(s2) :\n",
    "    print(\"Strings are not anagram !!\")\n",
    "\n",
    "if sorted(s1) == sorted(s2) :\n",
    "    print(\"Strings are anagrams !!\")\n",
    "else :\n",
    "    print(\"Strings are not anagram !!\")"
   ]
  },
  {
   "cell_type": "markdown",
   "metadata": {},
   "source": [
    "### 12) : Rearrange the given string. First lowercase then uppercase alphabets.\n",
    "### input : EHlsarwiwhtwMV\n",
    "### output : lsarwiwhtwEHMV"
   ]
  },
  {
   "cell_type": "code",
   "execution_count": 31,
   "metadata": {},
   "outputs": [
    {
     "data": {
      "text/plain": [
       "'lsarwiwhtwEHMV'"
      ]
     },
     "execution_count": 31,
     "metadata": {},
     "output_type": "execute_result"
    }
   ],
   "source": [
    "s = 'EHlsarwiwhtwMV'\n",
    "upper = ''\n",
    "lower = ''\n",
    "\n",
    "for i in s :\n",
    "    if i.isupper() :\n",
    "        upper+=i\n",
    "    else:\n",
    "        lower+=i\n",
    "\n",
    "s1 = lower+upper\n",
    "s1"
   ]
  }
 ],
 "metadata": {
  "kernelspec": {
   "display_name": "Python 3 (ipykernel)",
   "language": "python",
   "name": "python3"
  },
  "language_info": {
   "codemirror_mode": {
    "name": "ipython",
    "version": 3
   },
   "file_extension": ".py",
   "mimetype": "text/x-python",
   "name": "python",
   "nbconvert_exporter": "python",
   "pygments_lexer": "ipython3",
   "version": "3.12.7"
  },
  "vscode": {
   "interpreter": {
    "hash": "31f2aee4e71d21fbe5cf8b01ff0e069b9275f58929596ceb00d14d90e3e16cd6"
   }
  }
 },
 "nbformat": 4,
 "nbformat_minor": 4
}
