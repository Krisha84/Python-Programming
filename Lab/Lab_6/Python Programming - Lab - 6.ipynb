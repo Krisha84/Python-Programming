{
 "cells": [
  {
   "attachments": {},
   "cell_type": "markdown",
   "metadata": {},
   "source": [
    "<a href='https://www.darshan.ac.in/'> <img src='https://www.darshan.ac.in/Content/media/DU_Logo.svg' width=\"250\" height=\"300\"/></a>\n",
    "<pre>\n",
    "<center><b><h1>Python Programming - 2301CS404</b></center>\n",
    "<center><b><h1>Lab - 6</b></center>  \n",
    "<center><b><h1>Krisha Busa | 23010101039 | 30-12-2024</b></center>   \n",
    "<pre>"
   ]
  },
  {
   "cell_type": "markdown",
   "metadata": {},
   "source": [
    "# Tuple"
   ]
  },
  {
   "cell_type": "markdown",
   "metadata": {},
   "source": [
    "### 01) WAP to find sum of tuple elements."
   ]
  },
  {
   "cell_type": "code",
   "execution_count": 32,
   "metadata": {},
   "outputs": [
    {
     "data": {
      "text/plain": [
       "150"
      ]
     },
     "execution_count": 32,
     "metadata": {},
     "output_type": "execute_result"
    }
   ],
   "source": [
    "t1 = (10,20,30,40,50)\n",
    "total = 0\n",
    "\n",
    "for i in t1 :\n",
    "    total = total + i\n",
    "\n",
    "total"
   ]
  },
  {
   "cell_type": "markdown",
   "metadata": {},
   "source": [
    "### 02) WAP to find Maximum and Minimum K elements in a given tuple."
   ]
  },
  {
   "cell_type": "code",
   "execution_count": 58,
   "metadata": {},
   "outputs": [
    {
     "name": "stdout",
     "output_type": "stream",
     "text": [
      "The 3 minimum elements are: [4, 7, 10]\n",
      "The 3 maximum elements are: [20, 45, 99]\n"
     ]
    }
   ],
   "source": [
    "t2 = (10, 20, 4, 45, 99, 7, 13)\n",
    "\n",
    "k = 3\n",
    "\n",
    "t = sorted(t2)\n",
    "\n",
    "min_k_elements = t[:k]\n",
    "\n",
    "max_k_elements = t[-k:]\n",
    "\n",
    "print(\"The\", k ,\"minimum elements are:\", min_k_elements)\n",
    "print(\"The\", k ,\"maximum elements are:\", max_k_elements)"
   ]
  },
  {
   "cell_type": "markdown",
   "metadata": {},
   "source": [
    "### 03) WAP to find tuples which have all elements divisible by K from a list of tuples."
   ]
  },
  {
   "cell_type": "code",
   "execution_count": 100,
   "metadata": {},
   "outputs": [
    {
     "name": "stdin",
     "output_type": "stream",
     "text": [
      "Enter K :  2\n"
     ]
    },
    {
     "name": "stdout",
     "output_type": "stream",
     "text": [
      "Tuples with all elements divisible by 2 are: [(10, 20, 30), (6, 12, 18)]\n"
     ]
    }
   ],
   "source": [
    "lt = [(10, 20, 30), (15, 25, 35), (6, 12, 18), (3, 5, 7)]\n",
    "\n",
    "K = int(input(\"Enter K : \"))\n",
    "\n",
    "ans = []\n",
    "\n",
    "for t in lt :\n",
    "    divisible = True\n",
    "    \n",
    "    for i in t :\n",
    "        if i % K != 0 :\n",
    "            divisible = False\n",
    "            break\n",
    "            \n",
    "    if divisible :\n",
    "        ans.append(t)\n",
    "\n",
    "print(\"Tuples with all elements divisible by\", K, \"are:\", ans)"
   ]
  },
  {
   "cell_type": "code",
   "execution_count": 98,
   "metadata": {},
   "outputs": [
    {
     "name": "stdin",
     "output_type": "stream",
     "text": [
      "Enter K :  5\n"
     ]
    },
    {
     "data": {
      "text/plain": [
       "[(10, 20, 30), (15, 25, 35)]"
      ]
     },
     "execution_count": 98,
     "metadata": {},
     "output_type": "execute_result"
    }
   ],
   "source": [
    "lt = [(10, 20, 30), (15, 25, 35), (6, 12, 18), (3, 5, 7)]\n",
    "\n",
    "K = int(input(\"Enter K : \"))\n",
    "\n",
    "ans = [t for t in lt if all(i % K == 0 for i in t)] \n",
    "\n",
    "ans"
   ]
  },
  {
   "cell_type": "markdown",
   "metadata": {},
   "source": [
    "### 04) WAP to create a list of tuples from given list having number and its cube in each tuple."
   ]
  },
  {
   "cell_type": "code",
   "execution_count": 115,
   "metadata": {},
   "outputs": [
    {
     "name": "stdout",
     "output_type": "stream",
     "text": [
      "List of tuples :  [(1, 1), (2, 8), (3, 27), (4, 64), (5, 125)]\n"
     ]
    }
   ],
   "source": [
    "li = [1,2,3,4,5]\n",
    "\n",
    "ans = [(i,i**3) for i in li]\n",
    "\n",
    "print(\"List of tuples : \", ans)"
   ]
  },
  {
   "cell_type": "markdown",
   "metadata": {},
   "source": [
    "### 05) WAP to find tuples with all positive elements from the given list of tuples."
   ]
  },
  {
   "cell_type": "code",
   "execution_count": 123,
   "metadata": {},
   "outputs": [
    {
     "data": {
      "text/plain": [
       "[(1, 2, 3), (10, 20, 30)]"
      ]
     },
     "execution_count": 123,
     "metadata": {},
     "output_type": "execute_result"
    }
   ],
   "source": [
    "li = [(1,2,3),(-1,-2,-3),(1,-2,3),(10,20,30)]\n",
    "\n",
    "ans = []\n",
    "\n",
    "for t in li :\n",
    "    positive = True\n",
    "    \n",
    "    for i in t :\n",
    "        if i < 0 :\n",
    "            positive = False\n",
    "            break\n",
    "\n",
    "    if positive :\n",
    "        ans.append(t)\n",
    "\n",
    "ans"
   ]
  },
  {
   "cell_type": "code",
   "execution_count": 94,
   "metadata": {},
   "outputs": [
    {
     "data": {
      "text/plain": [
       "[(1, 2, 3), (10, 20, 30)]"
      ]
     },
     "execution_count": 94,
     "metadata": {},
     "output_type": "execute_result"
    }
   ],
   "source": [
    "li = [(1,2,3),(-1,-2,-3),(1,-2,3),(10,20,30)]\n",
    "\n",
    "ans = [t for t in li if all(i >= 0 for i in t)] \n",
    "\n",
    "ans"
   ]
  },
  {
   "cell_type": "markdown",
   "metadata": {},
   "source": [
    "### 06) WAP to add tuple to list and vice – versa."
   ]
  },
  {
   "cell_type": "code",
   "execution_count": 155,
   "metadata": {},
   "outputs": [
    {
     "name": "stdout",
     "output_type": "stream",
     "text": [
      "List : [4, 5, 6, (1, 2, 3)]\n"
     ]
    }
   ],
   "source": [
    "t = (1, 2, 3)\n",
    "l = [4, 5, 6]\n",
    "\n",
    "l.append(t)\n",
    "\n",
    "print(\"List :\", l)"
   ]
  },
  {
   "cell_type": "code",
   "execution_count": 162,
   "metadata": {},
   "outputs": [
    {
     "name": "stdout",
     "output_type": "stream",
     "text": [
      "Tuple : (1, 2, 3, [4, 5, 6])\n"
     ]
    }
   ],
   "source": [
    "t = (1, 2, 3)\n",
    "l = [4, 5, 6]\n",
    "\n",
    "t = list(t)\n",
    "t.append(l)\n",
    "t = tuple(t)\n",
    "\n",
    "print(\"Tuple :\", t)"
   ]
  },
  {
   "cell_type": "markdown",
   "metadata": {},
   "source": [
    "### 07) WAP to remove tuples of length K."
   ]
  },
  {
   "cell_type": "code",
   "execution_count": 119,
   "metadata": {},
   "outputs": [
    {
     "name": "stdout",
     "output_type": "stream",
     "text": [
      "Original list of tuples :  [(1, 2), (3, 4, 5), (6, 7, 8), (9, 10)]\n",
      "Modify list of tuples :  [(1, 2), (9, 10)]\n"
     ]
    }
   ],
   "source": [
    "lt = [(1, 2), (3, 4, 5), (6, 7, 8), (9, 10)]\n",
    "\n",
    "K = 3\n",
    "\n",
    "lt1 = [t for t in lt if len(t) != K]\n",
    "\n",
    "print(\"Original list of tuples : \",lt)\n",
    "print(\"Modify list of tuples : \",lt1)"
   ]
  },
  {
   "cell_type": "markdown",
   "metadata": {},
   "source": [
    "### 08) WAP to remove duplicates from tuple."
   ]
  },
  {
   "cell_type": "code",
   "execution_count": 170,
   "metadata": {},
   "outputs": [
    {
     "name": "stdout",
     "output_type": "stream",
     "text": [
      "Tuple after removing duplicates: (0, 1, 2, 3, 4, 5, 6, 7, 8, 9)\n"
     ]
    }
   ],
   "source": [
    "t = (1,2,2,3,4,4,5,6,6,7,8,8,9,0,0)\n",
    "\n",
    "t1 = tuple(set(t))\n",
    "\n",
    "print(\"Tuple after removing duplicates:\", t1)"
   ]
  },
  {
   "cell_type": "markdown",
   "metadata": {},
   "source": [
    "### 09) WAP to multiply adjacent elements of a tuple and print that resultant tuple."
   ]
  },
  {
   "cell_type": "code",
   "execution_count": 135,
   "metadata": {},
   "outputs": [
    {
     "name": "stdout",
     "output_type": "stream",
     "text": [
      "Resultant tuple after multiplying adjacent elements: (2, 6, 12, 20)\n"
     ]
    }
   ],
   "source": [
    "t = (1, 2, 3, 4, 5)\n",
    "\n",
    "ans = tuple((t[i] * t[i+1]) for i in range(len(t)-1))\n",
    "\n",
    "print(\"Resultant tuple after multiplying adjacent elements:\", ans)"
   ]
  },
  {
   "cell_type": "markdown",
   "metadata": {},
   "source": [
    "### 10) WAP to test if the given tuple is distinct or not."
   ]
  },
  {
   "cell_type": "code",
   "execution_count": 172,
   "metadata": {},
   "outputs": [
    {
     "name": "stdout",
     "output_type": "stream",
     "text": [
      "The tuple is not distinct !!\n"
     ]
    }
   ],
   "source": [
    "t = (1, 2, 3, 4, 4, 5)\n",
    "\n",
    "if len(t) == len(set(t)):\n",
    "    print(\"The tuple is distinct !!\")\n",
    "else:\n",
    "    print(\"The tuple is not distinct !!\")"
   ]
  },
  {
   "cell_type": "code",
   "execution_count": 174,
   "metadata": {},
   "outputs": [
    {
     "name": "stdout",
     "output_type": "stream",
     "text": [
      "The tuple is distinct !!\n"
     ]
    }
   ],
   "source": [
    "t = (1, 2, 3, 4, 5)\n",
    "\n",
    "if len(t) == len(set(t)):\n",
    "    print(\"The tuple is distinct !!\")\n",
    "else:\n",
    "    print(\"The tuple is not distinct !!\")"
   ]
  }
 ],
 "metadata": {
  "kernelspec": {
   "display_name": "Python 3 (ipykernel)",
   "language": "python",
   "name": "python3"
  },
  "language_info": {
   "codemirror_mode": {
    "name": "ipython",
    "version": 3
   },
   "file_extension": ".py",
   "mimetype": "text/x-python",
   "name": "python",
   "nbconvert_exporter": "python",
   "pygments_lexer": "ipython3",
   "version": "3.12.7"
  }
 },
 "nbformat": 4,
 "nbformat_minor": 4
}
