{
 "cells": [
  {
   "cell_type": "markdown",
   "metadata": {},
   "source": [
    "<a href='https://www.darshan.ac.in/'> <img src='https://www.darshan.ac.in/Content/media/DU_Logo.svg' width=\"250\" height=\"300\"/></a>\n",
    "<pre>\n",
    "<center><b><h1>Python Programming - 2301CS404</b></center>\n",
    "<center><b><h1>Lab - 9</b></center>  \n",
    "<center><b><h1>Krisha Busa | 23010101039 | 27-01-2025</b></center> \n",
    "<pre>"
   ]
  },
  {
   "cell_type": "markdown",
   "metadata": {},
   "source": [
    "# File I/O"
   ]
  },
  {
   "cell_type": "markdown",
   "metadata": {},
   "source": [
    "### 01) WAP to read and display the contents of a text file. (also try to open the file in some other directory) \n",
    "#### - in the form of a string\n",
    "#### - line by line\n",
    "\n",
    "#### - in the form of a list"
   ]
  },
  {
   "cell_type": "code",
   "execution_count": 15,
   "metadata": {},
   "outputs": [
    {
     "name": "stdout",
     "output_type": "stream",
     "text": [
      "Heyy !\n",
      "Hello...\n",
      "Namaste :)\n"
     ]
    }
   ],
   "source": [
    "fp = open('Text1.txt', 'r')\n",
    "data = fp.read()\n",
    "print(data)\n",
    "fp.close()"
   ]
  },
  {
   "cell_type": "code",
   "execution_count": 19,
   "metadata": {},
   "outputs": [
    {
     "name": "stdout",
     "output_type": "stream",
     "text": [
      "Heyy !\n",
      "Hello...\n",
      "Namaste :)\n"
     ]
    }
   ],
   "source": [
    "fp = open('Text1.txt', 'r')\n",
    "for i in fp:\n",
    "    print(i.strip())\n",
    "fp.close()"
   ]
  },
  {
   "cell_type": "code",
   "execution_count": 29,
   "metadata": {},
   "outputs": [
    {
     "name": "stdout",
     "output_type": "stream",
     "text": [
      "Heyy !\n",
      "\n"
     ]
    }
   ],
   "source": [
    "fp = open('Text1.txt', 'r')\n",
    "l = fp.readline()\n",
    "print(l)\n",
    "fp.close()"
   ]
  },
  {
   "cell_type": "code",
   "execution_count": 21,
   "metadata": {},
   "outputs": [
    {
     "name": "stdout",
     "output_type": "stream",
     "text": [
      "['Heyy !\\n', 'Hello...\\n', 'Namaste :)']\n"
     ]
    }
   ],
   "source": [
    "fp = open('Text1.txt', 'r')\n",
    "l = fp.readlines()\n",
    "print(l)\n",
    "fp.close()"
   ]
  },
  {
   "cell_type": "markdown",
   "metadata": {},
   "source": [
    "### 02) WAP to create file named \"new.txt\" only if it doesn't exist."
   ]
  },
  {
   "cell_type": "code",
   "execution_count": 33,
   "metadata": {},
   "outputs": [],
   "source": [
    "fp = open('new.txt', 'w')"
   ]
  },
  {
   "cell_type": "markdown",
   "metadata": {},
   "source": [
    "### 03) WAP to read first 5 lines from the text file."
   ]
  },
  {
   "cell_type": "code",
   "execution_count": 53,
   "metadata": {},
   "outputs": [
    {
     "name": "stdout",
     "output_type": "stream",
     "text": [
      "Heyy !\n",
      "Hello...\n",
      "(*_*) | (*_*) \n",
      "Namaste :)\n",
      "#Welcome\n"
     ]
    }
   ],
   "source": [
    "fp = open('Text1.txt', 'r')\n",
    "for i in range(5) :\n",
    "    print(fp.readline(), end='') \n",
    "fp.close()"
   ]
  },
  {
   "cell_type": "code",
   "execution_count": 49,
   "metadata": {},
   "outputs": [
    {
     "name": "stdout",
     "output_type": "stream",
     "text": [
      "Heyy !\n",
      "Hello...\n",
      "(*_*) | (*_*)\n",
      "Namaste :)\n",
      "#Welcome\n"
     ]
    }
   ],
   "source": [
    "fp = open('Text1.txt', 'r')\n",
    "for i in range(5) :\n",
    "    l = fp.readline()\n",
    "    if l :\n",
    "        print(l.strip())\n",
    "    else :\n",
    "        break\n",
    "fp.close()"
   ]
  },
  {
   "cell_type": "markdown",
   "metadata": {},
   "source": [
    "### 04) WAP to find the longest word(s) in a file"
   ]
  },
  {
   "cell_type": "code",
   "execution_count": 114,
   "metadata": {},
   "outputs": [
    {
     "name": "stdout",
     "output_type": "stream",
     "text": [
      "Longest word : 33\n",
      "Longest word : ['Heyy...!!...Darshan_University...']\n"
     ]
    }
   ],
   "source": [
    "fp = open('Text1.txt', 'r')\n",
    "words = fp.read().split()\n",
    "\n",
    "longest_length = max(len(i) for i in words)\n",
    "longest_words = [i for i in words if len(i) == longest_length]\n",
    "\n",
    "print(\"Longest word :\", longest_length)\n",
    "print(\"Longest word :\", longest_words)\n",
    "fp.close() "
   ]
  },
  {
   "cell_type": "markdown",
   "metadata": {},
   "source": [
    "### 05) WAP to count the no. of lines, words and characters in a given text file."
   ]
  },
  {
   "cell_type": "code",
   "execution_count": 102,
   "metadata": {},
   "outputs": [
    {
     "name": "stdout",
     "output_type": "stream",
     "text": [
      "Lines : 7\n",
      "Words : 8\n",
      "Characters : 92\n"
     ]
    }
   ],
   "source": [
    "fp = open('Text1.txt', 'r')\n",
    "li = fp.readlines()\n",
    "\n",
    "lines = len(li)\n",
    "words = sum(len(i.split()) for i in li)\n",
    "characters = sum(len(i) for i in li)\n",
    "\n",
    "print(\"Lines :\", lines)\n",
    "print(\"Words :\", words)\n",
    "print(\"Characters :\", characters)\n",
    "\n",
    "fp.close()"
   ]
  },
  {
   "cell_type": "markdown",
   "metadata": {},
   "source": [
    "### 06) WAP to copy the content of a file to the another file."
   ]
  },
  {
   "cell_type": "code",
   "execution_count": 98,
   "metadata": {},
   "outputs": [
    {
     "name": "stdout",
     "output_type": "stream",
     "text": [
      "Content copied successfully !!\n"
     ]
    }
   ],
   "source": [
    "fp1 = open('Text1.txt', 'r')\n",
    "fp2 = open('new.txt', 'w')\n",
    "\n",
    "fp2.write(fp1.read())\n",
    "print(\"Content copied successfully !!\")\n",
    "\n",
    "fp1.close()\n",
    "fp2.close()"
   ]
  },
  {
   "cell_type": "markdown",
   "metadata": {},
   "source": [
    "### 07) WAP to find the size of the text file. "
   ]
  },
  {
   "cell_type": "code",
   "execution_count": 108,
   "metadata": {},
   "outputs": [
    {
     "name": "stdout",
     "output_type": "stream",
     "text": [
      "Size of the file : 92 bytes\n"
     ]
    }
   ],
   "source": [
    "fp = open('Text1.txt', 'r')\n",
    "content = fp.read()\n",
    "\n",
    "size = len(content)\n",
    "print(\"Size of the file :\", size, \"bytes\")\n",
    "\n",
    "fp.close()"
   ]
  },
  {
   "cell_type": "markdown",
   "metadata": {},
   "source": [
    "### 08) WAP to create an UDF named frequency to count occurances of the specific word in a given text file."
   ]
  },
  {
   "cell_type": "code",
   "execution_count": 56,
   "metadata": {},
   "outputs": [
    {
     "name": "stdout",
     "output_type": "stream",
     "text": [
      "The word Heyy appears 4 times in the file.\n"
     ]
    }
   ],
   "source": [
    "def frequency(f1, word) :\n",
    "    count = 0\n",
    "\n",
    "    fp = open(f1, 'r')\n",
    "    \n",
    "    content = fp.read()\n",
    "\n",
    "    words = content.split()\n",
    "\n",
    "    count = words.count(word)\n",
    "        \n",
    "    return count\n",
    "        \n",
    "f1 = \"Text1.txt\" \n",
    "word_to_search = \"Heyy\" \n",
    "\n",
    "count = frequency(f1, word_to_search)\n",
    "\n",
    "if count is not None :\n",
    "    print(\"The word\", word_to_search, \"appears\", count, \"times in the file.\")"
   ]
  },
  {
   "cell_type": "markdown",
   "metadata": {},
   "source": [
    "### 09) WAP to get the score of five subjects from the user, store them in a file. Fetch those marks and find the highest score."
   ]
  },
  {
   "cell_type": "code",
   "execution_count": 11,
   "metadata": {},
   "outputs": [
    {
     "name": "stdin",
     "output_type": "stream",
     "text": [
      "Enter the score of five subjects : 97\n",
      "Enter the score of five subjects : 91\n",
      "Enter the score of five subjects : 88\n",
      "Enter the score of five subjects : 95\n",
      "Enter the score of five subjects : 96\n"
     ]
    },
    {
     "name": "stdout",
     "output_type": "stream",
     "text": [
      "Scores : [97, 91, 88, 95, 96]\n",
      "Highest score : 97\n"
     ]
    }
   ],
   "source": [
    "file = open('scores.txt', 'w')\n",
    "\n",
    "scores = [int(input(\"Enter the score of five subjects :\")) for i in range(5)]\n",
    "file.write(\"\\n\".join(map(str, scores)))\n",
    "\n",
    "file.close()\n",
    "\n",
    "\n",
    "file = open('scores.txt', 'r')\n",
    "\n",
    "scores = list(map(int, file.readlines()))\n",
    "\n",
    "print(\"Scores :\", scores)\n",
    "print(\"Highest score :\", max(scores))\n",
    "\n",
    "file.close()"
   ]
  },
  {
   "cell_type": "markdown",
   "metadata": {},
   "source": [
    "### 10) WAP to write first 100 prime numbers to a file named primenumbers.txt \n",
    "(Note: each number should be in new line)"
   ]
  },
  {
   "cell_type": "code",
   "execution_count": 17,
   "metadata": {},
   "outputs": [],
   "source": [
    "def is_prime(n) :\n",
    "    if n < 2 :\n",
    "        return False \n",
    "    for i in range(2, int(n ** 0.5) + 1) :  \n",
    "        if n % i == 0 :\n",
    "            return False \n",
    "    return True \n",
    "\n",
    "def write_primes_to_file(filename, count) :\n",
    "    primes = []\n",
    "    n = 2 \n",
    "\n",
    "    while len(primes) < count :\n",
    "        if is_prime(n) :\n",
    "            primes.append(n)\n",
    "        n += 1\n",
    "\n",
    "    fp = open(filename, \"w\")\n",
    "    for i in primes :\n",
    "        fp.write(str(i) + \"\\n\") \n",
    "\n",
    "write_primes_to_file(\"primenumbers.txt\", 100)"
   ]
  },
  {
   "cell_type": "markdown",
   "metadata": {},
   "source": [
    "### 11) WAP to merge two files and write it in a new file."
   ]
  },
  {
   "cell_type": "code",
   "execution_count": 19,
   "metadata": {},
   "outputs": [],
   "source": [
    "def merge_files(f1, f2, f3) :\n",
    "    data1 = open(f1).read() \n",
    "    data2 = open(f2).read() \n",
    "\n",
    "    fp = open(f3, \"w\") \n",
    "    fp.write(data1 + \"\\n\" + data2)\n",
    "\n",
    "merge_files(\"text1.txt\", \"scores.txt\", \"merged_file.txt\")"
   ]
  },
  {
   "cell_type": "markdown",
   "metadata": {},
   "source": [
    "### 12) WAP to replace word1 by word2 of a text file. Write the updated data to new file"
   ]
  },
  {
   "cell_type": "code",
   "execution_count": 29,
   "metadata": {},
   "outputs": [],
   "source": [
    "def replace_word(f1, old_word, new_word, f2) :\n",
    "    fp = open(f1, \"r\")\n",
    "    data = fp.read() \n",
    "\n",
    "    updated_data = data.replace(old_word, new_word) \n",
    "\n",
    "    fp1 = open(f2, \"w\")\n",
    "    fp1.write(updated_data) \n",
    "\n",
    "replace_word(\"Text1.txt\", \"Heyy !\", \"Hiiiiiiii\", \"updated_data.txt\")"
   ]
  },
  {
   "cell_type": "markdown",
   "metadata": {},
   "source": [
    "### 13) Demonstrate tell() and seek() for all the cases(seek from beginning-end-current position) taking a suitable example of your choice."
   ]
  },
  {
   "cell_type": "code",
   "execution_count": 42,
   "metadata": {},
   "outputs": [
    {
     "name": "stdout",
     "output_type": "stream",
     "text": [
      "Current position after writing: 34\n",
      "Position after seek(6): 6\n",
      "Content from position 6:  this is a sample text file.\n",
      "Position after seek(3, 1): 3\n",
      "Position after seek(-10, 2): 10\n",
      "Content from the new position: s is a sample text file.\n"
     ]
    }
   ],
   "source": [
    "fp = open(\"example.txt\", \"w+\")\n",
    "\n",
    "fp.write(\"Hello, this is a sample text file.\")\n",
    "\n",
    "print(\"Current position after writing:\", fp.tell()) \n",
    "\n",
    "fp.seek(6) \n",
    "print(\"Position after seek(6):\", fp.tell())\n",
    "\n",
    "print(\"Content from position 6:\", fp.read())\n",
    "\n",
    "fp.seek(0)  \n",
    "fp.seek(6)  \n",
    "fp.seek(3) \n",
    "print(\"Position after seek(3, 1):\", fp.tell())\n",
    "\n",
    "fp.seek(10)  \n",
    "print(\"Position after seek(-10, 2):\", fp.tell())\n",
    "\n",
    "print(\"Content from the new position:\", fp.read())\n",
    "\n",
    "fp.close()"
   ]
  }
 ],
 "metadata": {
  "kernelspec": {
   "display_name": "Python 3 (ipykernel)",
   "language": "python",
   "name": "python3"
  },
  "language_info": {
   "codemirror_mode": {
    "name": "ipython",
    "version": 3
   },
   "file_extension": ".py",
   "mimetype": "text/x-python",
   "name": "python",
   "nbconvert_exporter": "python",
   "pygments_lexer": "ipython3",
   "version": "3.12.7"
  }
 },
 "nbformat": 4,
 "nbformat_minor": 4
}
