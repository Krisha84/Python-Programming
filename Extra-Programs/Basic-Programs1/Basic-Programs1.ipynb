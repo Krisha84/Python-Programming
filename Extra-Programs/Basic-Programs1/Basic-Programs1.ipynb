{
 "cells": [
  {
   "cell_type": "markdown",
   "id": "623e8258-3f39-4714-a038-c1f80c56eabb",
   "metadata": {},
   "source": [
    "## 1. Reverse a number"
   ]
  },
  {
   "cell_type": "code",
   "execution_count": 4,
   "id": "7dfae36d-a3dd-4634-8069-0263315e85f0",
   "metadata": {},
   "outputs": [
    {
     "name": "stdin",
     "output_type": "stream",
     "text": [
      "Enter a number:  8642\n"
     ]
    },
    {
     "name": "stdout",
     "output_type": "stream",
     "text": [
      "Reversed Number : 2468\n"
     ]
    }
   ],
   "source": [
    "n = int(input(\"Enter a number: \")) \n",
    "\n",
    "rev = 0 \n",
    "\n",
    "while n != 0 :\n",
    "    digit = n % 10\n",
    "    rev = rev * 10 + digit\n",
    "    n //= 10 \n",
    "\n",
    "print(\"Reversed Number :\", rev)"
   ]
  },
  {
   "cell_type": "markdown",
   "id": "2c45d0e8-515b-4e84-9ca7-0bb132b1bf2e",
   "metadata": {},
   "source": [
    "## 2. Find the GCD of two numbers."
   ]
  },
  {
   "cell_type": "code",
   "execution_count": 11,
   "id": "8358a215-ba88-4b5c-ad0a-f7d8e5cf215e",
   "metadata": {},
   "outputs": [
    {
     "name": "stdin",
     "output_type": "stream",
     "text": [
      "Enter one number:  4\n",
      "Enter second number:  6\n"
     ]
    },
    {
     "name": "stdout",
     "output_type": "stream",
     "text": [
      "GCD of 4 and 6 is 2\n"
     ]
    }
   ],
   "source": [
    "def gcd(a, b):\n",
    "\n",
    "    while b :\n",
    "        a, b = b, a % b\n",
    "    return a \n",
    "\n",
    "n1 = int(input(\"Enter one number: \")) \n",
    "\n",
    "n2 = int(input(\"Enter second number: \"))\n",
    "\n",
    "print(\"GCD of\", n1 ,\"and\", n2 ,\"is\", gcd(n1, n2))"
   ]
  },
  {
   "cell_type": "markdown",
   "id": "ec07f0c3-d524-49ea-9a9b-5b1fd71f373d",
   "metadata": {},
   "source": [
    "## 3. Find the sum of digits."
   ]
  },
  {
   "cell_type": "code",
   "execution_count": 21,
   "id": "ebb1d5d5-3982-43a4-bd39-ed2d88516ce9",
   "metadata": {},
   "outputs": [
    {
     "name": "stdin",
     "output_type": "stream",
     "text": [
      "Enter a number:  237\n"
     ]
    },
    {
     "name": "stdout",
     "output_type": "stream",
     "text": [
      "The sum of digits:  12\n"
     ]
    }
   ],
   "source": [
    "n = int(input(\"Enter a number: \")) \n",
    "\n",
    "sum = 0 \n",
    "\n",
    "while n != 0 :\n",
    "    sum += n % 10 \n",
    "    n //= 10 \n",
    "\n",
    "print(\"The sum of digits: \", sum)"
   ]
  },
  {
   "cell_type": "markdown",
   "id": "834214c4-ff4d-43f4-8156-1e840acff907",
   "metadata": {},
   "source": [
    "## 4. Check whether the string is Symmetrical or Palindrome."
   ]
  },
  {
   "cell_type": "code",
   "execution_count": 71,
   "id": "9a5b2f2b-b799-4fd0-ad27-ae9dede11d86",
   "metadata": {},
   "outputs": [
    {
     "name": "stdin",
     "output_type": "stream",
     "text": [
      "Enter a string:  level\n"
     ]
    },
    {
     "name": "stdout",
     "output_type": "stream",
     "text": [
      "The string level is symmetrical : False\n",
      "The string level is a palindrome : True\n"
     ]
    }
   ],
   "source": [
    "s1 = input(\"Enter a string: \")\n",
    "\n",
    "isSymmetrical = False\n",
    "isPalindrome = False\n",
    "\n",
    "if len(s1) % 2 == 0: \n",
    "    if s1[:len(s1)//2] == s1[len(s1)//2:] :\n",
    "        isSymmetrical = True\n",
    "        \n",
    "else: \n",
    "    if s1[:len(s1)//2] == s1[len(s1)//2 + 1:] :\n",
    "        isSymmetrical = True\n",
    "\n",
    "if s1 == s1[::-1]:\n",
    "    isPalindrome = True\n",
    "\n",
    "print(\"The string\", s1 ,\"is symmetrical :\", isSymmetrical)\n",
    "print(\"The string\", s1 ,\"is a palindrome :\", isPalindrome)"
   ]
  },
  {
   "cell_type": "markdown",
   "id": "cf603902-51da-420b-b1d4-86b6de823254",
   "metadata": {},
   "source": [
    "## 5. Reverse words in a given String."
   ]
  },
  {
   "cell_type": "code",
   "execution_count": 77,
   "id": "2afb9906-443d-4571-b235-ae00bff989e5",
   "metadata": {},
   "outputs": [
    {
     "name": "stdin",
     "output_type": "stream",
     "text": [
      "Enter a string:  Hello !! Python\n"
     ]
    },
    {
     "name": "stdout",
     "output_type": "stream",
     "text": [
      "Reversed string: Python !! Hello\n"
     ]
    }
   ],
   "source": [
    "s1 = input(\"Enter a string: \")\n",
    "\n",
    "words = s1.split()\n",
    "\n",
    "rev_words = words[::-1]\n",
    "\n",
    "rev_str = \" \".join(rev_words)\n",
    "\n",
    "print(\"Reversed words of the string:\", rev_str)"
   ]
  },
  {
   "cell_type": "code",
   "execution_count": 81,
   "id": "1e58d524-6976-43ce-806a-bd7a19e669a8",
   "metadata": {},
   "outputs": [
    {
     "name": "stdout",
     "output_type": "stream",
     "text": [
      "The reversed words of the string Hello Python...! is : Python...! Hello\n"
     ]
    }
   ],
   "source": [
    "def rev(s):\n",
    "    words = s.split()\n",
    "    rev = \" \".join(reversed(words))\n",
    "    \n",
    "    return rev\n",
    "\n",
    "s1 = \"Hello Python...!\"\n",
    "\n",
    "print(\"The reversed words of the string\", s1 ,\"is :\", rev(s1))"
   ]
  },
  {
   "cell_type": "markdown",
   "id": "baaa0d97-2884-450a-86e7-828f56d4b9bb",
   "metadata": {},
   "source": [
    "## 6. Remove Kth character from string."
   ]
  },
  {
   "cell_type": "code",
   "execution_count": 93,
   "id": "4273ff6c-1f8b-4b4f-8ecf-96217600f140",
   "metadata": {},
   "outputs": [
    {
     "name": "stdin",
     "output_type": "stream",
     "text": [
      "Enter a string :  Helllo..!!\n",
      "Enter the index of the char :  4\n"
     ]
    },
    {
     "name": "stdout",
     "output_type": "stream",
     "text": [
      "String after removing the Kth character : Hello..!!\n"
     ]
    }
   ],
   "source": [
    "s1 = input(\"Enter a string : \")\n",
    "k = int(input(\"Enter the index of the char : \"))\n",
    "\n",
    "if 1 <= k <= len(s1) :\n",
    "    modified_string = s1[:k-1] + s1[k:]\n",
    "    print(\"String after removing the Kth character :\", modified_string)\n",
    "    \n",
    "else :\n",
    "    print(\"Oops !! Invalid Index...\")"
   ]
  },
  {
   "cell_type": "code",
   "execution_count": 99,
   "id": "ed85d14a-48b9-4f7b-8614-2d42a42bff75",
   "metadata": {},
   "outputs": [
    {
     "name": "stdin",
     "output_type": "stream",
     "text": [
      "Enter a string :  Krisha%Busa\n",
      "Enter the index of the char :  6\n"
     ]
    },
    {
     "name": "stdout",
     "output_type": "stream",
     "text": [
      "String after removing the Kth character : KrishaBusa\n"
     ]
    }
   ],
   "source": [
    "def remove_character(s, i):\n",
    "    return s[:i] + s[i+1:]\n",
    "\n",
    "s1 = input(\"Enter a string : \")\n",
    "k = int(input(\"Enter the index of the char : \"))\n",
    "\n",
    "print(\"String after removing the Kth character :\", remove_character(s1, k))"
   ]
  }
 ],
 "metadata": {
  "kernelspec": {
   "display_name": "Python 3 (ipykernel)",
   "language": "python",
   "name": "python3"
  },
  "language_info": {
   "codemirror_mode": {
    "name": "ipython",
    "version": 3
   },
   "file_extension": ".py",
   "mimetype": "text/x-python",
   "name": "python",
   "nbconvert_exporter": "python",
   "pygments_lexer": "ipython3",
   "version": "3.12.7"
  }
 },
 "nbformat": 4,
 "nbformat_minor": 5
}
