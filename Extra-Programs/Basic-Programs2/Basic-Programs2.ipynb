{
 "cells": [
  {
   "cell_type": "markdown",
   "id": "aae2fb5a-e481-41d1-a227-a6149b17755c",
   "metadata": {},
   "source": [
    "## 1. Find ASCII Value of Character"
   ]
  },
  {
   "cell_type": "code",
   "execution_count": 8,
   "id": "0823194a-9a2b-4292-9fa3-fb576b366c1e",
   "metadata": {},
   "outputs": [
    {
     "name": "stdin",
     "output_type": "stream",
     "text": [
      "Enter a character :  K\n"
     ]
    },
    {
     "name": "stdout",
     "output_type": "stream",
     "text": [
      "The ASCII value of given character is :  75\n"
     ]
    }
   ],
   "source": [
    "c = input(\"Enter a character : \")\n",
    "\n",
    "print(\"The ASCII value of given character is : \", ord (c ))"
   ]
  },
  {
   "cell_type": "markdown",
   "id": "30e3f517-9b6b-4acb-a86a-2cd4369fd67a",
   "metadata": {},
   "source": [
    "## 2. Find the nth Fibonacci Number"
   ]
  },
  {
   "cell_type": "code",
   "execution_count": 43,
   "id": "abce4a71-cd75-491e-9071-0e642dea0df5",
   "metadata": {},
   "outputs": [
    {
     "name": "stdin",
     "output_type": "stream",
     "text": [
      "Enter a number : 9\n"
     ]
    },
    {
     "name": "stdout",
     "output_type": "stream",
     "text": [
      "Fibonacci number is : 21\n"
     ]
    }
   ],
   "source": [
    "FiboArray = [0, 1]\n",
    "\n",
    "def fibonacci(n) :\n",
    "    if n < 0 :\n",
    "        print(\"Oops !! Incorrect input...\")\n",
    "\n",
    "    elif n <= len(FiboArray) :\n",
    "        return FiboArray[n-1]\n",
    "        \n",
    "    else :\n",
    "        x = fibonacci(n-1) + fibonacci(n-2)\n",
    "        FiboArray.append(x)\n",
    "\n",
    "        return x\n",
    "\n",
    "n = int(input(\"Enter a number :\"))\n",
    "print(\"Fibonacci number is :\", fibonacci(n))"
   ]
  },
  {
   "cell_type": "markdown",
   "id": "2eebd6ed-0d0c-4ae0-8006-cea89fe69263",
   "metadata": {},
   "source": [
    "## 3. Using a loop"
   ]
  },
  {
   "cell_type": "code",
   "execution_count": 50,
   "id": "4b4f5a4c-78ef-4379-af54-7a4f92460587",
   "metadata": {},
   "outputs": [
    {
     "name": "stdin",
     "output_type": "stream",
     "text": [
      "Enter a number :  9\n"
     ]
    },
    {
     "name": "stdout",
     "output_type": "stream",
     "text": [
      "The 9 th Fibonacci number is : 21\n"
     ]
    }
   ],
   "source": [
    "def fibonacci(n) :\n",
    "    if n < 0 :\n",
    "        return \"Oops !! Invalid Input...\"\n",
    "        \n",
    "    elif n == 1 :\n",
    "        return 0\n",
    "        \n",
    "    elif n == 2 :\n",
    "        return 1\n",
    "    \n",
    "    a, b = 0, 1 \n",
    "    \n",
    "    for _ in range(3, n + 1) :\n",
    "        a, b = b, a + b \n",
    "        \n",
    "    return b\n",
    "\n",
    "n = int(input(\"Enter a number : \"))\n",
    "print(\"The\", n,\"th Fibonacci number is :\", fibonacci(n))"
   ]
  },
  {
   "cell_type": "markdown",
   "id": "1103e4e1-c136-43fa-b358-526d6cdd3988",
   "metadata": {},
   "source": [
    "## 4. Fibonacci sequence"
   ]
  },
  {
   "cell_type": "code",
   "execution_count": 56,
   "id": "e20a0ac3-cb7b-4b73-affb-7ac6e1cf32ee",
   "metadata": {},
   "outputs": [
    {
     "name": "stdin",
     "output_type": "stream",
     "text": [
      "Enter the number of terms:  9\n"
     ]
    },
    {
     "name": "stdout",
     "output_type": "stream",
     "text": [
      "Fibonacci sequence :\n",
      "0 1 1 2 3 5 8 13 21 "
     ]
    }
   ],
   "source": [
    "def fibonacci_recursive(n) :\n",
    "    if n <= 1 :\n",
    "        return n\n",
    "        \n",
    "    return fibonacci_recursive(n - 1) + fibonacci_recursive(n - 2)\n",
    "\n",
    "n = int(input(\"Enter the number of terms: \"))\n",
    "\n",
    "if n <= 0 :\n",
    "    print(\"Oops !! Invalid Input...\")\n",
    "    \n",
    "else :\n",
    "    print(\"Fibonacci sequence :\")\n",
    "    \n",
    "    for i in range(n) :\n",
    "        print(fibonacci_recursive(i), end=\" \") "
   ]
  },
  {
   "cell_type": "markdown",
   "id": "5c55ddd0-ce6c-4a40-aed1-b2e5bef4c9dc",
   "metadata": {},
   "source": [
    "## 5. Count the Number of Each Vowel in a given String"
   ]
  },
  {
   "cell_type": "code",
   "execution_count": 64,
   "id": "21537dcc-dd8d-48ca-8147-220b58c0feb3",
   "metadata": {},
   "outputs": [
    {
     "name": "stdin",
     "output_type": "stream",
     "text": [
      "Enter a string :  Krisha busa\n"
     ]
    },
    {
     "name": "stdout",
     "output_type": "stream",
     "text": [
      "{'a': 2, 'e': 0, 'i': 1, 'o': 0, 'u': 1}\n"
     ]
    }
   ],
   "source": [
    "def count_vowels(string) :\n",
    "    vowels = 'aeiou'\n",
    "    s = string.lower()  \n",
    "    count = {v: s.count(v) for v in vowels}\n",
    "    \n",
    "    return count\n",
    "\n",
    "s = input(\"Enter a string : \")\n",
    "print(count_vowels(s))"
   ]
  }
 ],
 "metadata": {
  "kernelspec": {
   "display_name": "Python 3 (ipykernel)",
   "language": "python",
   "name": "python3"
  },
  "language_info": {
   "codemirror_mode": {
    "name": "ipython",
    "version": 3
   },
   "file_extension": ".py",
   "mimetype": "text/x-python",
   "name": "python",
   "nbconvert_exporter": "python",
   "pygments_lexer": "ipython3",
   "version": "3.12.7"
  }
 },
 "nbformat": 4,
 "nbformat_minor": 5
}
