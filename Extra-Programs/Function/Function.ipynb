{
 "cells": [
  {
   "cell_type": "markdown",
   "id": "e78ae9fa-69e2-4a8d-8ff8-18f465e865f2",
   "metadata": {},
   "source": [
    "## Function"
   ]
  },
  {
   "cell_type": "markdown",
   "id": "cbf65ec5-feb5-4c73-84c5-9f0affbdce4d",
   "metadata": {},
   "source": [
    "## 1. Print Hello Python."
   ]
  },
  {
   "cell_type": "code",
   "execution_count": 3,
   "id": "0a4f6d6a-de1a-4ddd-beeb-f10c4c99e2cd",
   "metadata": {},
   "outputs": [
    {
     "name": "stdout",
     "output_type": "stream",
     "text": [
      "Hello !! Python...\n"
     ]
    }
   ],
   "source": [
    "def Hello() :\n",
    "    print(\"Hello !! Python...\")\n",
    "\n",
    "Hello()"
   ]
  },
  {
   "cell_type": "markdown",
   "id": "0268f6ee-d713-4294-8433-8759560fe205",
   "metadata": {},
   "source": [
    "## 2. Function to Calculate Area of a Circle."
   ]
  },
  {
   "cell_type": "code",
   "execution_count": 10,
   "id": "ee30c69f-f7df-4b42-a6d4-76931ddf25dd",
   "metadata": {},
   "outputs": [
    {
     "name": "stdin",
     "output_type": "stream",
     "text": [
      "Enter the radius of a circle : 10\n"
     ]
    },
    {
     "name": "stdout",
     "output_type": "stream",
     "text": [
      "The area of a circle : 314.1592653589793\n"
     ]
    }
   ],
   "source": [
    "import math\n",
    "\n",
    "def area_of_circle(radius):\n",
    "    '''Calculate and return the area of a circle...'''\n",
    "    return (math.pi * radius**2)\n",
    "\n",
    "r = int(input(\"Enter the radius of a circle :\"))\n",
    "print(\"The area of a circle :\", area_of_circle(r))"
   ]
  },
  {
   "cell_type": "markdown",
   "id": "93dff973-9de1-46b0-9eda-a1232ae494a4",
   "metadata": {},
   "source": [
    "## 3. Function that returns square of a number."
   ]
  },
  {
   "cell_type": "code",
   "execution_count": 13,
   "id": "f90768b8-7a58-489c-b215-0475be345c2e",
   "metadata": {},
   "outputs": [
    {
     "name": "stdin",
     "output_type": "stream",
     "text": [
      "Enter the number : 11\n"
     ]
    },
    {
     "data": {
      "text/plain": [
       "121"
      ]
     },
     "execution_count": 13,
     "metadata": {},
     "output_type": "execute_result"
    }
   ],
   "source": [
    "def square(x) :\n",
    "    return x**2\n",
    "\n",
    "n = int(input(\"Enter the number :\"))\n",
    "square(n)"
   ]
  },
  {
   "cell_type": "markdown",
   "id": "98f63930-9c14-4260-b0ff-82590e01e525",
   "metadata": {},
   "source": [
    "## 4. Function to Find the Largest of Three Numbers."
   ]
  },
  {
   "cell_type": "code",
   "execution_count": 20,
   "id": "10220c21-953b-4824-b517-4b45dde0a1cb",
   "metadata": {},
   "outputs": [
    {
     "name": "stdin",
     "output_type": "stream",
     "text": [
      "Enter a number 1 : 10\n",
      "Enter a number 2 : 30\n",
      "Enter a number 3 : 20\n"
     ]
    },
    {
     "name": "stdout",
     "output_type": "stream",
     "text": [
      "The largest number :  30\n"
     ]
    }
   ],
   "source": [
    "def find_largest(a, b, c) :\n",
    "    return max(a, b, c)\n",
    "\n",
    "\n",
    "n1 = int(input(\"Enter a number 1 :\"))\n",
    "n2 = int(input(\"Enter a number 2 :\"))\n",
    "n3 = int(input(\"Enter a number 3 :\"))\n",
    "print(\"The largest number : \",find_largest(n1, n2, n3))"
   ]
  },
  {
   "cell_type": "markdown",
   "id": "c5200cad-c791-4677-b192-4c43dfb08cce",
   "metadata": {},
   "source": [
    "## 5. Function to Count Vowels in a String."
   ]
  },
  {
   "cell_type": "code",
   "execution_count": 33,
   "id": "4e89c6bc-0ba3-4fbe-976c-aff89e8e9aab",
   "metadata": {},
   "outputs": [
    {
     "name": "stdin",
     "output_type": "stream",
     "text": [
      "Enter a string : Hello...Python\n"
     ]
    },
    {
     "name": "stdout",
     "output_type": "stream",
     "text": [
      "Count of vowels : 3\n"
     ]
    }
   ],
   "source": [
    "def count_vowels(s) :\n",
    "    vowels = \"aeiouAEIOU\"\n",
    "    return sum(1 for char in s if char in vowels)\n",
    "\n",
    "s1 = input(\"Enter a string :\")\n",
    "print(\"Count of vowels :\",count_vowels(s1))"
   ]
  },
  {
   "cell_type": "markdown",
   "id": "c2a9c9d6-de39-4638-a060-02b9d245c906",
   "metadata": {},
   "source": [
    "## 6. Function to Convert Celsius to Fahrenheit."
   ]
  },
  {
   "cell_type": "code",
   "execution_count": 31,
   "id": "e7430cc8-b190-4ca1-9393-73dc84de5c05",
   "metadata": {},
   "outputs": [
    {
     "name": "stdin",
     "output_type": "stream",
     "text": [
      "Enter celsius : 100\n"
     ]
    },
    {
     "name": "stdout",
     "output_type": "stream",
     "text": [
      "212.0\n"
     ]
    }
   ],
   "source": [
    "def celsius_to_fahrenheit(celsius) :\n",
    "    '''Convert Celsius to Fahrenheit...'''\n",
    "    return (celsius * 9/5) + 32\n",
    "\n",
    "c = int(input(\"Enter celsius :\"))\n",
    "print(celsius_to_fahrenheit(c))"
   ]
  },
  {
   "cell_type": "markdown",
   "id": "7973e6e5-3145-4f53-b833-5506919c929a",
   "metadata": {},
   "source": [
    "## 7. Function to Calculate the Factorial of a Number."
   ]
  },
  {
   "cell_type": "code",
   "execution_count": 35,
   "id": "80808a0b-de23-4950-b814-52d76591357c",
   "metadata": {},
   "outputs": [
    {
     "name": "stdin",
     "output_type": "stream",
     "text": [
      "Enter the number : 5\n"
     ]
    },
    {
     "name": "stdout",
     "output_type": "stream",
     "text": [
      "120\n"
     ]
    }
   ],
   "source": [
    "def factorial(n) :\n",
    "    if n == 0 or n == 1 :\n",
    "        return 1\n",
    "        \n",
    "    return n * factorial(n - 1)\n",
    "\n",
    "n = int(input(\"Enter the number :\"))\n",
    "print(factorial(n)) "
   ]
  },
  {
   "cell_type": "markdown",
   "id": "b747a8f7-5a0b-4865-9889-df21fd27d4ae",
   "metadata": {},
   "source": [
    "## 8. Function to Find Common Elements Between Two Lists."
   ]
  },
  {
   "cell_type": "code",
   "execution_count": 52,
   "id": "057d9a48-97bf-446c-a6de-e09d0c663d16",
   "metadata": {},
   "outputs": [
    {
     "name": "stdout",
     "output_type": "stream",
     "text": [
      "[1, 2, 3, 4, 5]\n",
      "[4, 5, 6, 7, 8]\n",
      "Common elements : [4, 5]\n"
     ]
    }
   ],
   "source": [
    "def common_elements(l1, l2) :\n",
    "    return list(set(l1) & set(l2))\n",
    "\n",
    "l1 = [1, 2, 3, 4, 5]\n",
    "l2 = [4, 5, 6, 7, 8]\n",
    "\n",
    "print(l1)\n",
    "print(l2)\n",
    "print(\"Common elements :\",common_elements(l1, l2))"
   ]
  },
  {
   "cell_type": "markdown",
   "id": "3041a659-6063-4e1e-8647-784db9d0cd11",
   "metadata": {},
   "source": [
    "## 9. Function to Find All Factors of a Number."
   ]
  },
  {
   "cell_type": "code",
   "execution_count": 63,
   "id": "c6a27b1f-2dac-4795-8ceb-b2e2ef4f7d89",
   "metadata": {},
   "outputs": [
    {
     "name": "stdin",
     "output_type": "stream",
     "text": [
      "Enter the number : 88\n"
     ]
    },
    {
     "name": "stdout",
     "output_type": "stream",
     "text": [
      "[1, 2, 4, 8, 11, 22, 44, 88]\n"
     ]
    }
   ],
   "source": [
    "def factors(n) :\n",
    "    return [i for i in range(1, n + 1) if n % i == 0]\n",
    "\n",
    "n = int(input(\"Enter the number :\"))\n",
    "print(factors(n))"
   ]
  },
  {
   "cell_type": "markdown",
   "id": "c5bc2bf3-85b1-4f71-b34c-3ffe9bf98339",
   "metadata": {},
   "source": [
    "## 10. Function to Check if a Number is Armstrong."
   ]
  },
  {
   "cell_type": "code",
   "execution_count": 84,
   "id": "b506d959-e87c-4fea-9dd6-f25839a6a1b7",
   "metadata": {},
   "outputs": [
    {
     "name": "stdin",
     "output_type": "stream",
     "text": [
      "Enter the number : 153\n"
     ]
    },
    {
     "name": "stdout",
     "output_type": "stream",
     "text": [
      "True\n"
     ]
    }
   ],
   "source": [
    "def is_armstrong(n) :\n",
    "    digits = str(n)\n",
    "    power = len(digits)\n",
    "    return n == sum(int(d) ** power for d in digits)\n",
    "\n",
    "n = int(input(\"Enter the number :\"))\n",
    "print(is_armstrong(n)) "
   ]
  }
 ],
 "metadata": {
  "kernelspec": {
   "display_name": "Python 3 (ipykernel)",
   "language": "python",
   "name": "python3"
  },
  "language_info": {
   "codemirror_mode": {
    "name": "ipython",
    "version": 3
   },
   "file_extension": ".py",
   "mimetype": "text/x-python",
   "name": "python",
   "nbconvert_exporter": "python",
   "pygments_lexer": "ipython3",
   "version": "3.12.7"
  }
 },
 "nbformat": 4,
 "nbformat_minor": 5
}
