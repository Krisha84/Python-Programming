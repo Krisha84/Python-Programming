{
 "cells": [
  {
   "cell_type": "markdown",
   "id": "1728942d-58d7-40c3-a6c1-dc8976de96c6",
   "metadata": {},
   "source": [
    "## 1. Binary Search Using Recursive"
   ]
  },
  {
   "cell_type": "code",
   "execution_count": 10,
   "id": "56b216ae-9ebb-40c7-8d49-88239240039d",
   "metadata": {},
   "outputs": [
    {
     "name": "stdin",
     "output_type": "stream",
     "text": [
      "Enter an element :  10\n"
     ]
    },
    {
     "name": "stdout",
     "output_type": "stream",
     "text": [
      "10 is present at index 3\n"
     ]
    }
   ],
   "source": [
    "def binary_search(arr, low, high, x):\n",
    "\n",
    "\tif high >= low :\n",
    "\t\tmid = (high + low) // 2\n",
    "\n",
    "\t\tif arr[mid] == x :\n",
    "\t\t\treturn mid\n",
    "\n",
    "\t\telif arr[mid] > x :\n",
    "\t\t\treturn binary_search(arr, low, mid - 1, x)\n",
    "\n",
    "\t\telse :\n",
    "\t\t\treturn binary_search(arr, mid + 1, high, x)\n",
    "\n",
    "\telse :\n",
    "\t\treturn -1\n",
    "\n",
    "arr = [ 2, 3, 4, 10, 40 ]\n",
    "\n",
    "x = int(input(\"Enter an element : \"))\n",
    "\n",
    "result = binary_search(arr, 0, len(arr)-1, x)\n",
    "\n",
    "if result != -1 :\n",
    "\tprint(x, \"is present at index\", str(result))\n",
    "else:\n",
    "\tprint(x, \"is not present in array\")"
   ]
  },
  {
   "cell_type": "markdown",
   "id": "0fbc6c78-fd4d-490d-b79d-16de1d7ea3b6",
   "metadata": {},
   "source": [
    "## 2. Binary Search Using Iterative "
   ]
  },
  {
   "cell_type": "code",
   "execution_count": 13,
   "id": "3beafab9-f900-4440-b11e-bc522f893b23",
   "metadata": {},
   "outputs": [
    {
     "name": "stdin",
     "output_type": "stream",
     "text": [
      "Enter an element :  10\n"
     ]
    },
    {
     "name": "stdout",
     "output_type": "stream",
     "text": [
      "10 is present at index 3\n"
     ]
    }
   ],
   "source": [
    "def binary_search(arr, x) :\n",
    "\tlow = 0\n",
    "\thigh = len(arr) - 1\n",
    "\tmid = 0\n",
    "\n",
    "\twhile low <= high :\n",
    "\t\tmid = (high + low) // 2\n",
    "\n",
    "\t\tif arr[mid] < x:\n",
    "\t\t\tlow = mid + 1\n",
    "\n",
    "\t\telif arr[mid] > x :\n",
    "\t\t\thigh = mid - 1\n",
    "\n",
    "\t\telse :\n",
    "\t\t\treturn mid\n",
    "            \n",
    "\treturn -1\n",
    "\n",
    "arr = [ 2, 3, 4, 10, 40 ]\n",
    "\n",
    "x = int(input(\"Enter an element : \"))\n",
    "    \n",
    "result = binary_search(arr, x)\n",
    "\n",
    "if result != -1 :\n",
    "\tprint(x, \"is present at index\", str(result))\n",
    "else:\n",
    "\tprint(x, \"is not present in array\")"
   ]
  },
  {
   "cell_type": "markdown",
   "id": "03f7bb66-afcf-450c-8311-969b873bad03",
   "metadata": {},
   "source": [
    "## 3. Linear Search Iterative Approach"
   ]
  },
  {
   "cell_type": "code",
   "execution_count": 18,
   "id": "b6dc01dd-25cf-4b5c-ad9f-55b49d72472c",
   "metadata": {},
   "outputs": [
    {
     "name": "stdin",
     "output_type": "stream",
     "text": [
      "Enter an element :  70\n"
     ]
    },
    {
     "name": "stdout",
     "output_type": "stream",
     "text": [
      "70 found at index : 3\n"
     ]
    }
   ],
   "source": [
    "def linear_search(arr, target) :\n",
    "    for index in range(len(arr)) :\n",
    "        if arr[index] == target :\n",
    "            return index\n",
    "            \n",
    "    return -1\n",
    "\n",
    "\n",
    "arr = [10, 23, 45, 70, 11, 15]\n",
    "\n",
    "x = int(input(\"Enter an element : \"))\n",
    "\n",
    "result = linear_search(arr, x)\n",
    "\n",
    "if result != -1:\n",
    "    print(x, \"found at index :\", result)\n",
    "else:\n",
    "    print(x, \"not found in the array\")"
   ]
  }
 ],
 "metadata": {
  "kernelspec": {
   "display_name": "Python 3 (ipykernel)",
   "language": "python",
   "name": "python3"
  },
  "language_info": {
   "codemirror_mode": {
    "name": "ipython",
    "version": 3
   },
   "file_extension": ".py",
   "mimetype": "text/x-python",
   "name": "python",
   "nbconvert_exporter": "python",
   "pygments_lexer": "ipython3",
   "version": "3.12.7"
  }
 },
 "nbformat": 4,
 "nbformat_minor": 5
}
