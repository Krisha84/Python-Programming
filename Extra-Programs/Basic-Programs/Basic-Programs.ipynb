{
 "cells": [
  {
   "cell_type": "markdown",
   "id": "f8ae6e71-4c76-4b1a-b65c-8a9be6844db6",
   "metadata": {},
   "source": [
    "## 1. Check Armstrong number "
   ]
  },
  {
   "cell_type": "code",
   "execution_count": 40,
   "id": "9b6dd36f-ee62-4828-a32b-1e726965ea1b",
   "metadata": {},
   "outputs": [
    {
     "name": "stdin",
     "output_type": "stream",
     "text": [
      "Enter a number :  153\n"
     ]
    },
    {
     "name": "stdout",
     "output_type": "stream",
     "text": [
      "153 is an Armstrong number !!\n"
     ]
    }
   ],
   "source": [
    "a = int(input(\"Enter a number : \"))\n",
    "\n",
    "n = len(str(a))\n",
    "\n",
    "sum = 0\n",
    "temp = a\n",
    "\n",
    "while temp > 0 :\n",
    "   digit = temp % 10\n",
    "   sum += digit ** n\n",
    "   temp //= 10\n",
    "\n",
    "if a == sum :\n",
    "   print(a,\"is an Armstrong number !!\")\n",
    "else:\n",
    "   print(a,\"is not an Armstrong number !!\")"
   ]
  },
  {
   "cell_type": "markdown",
   "id": "f4f24fec-2007-47f3-a7ae-cdccd44c2206",
   "metadata": {},
   "source": [
    "## 2. Find Armstrog numbers in given range"
   ]
  },
  {
   "cell_type": "code",
   "execution_count": 9,
   "id": "b088cccb-52f3-480f-a117-5bf6c9e8f9ba",
   "metadata": {},
   "outputs": [
    {
     "name": "stdin",
     "output_type": "stream",
     "text": [
      "Enter a starting point :  100\n",
      "Enter a ending point :  2000\n"
     ]
    },
    {
     "name": "stdout",
     "output_type": "stream",
     "text": [
      "153\n",
      "370\n",
      "371\n",
      "407\n",
      "1634\n"
     ]
    }
   ],
   "source": [
    "s = int(input(\"Enter a starting point : \"))\n",
    "e = int(input(\"Enter a ending point : \"))\n",
    "\n",
    "for a in range(s, e + 1) :\n",
    "   n = len(str(a))\n",
    "\n",
    "   sum = 0\n",
    "   temp = a\n",
    "    \n",
    "   while temp > 0 :\n",
    "       digit = temp % 10\n",
    "       sum += digit ** n\n",
    "       temp //= 10\n",
    "\n",
    "   if a == sum:\n",
    "       print(a)"
   ]
  },
  {
   "cell_type": "markdown",
   "id": "f4c205e3-4a23-4307-9ee8-e8cb9159a6f8",
   "metadata": {},
   "source": [
    "## 3. Convert Decimal to Binary,Octal,Hexadecimal"
   ]
  },
  {
   "cell_type": "code",
   "execution_count": 20,
   "id": "2a35f05f-412e-4af9-923c-6ce515f2eb5f",
   "metadata": {},
   "outputs": [
    {
     "name": "stdin",
     "output_type": "stream",
     "text": [
      "Enter a decimal value :  14\n"
     ]
    },
    {
     "name": "stdout",
     "output_type": "stream",
     "text": [
      "Decimal     :  14\n",
      "Binary      :  0b1110\n",
      "Octal       :  0o16\n",
      "Hexadecimal :  0xe\n"
     ]
    }
   ],
   "source": [
    "decimal = int(input(\"Enter a decimal value : \"))\n",
    "\n",
    "print(\"Decimal     : \",decimal)\n",
    "print(\"Binary      : \",bin(decimal))\n",
    "print(\"Octal       : \",oct(decimal))\n",
    "print(\"Hexadecimal : \",hex(decimal))"
   ]
  },
  {
   "cell_type": "markdown",
   "id": "6d54f345-427e-40a1-86c1-f19a1ae95b5f",
   "metadata": {},
   "source": [
    "## 4. Check Whether a String is Palindrome or Not"
   ]
  },
  {
   "cell_type": "code",
   "execution_count": 38,
   "id": "652b0a70-cd24-49da-ae90-d9015b2d119d",
   "metadata": {},
   "outputs": [
    {
     "name": "stdin",
     "output_type": "stream",
     "text": [
      "Enter a string :  HeyyeH\n"
     ]
    },
    {
     "name": "stdout",
     "output_type": "stream",
     "text": [
      "The string is a palindrome !!\n"
     ]
    }
   ],
   "source": [
    "s1 = input(\"Enter a string : \")\n",
    "\n",
    "s1 = s1.lower()\n",
    "\n",
    "if s1 == s1[::-1] :\n",
    "    print(\"The string is a palindrome !!\")\n",
    "else:\n",
    "    print(\"The string is not a palindrome !!\")"
   ]
  },
  {
   "cell_type": "markdown",
   "id": "497f0685-e748-4b67-a618-c2dcb045607c",
   "metadata": {},
   "source": [
    "## 5. Sort alphabetically the words from a string"
   ]
  },
  {
   "cell_type": "code",
   "execution_count": 61,
   "id": "a7d01733-febd-425f-8d10-5f265e28c726",
   "metadata": {},
   "outputs": [
    {
     "name": "stdin",
     "output_type": "stream",
     "text": [
      "Enter a string :  Heyy this is python\n"
     ]
    },
    {
     "name": "stdout",
     "output_type": "stream",
     "text": [
      "The sorted words are :\n",
      "heyy \n",
      "is \n",
      "python \n",
      "this\n"
     ]
    }
   ],
   "source": [
    "s = input(\"Enter a string : \")\n",
    "\n",
    "words = sorted(s.lower().split())\n",
    "\n",
    "print(\"The sorted words are :\")\n",
    "print(\" \\n\".join(words))"
   ]
  },
  {
   "cell_type": "markdown",
   "id": "a75927a3-428d-4bee-988e-ecd1407cfe57",
   "metadata": {},
   "source": [
    "## 6. Pattern-1 (Half Pyramid-*)"
   ]
  },
  {
   "cell_type": "code",
   "execution_count": 65,
   "id": "0d5ca9a2-a6f0-465c-a037-c712a48f38bf",
   "metadata": {},
   "outputs": [
    {
     "name": "stdin",
     "output_type": "stream",
     "text": [
      "Enter number of rows:  5\n"
     ]
    },
    {
     "name": "stdout",
     "output_type": "stream",
     "text": [
      "* \n",
      "* * \n",
      "* * * \n",
      "* * * * \n",
      "* * * * * \n"
     ]
    }
   ],
   "source": [
    "n = int(input(\"Enter number of rows: \"))\n",
    "\n",
    "for i in range(n) :\n",
    "    for j in range(i+1) :\n",
    "        print(\"* \", end=\"\")\n",
    "    print()"
   ]
  },
  {
   "cell_type": "markdown",
   "id": "2dbc618c-400a-4442-bc37-c1e6ba32337a",
   "metadata": {},
   "source": [
    "## 7. Pattern-2 (Half Pyramid-numbers)"
   ]
  },
  {
   "cell_type": "code",
   "execution_count": 69,
   "id": "9918fde0-04fe-40ed-bbd3-6d8ca7cbe6e2",
   "metadata": {},
   "outputs": [
    {
     "name": "stdin",
     "output_type": "stream",
     "text": [
      "Enter number of rows:  5\n"
     ]
    },
    {
     "name": "stdout",
     "output_type": "stream",
     "text": [
      "1 \n",
      "1 2 \n",
      "1 2 3 \n",
      "1 2 3 4 \n",
      "1 2 3 4 5 \n"
     ]
    }
   ],
   "source": [
    "n = int(input(\"Enter number of rows: \"))\n",
    "\n",
    "for i in range(n) :\n",
    "    for j in range(i+1) :\n",
    "        print(j+1, end=\" \")\n",
    "    print()"
   ]
  },
  {
   "cell_type": "markdown",
   "id": "ea411fa5-b8cb-4e14-a691-3480cfad4ae1",
   "metadata": {},
   "source": [
    "## 8. Pattern-3 (inverted half pyramid-*)"
   ]
  },
  {
   "cell_type": "code",
   "execution_count": 72,
   "id": "a2b48838-4b85-425c-b2a3-c1e4a1590689",
   "metadata": {},
   "outputs": [
    {
     "name": "stdin",
     "output_type": "stream",
     "text": [
      "Enter number of rows:  5\n"
     ]
    },
    {
     "name": "stdout",
     "output_type": "stream",
     "text": [
      "*  *  *  *  *  \n",
      "*  *  *  *  \n",
      "*  *  *  \n",
      "*  *  \n",
      "*  \n"
     ]
    }
   ],
   "source": [
    "n = int(input(\"Enter number of rows: \"))\n",
    "\n",
    "for i in range(n, 0, -1) :\n",
    "    for j in range(0, i) :\n",
    "        print(\"* \", end=\" \")   \n",
    "    print()"
   ]
  },
  {
   "cell_type": "markdown",
   "id": "a74dbb3a-c574-42f3-8819-9805c01da409",
   "metadata": {},
   "source": [
    "## 9. Pattern-4 (inverted half pyramid-numbers)"
   ]
  },
  {
   "cell_type": "code",
   "execution_count": 74,
   "id": "204aa1b1-144b-441a-8d72-5f563f7a3868",
   "metadata": {},
   "outputs": [
    {
     "name": "stdin",
     "output_type": "stream",
     "text": [
      "Enter number of rows:  5\n"
     ]
    },
    {
     "name": "stdout",
     "output_type": "stream",
     "text": [
      "1 2 3 4 5 \n",
      "1 2 3 4 \n",
      "1 2 3 \n",
      "1 2 \n",
      "1 \n"
     ]
    }
   ],
   "source": [
    "n = int(input(\"Enter number of rows: \"))\n",
    "\n",
    "for i in range(n, 0, -1) :\n",
    "    for j in range(1, i+1) :\n",
    "        print(j, end=\" \")   \n",
    "    print()"
   ]
  },
  {
   "cell_type": "markdown",
   "id": "d0be4e16-581a-4f53-b174-a63a4f61a2ef",
   "metadata": {},
   "source": [
    "## 10. Pattern-5 (Full Pyramid)"
   ]
  },
  {
   "cell_type": "code",
   "execution_count": 90,
   "id": "c923e2e6-30af-4baf-964a-aedd0b76fe51",
   "metadata": {},
   "outputs": [
    {
     "name": "stdin",
     "output_type": "stream",
     "text": [
      "Enter number of rows:  5\n"
     ]
    },
    {
     "name": "stdout",
     "output_type": "stream",
     "text": [
      "        * \n",
      "      * * * \n",
      "    * * * * * \n",
      "  * * * * * * * \n",
      "* * * * * * * * * \n"
     ]
    }
   ],
   "source": [
    "n = int(input(\"Enter number of rows: \"))\n",
    "k = 0\n",
    "\n",
    "for i in range(1, n+1) :\n",
    "    for space in range(1, (n-i)+1) :\n",
    "        print(end=\"  \")\n",
    "   \n",
    "    while k!=(2*i-1) :\n",
    "        print(\"* \", end=\"\")\n",
    "        k += 1\n",
    "        \n",
    "    k = 0\n",
    "    print()"
   ]
  },
  {
   "cell_type": "code",
   "execution_count": null,
   "id": "8f32cd43-ff3d-4eef-a51b-34084157aadc",
   "metadata": {},
   "outputs": [],
   "source": []
  }
 ],
 "metadata": {
  "kernelspec": {
   "display_name": "Python 3 (ipykernel)",
   "language": "python",
   "name": "python3"
  },
  "language_info": {
   "codemirror_mode": {
    "name": "ipython",
    "version": 3
   },
   "file_extension": ".py",
   "mimetype": "text/x-python",
   "name": "python",
   "nbconvert_exporter": "python",
   "pygments_lexer": "ipython3",
   "version": "3.12.7"
  }
 },
 "nbformat": 4,
 "nbformat_minor": 5
}
